{
 "cells": [
  {
   "cell_type": "code",
   "execution_count": 1,
   "metadata": {},
   "outputs": [],
   "source": [
    "import pandas as pd\n",
    "import numpy as np\n",
    "from sklearn.preprocessing import OneHotEncoder\n",
    "from sklearn.preprocessing import StandardScaler\n",
    "from sklearn.preprocessing import MaxAbsScaler\n",
    "from imblearn.pipeline import Pipeline\n",
    "from sklearn.compose import ColumnTransformer\n",
    "from sklearn import set_config\n",
    "set_config(display=\"diagram\")\n",
    "from xgboost import XGBClassifier\n",
    "from sklearn.metrics import confusion_matrix, ConfusionMatrixDisplay\n",
    "import matplotlib.pyplot as plt\n",
    "\n",
    "from imblearn.over_sampling import SMOTE\n",
    "from sklearn.metrics import plot_roc_curve, auc,roc_curve,roc_auc_score\n",
    "from sklearn.metrics import classification_report\n",
    "\n",
    "import warnings\n",
    "warnings.filterwarnings('ignore')\n",
    "\n",
    "from sklearn.metrics import mean_absolute_error\n",
    "from sklearn.metrics import mean_squared_error\n",
    "from sklearn.metrics import r2_score\n",
    "from sklearn.model_selection import GridSearchCV"
   ]
  },
  {
   "cell_type": "code",
   "execution_count": 2,
   "metadata": {},
   "outputs": [],
   "source": [
    "df = pd.read_csv('Taz_Water.csv')"
   ]
  },
  {
   "cell_type": "markdown",
   "metadata": {},
   "source": [
    "# A Bit of Data Cleaning"
   ]
  },
  {
   "cell_type": "code",
   "execution_count": 3,
   "metadata": {},
   "outputs": [],
   "source": [
    "df['funder'].fillna(value='Unknown',inplace=True)\n",
    "df['funder'].replace(to_replace = '0', value ='Unknown' , inplace=True)"
   ]
  },
  {
   "cell_type": "code",
   "execution_count": 4,
   "metadata": {},
   "outputs": [],
   "source": [
    "df['installer'].fillna(value='Unknown',inplace=True)  # filling null values with unknown\n",
    "df['installer'].replace(to_replace = '0', value ='Unknown' , inplace=True) # filling 0 values with unknownb"
   ]
  },
  {
   "cell_type": "code",
   "execution_count": 5,
   "metadata": {},
   "outputs": [],
   "source": [
    "# From the most common 100 value counts we realized some spelling mistakes or different syntax between same categories\n",
    "\n",
    "# Replacing the spelling mistakes and collect same categories in same name\n",
    "\n",
    "df['installer'].replace(to_replace = ('District Water Department', 'District water depar','Distric Water Department'),\n",
    "                        value ='District water department' , inplace=True)\n",
    "\n",
    "df['installer'].replace(to_replace = ('FinW','Fini water','FINI WATER'), value ='Fini Water' , inplace=True)\n",
    "df['installer'].replace(to_replace = 'JAICA', value ='Jaica' , inplace=True)\n",
    "\n",
    "df['installer'].replace(to_replace = ('COUN', 'District COUNCIL', 'DISTRICT COUNCIL','District Counci', \n",
    "                                      'District Council','Council','Counc','District  Council','Distri'),\n",
    "                                    value ='District council' , inplace=True)\n",
    "\n",
    "df['installer'].replace(to_replace = ('RC CHURCH', 'RC Churc', 'RC','RC Ch','RC C', 'RC CH','RC church', \n",
    "                                      'RC CATHORIC',) , value ='RC Church' , inplace=True)\n",
    "\n",
    "df['installer'].replace(to_replace = ('Central Government','Tanzania Government',\n",
    "                                       'central government','Cental Government', 'Cebtral Government', \n",
    "                                      'Tanzanian Government','Tanzania government', 'Centra Government' ,\n",
    "                                      'CENTRAL GOVERNMENT', 'TANZANIAN GOVERNMENT','Central govt', 'Centr', \n",
    "                                      'Centra govt') , value ='Central government' , inplace=True)\n",
    "\n",
    "df['installer'].replace(to_replace = ('World vision', 'World Division','World Vision'),\n",
    "                                        value ='world vision' , inplace=True)\n",
    "\n",
    "df['installer'].replace(to_replace = ('Unisef','UNICEF'),value ='Unicef' , inplace=True)\n",
    "df['installer'].replace(to_replace = 'DANID', value ='DANIDA' , inplace=True)\n",
    "\n",
    "df['installer'].replace(to_replace = ('villigers', 'villager', 'Villagers', 'Villa', 'Village', 'Villi', \n",
    "                                      'Village Council','Village Counil', 'Villages', 'Vill', 'Village community', \n",
    "                                      'Villaers', 'Village Community', 'Villag','Villege Council', 'Village council',\n",
    "                                      'Village  Council','Villagerd', 'Villager', 'Village Technician',\n",
    "                                      'Village Office','Village community members'),\n",
    "                                        value ='villagers' , inplace=True)\n",
    "\n",
    "df['installer'].replace(to_replace =('Commu','Communit','commu','COMMU', 'COMMUNITY') ,\n",
    "                                        value ='Community' , inplace=True)\n",
    "\n",
    "df['installer'].replace(to_replace = ('GOVERNMENT', 'GOVER', 'GOVERNME', 'GOVERM','GOVERN','Gover','Gove',\n",
    "                                      'Governme','Governmen' ) ,value ='Government' , inplace=True)\n",
    "\n",
    "df['installer'].replace(to_replace = 'Hesawa' ,value ='HESAWA' , inplace=True)"
   ]
  },
  {
   "cell_type": "code",
   "execution_count": 6,
   "metadata": {},
   "outputs": [],
   "source": [
    "# continue to replacing spellin mistakes and getting together values\n",
    "df['installer'].replace(to_replace = ('Colonial Government') , value ='Colonial government' , inplace=True)\n",
    "df['installer'].replace(to_replace = ('Government of Misri') , value ='Misri Government' , inplace=True)\n",
    "df['installer'].replace(to_replace = ('Italy government') , value ='Italian government' , inplace=True)\n",
    "df['installer'].replace(to_replace = ('British colonial government') , value ='British government' , inplace=True)\n",
    "df['installer'].replace(to_replace = ('Concern /government') , value ='Concern/Government' , inplace=True)\n",
    "df['installer'].replace(to_replace = ('Village Government') , value ='Village government' , inplace=True)\n",
    "df['installer'].replace(to_replace = ('Government and Community') , value ='Government /Community' , inplace=True)\n",
    "df['installer'].replace(to_replace = ('Cetral government /RC') , value ='RC church/Central Gover' , inplace=True)\n",
    "df['installer'].replace(to_replace = ('Government /TCRS','Government/TCRS') , value ='TCRS /Government' , inplace=True)\n",
    "df['installer'].replace(to_replace = ('ADRA /Government') , value ='ADRA/Government' , inplace=True)"
   ]
  },
  {
   "cell_type": "code",
   "execution_count": null,
   "metadata": {},
   "outputs": [],
   "source": []
  },
  {
   "cell_type": "markdown",
   "metadata": {},
   "source": [
    "# Unnessary Columns for preditive model"
   ]
  },
  {
   "cell_type": "code",
   "execution_count": 7,
   "metadata": {},
   "outputs": [],
   "source": [
    "pred_uncol = ['date_recorded','longitude','latitude','wpt_name','num_private','subvillage'\n",
    "              ,'recorded_by','scheme_name','ward','public_meeting',\n",
    "             'extraction_type','payment','quality_group','source_type','quantity',\n",
    "             'waterpoint_type_group','permit']"
   ]
  },
  {
   "cell_type": "code",
   "execution_count": 8,
   "metadata": {},
   "outputs": [
    {
     "data": {
      "text/html": [
       "<div>\n",
       "<style scoped>\n",
       "    .dataframe tbody tr th:only-of-type {\n",
       "        vertical-align: middle;\n",
       "    }\n",
       "\n",
       "    .dataframe tbody tr th {\n",
       "        vertical-align: top;\n",
       "    }\n",
       "\n",
       "    .dataframe thead th {\n",
       "        text-align: right;\n",
       "    }\n",
       "</style>\n",
       "<table border=\"1\" class=\"dataframe\">\n",
       "  <thead>\n",
       "    <tr style=\"text-align: right;\">\n",
       "      <th></th>\n",
       "      <th>id</th>\n",
       "      <th>amount_tsh</th>\n",
       "      <th>funder</th>\n",
       "      <th>gps_height</th>\n",
       "      <th>installer</th>\n",
       "      <th>basin</th>\n",
       "      <th>region</th>\n",
       "      <th>region_code</th>\n",
       "      <th>district_code</th>\n",
       "      <th>lga</th>\n",
       "      <th>...</th>\n",
       "      <th>extraction_type_class</th>\n",
       "      <th>management</th>\n",
       "      <th>management_group</th>\n",
       "      <th>payment_type</th>\n",
       "      <th>water_quality</th>\n",
       "      <th>quantity_group</th>\n",
       "      <th>source</th>\n",
       "      <th>source_class</th>\n",
       "      <th>waterpoint_type</th>\n",
       "      <th>status_group</th>\n",
       "    </tr>\n",
       "  </thead>\n",
       "  <tbody>\n",
       "    <tr>\n",
       "      <th>0</th>\n",
       "      <td>69572</td>\n",
       "      <td>6000.0</td>\n",
       "      <td>Roman</td>\n",
       "      <td>1390</td>\n",
       "      <td>Roman</td>\n",
       "      <td>Lake Nyasa</td>\n",
       "      <td>Iringa</td>\n",
       "      <td>11</td>\n",
       "      <td>5</td>\n",
       "      <td>Ludewa</td>\n",
       "      <td>...</td>\n",
       "      <td>gravity</td>\n",
       "      <td>vwc</td>\n",
       "      <td>user-group</td>\n",
       "      <td>annually</td>\n",
       "      <td>soft</td>\n",
       "      <td>enough</td>\n",
       "      <td>spring</td>\n",
       "      <td>groundwater</td>\n",
       "      <td>communal standpipe</td>\n",
       "      <td>functional</td>\n",
       "    </tr>\n",
       "    <tr>\n",
       "      <th>1</th>\n",
       "      <td>8776</td>\n",
       "      <td>0.0</td>\n",
       "      <td>Grumeti</td>\n",
       "      <td>1399</td>\n",
       "      <td>GRUMETI</td>\n",
       "      <td>Lake Victoria</td>\n",
       "      <td>Mara</td>\n",
       "      <td>20</td>\n",
       "      <td>2</td>\n",
       "      <td>Serengeti</td>\n",
       "      <td>...</td>\n",
       "      <td>gravity</td>\n",
       "      <td>wug</td>\n",
       "      <td>user-group</td>\n",
       "      <td>never pay</td>\n",
       "      <td>soft</td>\n",
       "      <td>insufficient</td>\n",
       "      <td>rainwater harvesting</td>\n",
       "      <td>surface</td>\n",
       "      <td>communal standpipe</td>\n",
       "      <td>functional</td>\n",
       "    </tr>\n",
       "    <tr>\n",
       "      <th>2</th>\n",
       "      <td>34310</td>\n",
       "      <td>25.0</td>\n",
       "      <td>Lottery Club</td>\n",
       "      <td>686</td>\n",
       "      <td>world vision</td>\n",
       "      <td>Pangani</td>\n",
       "      <td>Manyara</td>\n",
       "      <td>21</td>\n",
       "      <td>4</td>\n",
       "      <td>Simanjiro</td>\n",
       "      <td>...</td>\n",
       "      <td>gravity</td>\n",
       "      <td>vwc</td>\n",
       "      <td>user-group</td>\n",
       "      <td>per bucket</td>\n",
       "      <td>soft</td>\n",
       "      <td>enough</td>\n",
       "      <td>dam</td>\n",
       "      <td>surface</td>\n",
       "      <td>communal standpipe multiple</td>\n",
       "      <td>functional</td>\n",
       "    </tr>\n",
       "    <tr>\n",
       "      <th>3</th>\n",
       "      <td>67743</td>\n",
       "      <td>0.0</td>\n",
       "      <td>Unicef</td>\n",
       "      <td>263</td>\n",
       "      <td>Unicef</td>\n",
       "      <td>Ruvuma / Southern Coast</td>\n",
       "      <td>Mtwara</td>\n",
       "      <td>90</td>\n",
       "      <td>63</td>\n",
       "      <td>Nanyumbu</td>\n",
       "      <td>...</td>\n",
       "      <td>submersible</td>\n",
       "      <td>vwc</td>\n",
       "      <td>user-group</td>\n",
       "      <td>never pay</td>\n",
       "      <td>soft</td>\n",
       "      <td>dry</td>\n",
       "      <td>machine dbh</td>\n",
       "      <td>groundwater</td>\n",
       "      <td>communal standpipe multiple</td>\n",
       "      <td>non functional</td>\n",
       "    </tr>\n",
       "    <tr>\n",
       "      <th>4</th>\n",
       "      <td>19728</td>\n",
       "      <td>0.0</td>\n",
       "      <td>Action In A</td>\n",
       "      <td>0</td>\n",
       "      <td>Artisan</td>\n",
       "      <td>Lake Victoria</td>\n",
       "      <td>Kagera</td>\n",
       "      <td>18</td>\n",
       "      <td>1</td>\n",
       "      <td>Karagwe</td>\n",
       "      <td>...</td>\n",
       "      <td>gravity</td>\n",
       "      <td>other</td>\n",
       "      <td>other</td>\n",
       "      <td>never pay</td>\n",
       "      <td>soft</td>\n",
       "      <td>seasonal</td>\n",
       "      <td>rainwater harvesting</td>\n",
       "      <td>surface</td>\n",
       "      <td>communal standpipe</td>\n",
       "      <td>functional</td>\n",
       "    </tr>\n",
       "  </tbody>\n",
       "</table>\n",
       "<p>5 rows × 24 columns</p>\n",
       "</div>"
      ],
      "text/plain": [
       "      id  amount_tsh        funder  gps_height     installer  \\\n",
       "0  69572      6000.0         Roman        1390         Roman   \n",
       "1   8776         0.0       Grumeti        1399       GRUMETI   \n",
       "2  34310        25.0  Lottery Club         686  world vision   \n",
       "3  67743         0.0        Unicef         263        Unicef   \n",
       "4  19728         0.0   Action In A           0       Artisan   \n",
       "\n",
       "                     basin   region  region_code  district_code        lga  \\\n",
       "0               Lake Nyasa   Iringa           11              5     Ludewa   \n",
       "1            Lake Victoria     Mara           20              2  Serengeti   \n",
       "2                  Pangani  Manyara           21              4  Simanjiro   \n",
       "3  Ruvuma / Southern Coast   Mtwara           90             63   Nanyumbu   \n",
       "4            Lake Victoria   Kagera           18              1    Karagwe   \n",
       "\n",
       "   ...  extraction_type_class management  management_group payment_type  \\\n",
       "0  ...                gravity        vwc        user-group     annually   \n",
       "1  ...                gravity        wug        user-group    never pay   \n",
       "2  ...                gravity        vwc        user-group   per bucket   \n",
       "3  ...            submersible        vwc        user-group    never pay   \n",
       "4  ...                gravity      other             other    never pay   \n",
       "\n",
       "  water_quality quantity_group                source source_class  \\\n",
       "0          soft         enough                spring  groundwater   \n",
       "1          soft   insufficient  rainwater harvesting      surface   \n",
       "2          soft         enough                   dam      surface   \n",
       "3          soft            dry           machine dbh  groundwater   \n",
       "4          soft       seasonal  rainwater harvesting      surface   \n",
       "\n",
       "               waterpoint_type    status_group  \n",
       "0           communal standpipe      functional  \n",
       "1           communal standpipe      functional  \n",
       "2  communal standpipe multiple      functional  \n",
       "3  communal standpipe multiple  non functional  \n",
       "4           communal standpipe      functional  \n",
       "\n",
       "[5 rows x 24 columns]"
      ]
     },
     "execution_count": 8,
     "metadata": {},
     "output_type": "execute_result"
    }
   ],
   "source": [
    "pred_df = df.drop(pred_uncol,axis=1)\n",
    "pred_df.head()"
   ]
  },
  {
   "cell_type": "markdown",
   "metadata": {},
   "source": [
    "# Setting target to binary"
   ]
  },
  {
   "cell_type": "code",
   "execution_count": 9,
   "metadata": {},
   "outputs": [],
   "source": [
    "pred_df['status_group'] = pred_df['status_group'].replace('functional needs repair','functional')"
   ]
  },
  {
   "cell_type": "markdown",
   "metadata": {},
   "source": [
    "# Checking each columns"
   ]
  },
  {
   "cell_type": "code",
   "execution_count": 10,
   "metadata": {},
   "outputs": [
    {
     "data": {
      "text/plain": [
       "amount_tsh                  0\n",
       "funder                      0\n",
       "gps_height                  0\n",
       "installer                   0\n",
       "basin                       0\n",
       "region                      0\n",
       "region_code                 0\n",
       "district_code               0\n",
       "lga                         0\n",
       "population                  0\n",
       "scheme_management        3877\n",
       "construction_year           0\n",
       "extraction_type_group       0\n",
       "extraction_type_class       0\n",
       "management                  0\n",
       "management_group            0\n",
       "payment_type                0\n",
       "water_quality               0\n",
       "quantity_group              0\n",
       "source                      0\n",
       "source_class                0\n",
       "waterpoint_type             0\n",
       "status_group                0\n",
       "dtype: int64"
      ]
     },
     "execution_count": 10,
     "metadata": {},
     "output_type": "execute_result"
    }
   ],
   "source": [
    "dd = pred_df.drop('id',axis=1)\n",
    "dd.isna().sum()"
   ]
  },
  {
   "cell_type": "code",
   "execution_count": 11,
   "metadata": {},
   "outputs": [
    {
     "data": {
      "text/plain": [
       "functional        36576\n",
       "non functional    22824\n",
       "Name: status_group, dtype: int64"
      ]
     },
     "execution_count": 11,
     "metadata": {},
     "output_type": "execute_result"
    }
   ],
   "source": [
    "dd['status_group'].value_counts()"
   ]
  },
  {
   "cell_type": "code",
   "execution_count": 12,
   "metadata": {},
   "outputs": [
    {
     "name": "stdout",
     "output_type": "stream",
     "text": [
      "<class 'pandas.core.frame.DataFrame'>\n",
      "RangeIndex: 59400 entries, 0 to 59399\n",
      "Data columns (total 23 columns):\n",
      " #   Column                 Non-Null Count  Dtype  \n",
      "---  ------                 --------------  -----  \n",
      " 0   amount_tsh             59400 non-null  float64\n",
      " 1   funder                 59400 non-null  object \n",
      " 2   gps_height             59400 non-null  int64  \n",
      " 3   installer              59400 non-null  object \n",
      " 4   basin                  59400 non-null  object \n",
      " 5   region                 59400 non-null  object \n",
      " 6   region_code            59400 non-null  int64  \n",
      " 7   district_code          59400 non-null  int64  \n",
      " 8   lga                    59400 non-null  object \n",
      " 9   population             59400 non-null  int64  \n",
      " 10  scheme_management      55523 non-null  object \n",
      " 11  construction_year      59400 non-null  int64  \n",
      " 12  extraction_type_group  59400 non-null  object \n",
      " 13  extraction_type_class  59400 non-null  object \n",
      " 14  management             59400 non-null  object \n",
      " 15  management_group       59400 non-null  object \n",
      " 16  payment_type           59400 non-null  object \n",
      " 17  water_quality          59400 non-null  object \n",
      " 18  quantity_group         59400 non-null  object \n",
      " 19  source                 59400 non-null  object \n",
      " 20  source_class           59400 non-null  object \n",
      " 21  waterpoint_type        59400 non-null  object \n",
      " 22  status_group           59400 non-null  object \n",
      "dtypes: float64(1), int64(5), object(17)\n",
      "memory usage: 10.4+ MB\n"
     ]
    }
   ],
   "source": [
    "dd.info()"
   ]
  },
  {
   "cell_type": "markdown",
   "metadata": {},
   "source": [
    "# Train test split"
   ]
  },
  {
   "cell_type": "code",
   "execution_count": 13,
   "metadata": {},
   "outputs": [],
   "source": [
    "X = dd.drop('status_group',axis=1)\n",
    "y = dd['status_group']"
   ]
  },
  {
   "cell_type": "code",
   "execution_count": 14,
   "metadata": {},
   "outputs": [],
   "source": [
    "from sklearn.model_selection import train_test_split\n",
    "\n",
    "X_train, X_test, y_train, y_test = train_test_split(X, y, test_size=0.30, random_state=42)"
   ]
  },
  {
   "cell_type": "markdown",
   "metadata": {},
   "source": [
    "# fixing the missing data"
   ]
  },
  {
   "cell_type": "markdown",
   "metadata": {},
   "source": [
    "## Train"
   ]
  },
  {
   "cell_type": "code",
   "execution_count": 15,
   "metadata": {},
   "outputs": [],
   "source": [
    "X_train[\"scheme_management\"].fillna(\"VWC\", inplace = True)\n",
    "X_train['construction_year'] = X_train['construction_year'].replace(0,np.nan)\n",
    "X_train['construction_year'] = X_train['construction_year'].apply(lambda x: x if pd.notnull(x) else np.random.randint(2000, 2010))"
   ]
  },
  {
   "cell_type": "markdown",
   "metadata": {},
   "source": [
    "## Test"
   ]
  },
  {
   "cell_type": "code",
   "execution_count": 16,
   "metadata": {},
   "outputs": [],
   "source": [
    "X_test[\"scheme_management\"].fillna(\"VWC\", inplace = True)\n",
    "X_test['construction_year'] = X_test['construction_year'].replace(0,np.nan)\n",
    "X_test['construction_year'] = X_test['construction_year'].apply(lambda x: x if pd.notnull(x) else np.random.randint(2000, 2010))"
   ]
  },
  {
   "cell_type": "markdown",
   "metadata": {},
   "source": [
    "# Pipe lines"
   ]
  },
  {
   "cell_type": "code",
   "execution_count": 17,
   "metadata": {},
   "outputs": [],
   "source": [
    "cat_cols = X_train.select_dtypes('object').columns\n",
    "num_cols = X_train.select_dtypes(['int','float']).columns\n",
    "\n",
    "\n",
    "numeric_pipe = Pipeline([('numnorm',StandardScaler())])\n",
    "\n",
    "nominal_pipe = Pipeline([\n",
    "    ('onehotenc', OneHotEncoder(sparse=False, handle_unknown = 'ignore')),\n",
    "    ('onehotnorm', StandardScaler())\n",
    "])"
   ]
  },
  {
   "cell_type": "code",
   "execution_count": 18,
   "metadata": {},
   "outputs": [
    {
     "data": {
      "text/html": [
       "<style>div.sk-top-container {color: black;background-color: white;}div.sk-toggleable {background-color: white;}label.sk-toggleable__label {cursor: pointer;display: block;width: 100%;margin-bottom: 0;padding: 0.2em 0.3em;box-sizing: border-box;text-align: center;}div.sk-toggleable__content {max-height: 0;max-width: 0;overflow: hidden;text-align: left;background-color: #f0f8ff;}div.sk-toggleable__content pre {margin: 0.2em;color: black;border-radius: 0.25em;background-color: #f0f8ff;}input.sk-toggleable__control:checked~div.sk-toggleable__content {max-height: 200px;max-width: 100%;overflow: auto;}div.sk-estimator input.sk-toggleable__control:checked~label.sk-toggleable__label {background-color: #d4ebff;}div.sk-label input.sk-toggleable__control:checked~label.sk-toggleable__label {background-color: #d4ebff;}input.sk-hidden--visually {border: 0;clip: rect(1px 1px 1px 1px);clip: rect(1px, 1px, 1px, 1px);height: 1px;margin: -1px;overflow: hidden;padding: 0;position: absolute;width: 1px;}div.sk-estimator {font-family: monospace;background-color: #f0f8ff;margin: 0.25em 0.25em;border: 1px dotted black;border-radius: 0.25em;box-sizing: border-box;}div.sk-estimator:hover {background-color: #d4ebff;}div.sk-parallel-item::after {content: \"\";width: 100%;border-bottom: 1px solid gray;flex-grow: 1;}div.sk-label:hover label.sk-toggleable__label {background-color: #d4ebff;}div.sk-serial::before {content: \"\";position: absolute;border-left: 1px solid gray;box-sizing: border-box;top: 2em;bottom: 0;left: 50%;}div.sk-serial {display: flex;flex-direction: column;align-items: center;background-color: white;}div.sk-item {z-index: 1;}div.sk-parallel {display: flex;align-items: stretch;justify-content: center;background-color: white;}div.sk-parallel-item {display: flex;flex-direction: column;position: relative;background-color: white;}div.sk-parallel-item:first-child::after {align-self: flex-end;width: 50%;}div.sk-parallel-item:last-child::after {align-self: flex-start;width: 50%;}div.sk-parallel-item:only-child::after {width: 0;}div.sk-dashed-wrapped {border: 1px dashed gray;margin: 0.2em;box-sizing: border-box;padding-bottom: 0.1em;background-color: white;position: relative;}div.sk-label label {font-family: monospace;font-weight: bold;background-color: white;display: inline-block;line-height: 1.2em;}div.sk-label-container {position: relative;z-index: 2;text-align: center;}div.sk-container {display: inline-block;position: relative;}</style><div class=\"sk-top-container\"><div class=\"sk-container\"><div class=\"sk-item sk-dashed-wrapped\"><div class=\"sk-label-container\"><div class=\"sk-label sk-toggleable\"><input class=\"sk-toggleable__control sk-hidden--visually\" id=\"75e2ebe8-f6fc-42e5-a982-9d3249f8e15e\" type=\"checkbox\" ><label class=\"sk-toggleable__label\" for=\"75e2ebe8-f6fc-42e5-a982-9d3249f8e15e\">ColumnTransformer</label><div class=\"sk-toggleable__content\"><pre>ColumnTransformer(transformers=[('numpipe',\n",
       "                                 Pipeline(steps=[('numnorm',\n",
       "                                                  StandardScaler())]),\n",
       "                                 Index(['amount_tsh', 'gps_height', 'region_code', 'district_code',\n",
       "       'population', 'construction_year'],\n",
       "      dtype='object')),\n",
       "                                ('nominalpipe',\n",
       "                                 Pipeline(steps=[('onehotenc',\n",
       "                                                  OneHotEncoder(handle_unknown='ignore',\n",
       "                                                                sparse=False)),\n",
       "                                                 ('onehotnorm',\n",
       "                                                  StandardScaler())]),\n",
       "                                 Index(['funder', 'installer', 'basin', 'region', 'lga', 'scheme_management',\n",
       "       'extraction_type_group', 'extraction_type_class', 'management',\n",
       "       'management_group', 'payment_type', 'water_quality', 'quantity_group',\n",
       "       'source', 'source_class', 'waterpoint_type'],\n",
       "      dtype='object'))])</pre></div></div></div><div class=\"sk-parallel\"><div class=\"sk-parallel-item\"><div class=\"sk-item\"><div class=\"sk-label-container\"><div class=\"sk-label sk-toggleable\"><input class=\"sk-toggleable__control sk-hidden--visually\" id=\"84fa40db-234e-4f38-b22c-f7a573accb9e\" type=\"checkbox\" ><label class=\"sk-toggleable__label\" for=\"84fa40db-234e-4f38-b22c-f7a573accb9e\">numpipe</label><div class=\"sk-toggleable__content\"><pre>Index(['amount_tsh', 'gps_height', 'region_code', 'district_code',\n",
       "       'population', 'construction_year'],\n",
       "      dtype='object')</pre></div></div></div><div class=\"sk-serial\"><div class=\"sk-item\"><div class=\"sk-serial\"><div class=\"sk-item\"><div class=\"sk-estimator sk-toggleable\"><input class=\"sk-toggleable__control sk-hidden--visually\" id=\"a324771f-1256-4901-bbcf-b6f7bb161c6d\" type=\"checkbox\" ><label class=\"sk-toggleable__label\" for=\"a324771f-1256-4901-bbcf-b6f7bb161c6d\">StandardScaler</label><div class=\"sk-toggleable__content\"><pre>StandardScaler()</pre></div></div></div></div></div></div></div></div><div class=\"sk-parallel-item\"><div class=\"sk-item\"><div class=\"sk-label-container\"><div class=\"sk-label sk-toggleable\"><input class=\"sk-toggleable__control sk-hidden--visually\" id=\"8908baa2-b737-4514-a9db-7a3910302769\" type=\"checkbox\" ><label class=\"sk-toggleable__label\" for=\"8908baa2-b737-4514-a9db-7a3910302769\">nominalpipe</label><div class=\"sk-toggleable__content\"><pre>Index(['funder', 'installer', 'basin', 'region', 'lga', 'scheme_management',\n",
       "       'extraction_type_group', 'extraction_type_class', 'management',\n",
       "       'management_group', 'payment_type', 'water_quality', 'quantity_group',\n",
       "       'source', 'source_class', 'waterpoint_type'],\n",
       "      dtype='object')</pre></div></div></div><div class=\"sk-serial\"><div class=\"sk-item\"><div class=\"sk-serial\"><div class=\"sk-item\"><div class=\"sk-estimator sk-toggleable\"><input class=\"sk-toggleable__control sk-hidden--visually\" id=\"604971ed-7527-43ac-ae8b-b634b3bddaed\" type=\"checkbox\" ><label class=\"sk-toggleable__label\" for=\"604971ed-7527-43ac-ae8b-b634b3bddaed\">OneHotEncoder</label><div class=\"sk-toggleable__content\"><pre>OneHotEncoder(handle_unknown='ignore', sparse=False)</pre></div></div></div><div class=\"sk-item\"><div class=\"sk-estimator sk-toggleable\"><input class=\"sk-toggleable__control sk-hidden--visually\" id=\"1063ea17-79b6-428f-aa9e-b84964e2b173\" type=\"checkbox\" ><label class=\"sk-toggleable__label\" for=\"1063ea17-79b6-428f-aa9e-b84964e2b173\">StandardScaler</label><div class=\"sk-toggleable__content\"><pre>StandardScaler()</pre></div></div></div></div></div></div></div></div></div></div></div></div>"
      ],
      "text/plain": [
       "ColumnTransformer(transformers=[('numpipe',\n",
       "                                 Pipeline(steps=[('numnorm',\n",
       "                                                  StandardScaler())]),\n",
       "                                 Index(['amount_tsh', 'gps_height', 'region_code', 'district_code',\n",
       "       'population', 'construction_year'],\n",
       "      dtype='object')),\n",
       "                                ('nominalpipe',\n",
       "                                 Pipeline(steps=[('onehotenc',\n",
       "                                                  OneHotEncoder(handle_unknown='ignore',\n",
       "                                                                sparse=False)),\n",
       "                                                 ('onehotnorm',\n",
       "                                                  StandardScaler())]),\n",
       "                                 Index(['funder', 'installer', 'basin', 'region', 'lga', 'scheme_management',\n",
       "       'extraction_type_group', 'extraction_type_class', 'management',\n",
       "       'management_group', 'payment_type', 'water_quality', 'quantity_group',\n",
       "       'source', 'source_class', 'waterpoint_type'],\n",
       "      dtype='object'))])"
      ]
     },
     "execution_count": 18,
     "metadata": {},
     "output_type": "execute_result"
    }
   ],
   "source": [
    "ct = ColumnTransformer([\n",
    "    ('numpipe',numeric_pipe, num_cols),\n",
    "    ('nominalpipe',nominal_pipe,cat_cols),\n",
    "])\n",
    "ct"
   ]
  },
  {
   "cell_type": "code",
   "execution_count": 19,
   "metadata": {},
   "outputs": [
    {
     "data": {
      "text/html": [
       "<style>div.sk-top-container {color: black;background-color: white;}div.sk-toggleable {background-color: white;}label.sk-toggleable__label {cursor: pointer;display: block;width: 100%;margin-bottom: 0;padding: 0.2em 0.3em;box-sizing: border-box;text-align: center;}div.sk-toggleable__content {max-height: 0;max-width: 0;overflow: hidden;text-align: left;background-color: #f0f8ff;}div.sk-toggleable__content pre {margin: 0.2em;color: black;border-radius: 0.25em;background-color: #f0f8ff;}input.sk-toggleable__control:checked~div.sk-toggleable__content {max-height: 200px;max-width: 100%;overflow: auto;}div.sk-estimator input.sk-toggleable__control:checked~label.sk-toggleable__label {background-color: #d4ebff;}div.sk-label input.sk-toggleable__control:checked~label.sk-toggleable__label {background-color: #d4ebff;}input.sk-hidden--visually {border: 0;clip: rect(1px 1px 1px 1px);clip: rect(1px, 1px, 1px, 1px);height: 1px;margin: -1px;overflow: hidden;padding: 0;position: absolute;width: 1px;}div.sk-estimator {font-family: monospace;background-color: #f0f8ff;margin: 0.25em 0.25em;border: 1px dotted black;border-radius: 0.25em;box-sizing: border-box;}div.sk-estimator:hover {background-color: #d4ebff;}div.sk-parallel-item::after {content: \"\";width: 100%;border-bottom: 1px solid gray;flex-grow: 1;}div.sk-label:hover label.sk-toggleable__label {background-color: #d4ebff;}div.sk-serial::before {content: \"\";position: absolute;border-left: 1px solid gray;box-sizing: border-box;top: 2em;bottom: 0;left: 50%;}div.sk-serial {display: flex;flex-direction: column;align-items: center;background-color: white;}div.sk-item {z-index: 1;}div.sk-parallel {display: flex;align-items: stretch;justify-content: center;background-color: white;}div.sk-parallel-item {display: flex;flex-direction: column;position: relative;background-color: white;}div.sk-parallel-item:first-child::after {align-self: flex-end;width: 50%;}div.sk-parallel-item:last-child::after {align-self: flex-start;width: 50%;}div.sk-parallel-item:only-child::after {width: 0;}div.sk-dashed-wrapped {border: 1px dashed gray;margin: 0.2em;box-sizing: border-box;padding-bottom: 0.1em;background-color: white;position: relative;}div.sk-label label {font-family: monospace;font-weight: bold;background-color: white;display: inline-block;line-height: 1.2em;}div.sk-label-container {position: relative;z-index: 2;text-align: center;}div.sk-container {display: inline-block;position: relative;}</style><div class=\"sk-top-container\"><div class=\"sk-container\"><div class=\"sk-item sk-dashed-wrapped\"><div class=\"sk-label-container\"><div class=\"sk-label sk-toggleable\"><input class=\"sk-toggleable__control sk-hidden--visually\" id=\"79b68fd7-87c9-420c-a625-e03bcf992b0c\" type=\"checkbox\" ><label class=\"sk-toggleable__label\" for=\"79b68fd7-87c9-420c-a625-e03bcf992b0c\">Pipeline</label><div class=\"sk-toggleable__content\"><pre>Pipeline(steps=[('preprocess',\n",
       "                 ColumnTransformer(transformers=[('numpipe',\n",
       "                                                  Pipeline(steps=[('numnorm',\n",
       "                                                                   StandardScaler())]),\n",
       "                                                  Index(['amount_tsh', 'gps_height', 'region_code', 'district_code',\n",
       "       'population', 'construction_year'],\n",
       "      dtype='object')),\n",
       "                                                 ('nominalpipe',\n",
       "                                                  Pipeline(steps=[('onehotenc',\n",
       "                                                                   OneHotEncoder(handle_unknown='ignore',\n",
       "                                                                                 sparse=False)),\n",
       "                                                                  ('onehotnorm',\n",
       "                                                                   Stand...\n",
       "                               importance_type='gain',\n",
       "                               interaction_constraints=None, learning_rate=None,\n",
       "                               max_delta_step=None, max_depth=3,\n",
       "                               min_child_weight=None, missing=nan,\n",
       "                               monotone_constraints=None, n_estimators=100,\n",
       "                               n_jobs=None, num_parallel_tree=None,\n",
       "                               random_state=42, reg_alpha=None, reg_lambda=None,\n",
       "                               scale_pos_weight=None, subsample=None,\n",
       "                               tree_method=None, validate_parameters=None,\n",
       "                               verbosity=None))])</pre></div></div></div><div class=\"sk-serial\"><div class=\"sk-item sk-dashed-wrapped\"><div class=\"sk-label-container\"><div class=\"sk-label sk-toggleable\"><input class=\"sk-toggleable__control sk-hidden--visually\" id=\"493d912e-4b6a-40b9-a3c2-ad3233f0835b\" type=\"checkbox\" ><label class=\"sk-toggleable__label\" for=\"493d912e-4b6a-40b9-a3c2-ad3233f0835b\">preprocess: ColumnTransformer</label><div class=\"sk-toggleable__content\"><pre>ColumnTransformer(transformers=[('numpipe',\n",
       "                                 Pipeline(steps=[('numnorm',\n",
       "                                                  StandardScaler())]),\n",
       "                                 Index(['amount_tsh', 'gps_height', 'region_code', 'district_code',\n",
       "       'population', 'construction_year'],\n",
       "      dtype='object')),\n",
       "                                ('nominalpipe',\n",
       "                                 Pipeline(steps=[('onehotenc',\n",
       "                                                  OneHotEncoder(handle_unknown='ignore',\n",
       "                                                                sparse=False)),\n",
       "                                                 ('onehotnorm',\n",
       "                                                  StandardScaler())]),\n",
       "                                 Index(['funder', 'installer', 'basin', 'region', 'lga', 'scheme_management',\n",
       "       'extraction_type_group', 'extraction_type_class', 'management',\n",
       "       'management_group', 'payment_type', 'water_quality', 'quantity_group',\n",
       "       'source', 'source_class', 'waterpoint_type'],\n",
       "      dtype='object'))])</pre></div></div></div><div class=\"sk-parallel\"><div class=\"sk-parallel-item\"><div class=\"sk-item\"><div class=\"sk-label-container\"><div class=\"sk-label sk-toggleable\"><input class=\"sk-toggleable__control sk-hidden--visually\" id=\"63e1096d-d648-4382-b474-d88c4759f676\" type=\"checkbox\" ><label class=\"sk-toggleable__label\" for=\"63e1096d-d648-4382-b474-d88c4759f676\">numpipe</label><div class=\"sk-toggleable__content\"><pre>Index(['amount_tsh', 'gps_height', 'region_code', 'district_code',\n",
       "       'population', 'construction_year'],\n",
       "      dtype='object')</pre></div></div></div><div class=\"sk-serial\"><div class=\"sk-item\"><div class=\"sk-serial\"><div class=\"sk-item\"><div class=\"sk-estimator sk-toggleable\"><input class=\"sk-toggleable__control sk-hidden--visually\" id=\"9b8f2a9d-7c5d-47a1-af0e-122e70943556\" type=\"checkbox\" ><label class=\"sk-toggleable__label\" for=\"9b8f2a9d-7c5d-47a1-af0e-122e70943556\">StandardScaler</label><div class=\"sk-toggleable__content\"><pre>StandardScaler()</pre></div></div></div></div></div></div></div></div><div class=\"sk-parallel-item\"><div class=\"sk-item\"><div class=\"sk-label-container\"><div class=\"sk-label sk-toggleable\"><input class=\"sk-toggleable__control sk-hidden--visually\" id=\"654c875a-f9ee-4bf4-8c13-8f17e5054e60\" type=\"checkbox\" ><label class=\"sk-toggleable__label\" for=\"654c875a-f9ee-4bf4-8c13-8f17e5054e60\">nominalpipe</label><div class=\"sk-toggleable__content\"><pre>Index(['funder', 'installer', 'basin', 'region', 'lga', 'scheme_management',\n",
       "       'extraction_type_group', 'extraction_type_class', 'management',\n",
       "       'management_group', 'payment_type', 'water_quality', 'quantity_group',\n",
       "       'source', 'source_class', 'waterpoint_type'],\n",
       "      dtype='object')</pre></div></div></div><div class=\"sk-serial\"><div class=\"sk-item\"><div class=\"sk-serial\"><div class=\"sk-item\"><div class=\"sk-estimator sk-toggleable\"><input class=\"sk-toggleable__control sk-hidden--visually\" id=\"0f19899d-df24-4f95-9bab-edc7db0b1ec0\" type=\"checkbox\" ><label class=\"sk-toggleable__label\" for=\"0f19899d-df24-4f95-9bab-edc7db0b1ec0\">OneHotEncoder</label><div class=\"sk-toggleable__content\"><pre>OneHotEncoder(handle_unknown='ignore', sparse=False)</pre></div></div></div><div class=\"sk-item\"><div class=\"sk-estimator sk-toggleable\"><input class=\"sk-toggleable__control sk-hidden--visually\" id=\"795632c4-d22f-4bd6-8936-7b6037e1539c\" type=\"checkbox\" ><label class=\"sk-toggleable__label\" for=\"795632c4-d22f-4bd6-8936-7b6037e1539c\">StandardScaler</label><div class=\"sk-toggleable__content\"><pre>StandardScaler()</pre></div></div></div></div></div></div></div></div></div></div><div class=\"sk-item\"><div class=\"sk-estimator sk-toggleable\"><input class=\"sk-toggleable__control sk-hidden--visually\" id=\"a58ac779-ad38-41b1-8199-121d16cbc496\" type=\"checkbox\" ><label class=\"sk-toggleable__label\" for=\"a58ac779-ad38-41b1-8199-121d16cbc496\">SMOTE</label><div class=\"sk-toggleable__content\"><pre>SMOTE(random_state=42)</pre></div></div></div><div class=\"sk-item\"><div class=\"sk-estimator sk-toggleable\"><input class=\"sk-toggleable__control sk-hidden--visually\" id=\"d1b7c00a-da07-423a-b8d4-599e8d5dff1b\" type=\"checkbox\" ><label class=\"sk-toggleable__label\" for=\"d1b7c00a-da07-423a-b8d4-599e8d5dff1b\">XGBClassifier</label><div class=\"sk-toggleable__content\"><pre>XGBClassifier(base_score=None, booster=None, colsample_bylevel=None,\n",
       "              colsample_bynode=None, colsample_bytree=None, gamma=None,\n",
       "              gpu_id=None, importance_type='gain', interaction_constraints=None,\n",
       "              learning_rate=None, max_delta_step=None, max_depth=3,\n",
       "              min_child_weight=None, missing=nan, monotone_constraints=None,\n",
       "              n_estimators=100, n_jobs=None, num_parallel_tree=None,\n",
       "              random_state=42, reg_alpha=None, reg_lambda=None,\n",
       "              scale_pos_weight=None, subsample=None, tree_method=None,\n",
       "              validate_parameters=None, verbosity=None)</pre></div></div></div></div></div></div></div>"
      ],
      "text/plain": [
       "Pipeline(steps=[('preprocess',\n",
       "                 ColumnTransformer(transformers=[('numpipe',\n",
       "                                                  Pipeline(steps=[('numnorm',\n",
       "                                                                   StandardScaler())]),\n",
       "                                                  Index(['amount_tsh', 'gps_height', 'region_code', 'district_code',\n",
       "       'population', 'construction_year'],\n",
       "      dtype='object')),\n",
       "                                                 ('nominalpipe',\n",
       "                                                  Pipeline(steps=[('onehotenc',\n",
       "                                                                   OneHotEncoder(handle_unknown='ignore',\n",
       "                                                                                 sparse=False)),\n",
       "                                                                  ('onehotnorm',\n",
       "                                                                   Stand...\n",
       "                               importance_type='gain',\n",
       "                               interaction_constraints=None, learning_rate=None,\n",
       "                               max_delta_step=None, max_depth=3,\n",
       "                               min_child_weight=None, missing=nan,\n",
       "                               monotone_constraints=None, n_estimators=100,\n",
       "                               n_jobs=None, num_parallel_tree=None,\n",
       "                               random_state=42, reg_alpha=None, reg_lambda=None,\n",
       "                               scale_pos_weight=None, subsample=None,\n",
       "                               tree_method=None, validate_parameters=None,\n",
       "                               verbosity=None))])"
      ]
     },
     "execution_count": 19,
     "metadata": {},
     "output_type": "execute_result"
    }
   ],
   "source": [
    "xg = Pipeline([\n",
    "    ('preprocess', ct),\n",
    "    (\"smote\", SMOTE(random_state=42)),\n",
    "    ('model',XGBClassifier(random_state=42,max_depth=3))\n",
    "])\n",
    "xg"
   ]
  },
  {
   "cell_type": "markdown",
   "metadata": {},
   "source": [
    "# Fit the Model"
   ]
  },
  {
   "cell_type": "code",
   "execution_count": 20,
   "metadata": {},
   "outputs": [],
   "source": [
    "xg.fit(X_train,y_train)\n",
    "y_pred = xg.predict(X_test)"
   ]
  },
  {
   "cell_type": "code",
   "execution_count": 21,
   "metadata": {},
   "outputs": [
    {
     "data": {
      "image/png": "[encoded data removed]",
      "text/plain": [
       "<Figure size 432x288 with 2 Axes>"
      ]
     },
     "metadata": {
      "needs_background": "light"
     },
     "output_type": "display_data"
    }
   ],
   "source": [
    "cm = confusion_matrix(y_test, y_pred)\n",
    "disp = ConfusionMatrixDisplay(confusion_matrix=cm\n",
    "                              )\n",
    "disp.plot();"
   ]
  },
  {
   "cell_type": "code",
   "execution_count": 22,
   "metadata": {},
   "outputs": [
    {
     "name": "stdout",
     "output_type": "stream",
     "text": [
      "                precision    recall  f1-score   support\n",
      "\n",
      "    functional       0.83      0.90      0.86     11017\n",
      "non functional       0.80      0.69      0.75      6803\n",
      "\n",
      "      accuracy                           0.82     17820\n",
      "     macro avg       0.81      0.79      0.80     17820\n",
      "  weighted avg       0.82      0.82      0.82     17820\n",
      "\n"
     ]
    }
   ],
   "source": [
    "print(classification_report(y_test, y_pred))"
   ]
  },
  {
   "cell_type": "markdown",
   "metadata": {},
   "source": [
    "# Checking is overfitting"
   ]
  },
  {
   "cell_type": "code",
   "execution_count": 23,
   "metadata": {},
   "outputs": [
    {
     "name": "stdout",
     "output_type": "stream",
     "text": [
      "0.8246031746031746\n",
      "0.8185746352413019\n"
     ]
    }
   ],
   "source": [
    "print(xg.score(X_train,y_train))\n",
    "print(xg.score(X_test,y_test))"
   ]
  },
  {
   "cell_type": "markdown",
   "metadata": {},
   "source": [
    "# AUC"
   ]
  },
  {
   "cell_type": "code",
   "execution_count": 24,
   "metadata": {},
   "outputs": [],
   "source": [
    "from sklearn.metrics import roc_auc_score\n",
    "\n",
    "y_score = xg.fit(X_train, y_train).predict_proba(X_test)\n",
    "\n",
    "\n",
    "\n",
    "micro_roc_auc_ovr = roc_auc_score(\n",
    "    y_test,\n",
    "    y_score[:, 1],\n",
    ")"
   ]
  },
  {
   "cell_type": "code",
   "execution_count": 25,
   "metadata": {},
   "outputs": [
    {
     "data": {
      "text/plain": [
       "0.8836539766406203"
      ]
     },
     "execution_count": 25,
     "metadata": {},
     "output_type": "execute_result"
    }
   ],
   "source": [
    "micro_roc_auc_ovr"
   ]
  },
  {
   "cell_type": "code",
   "execution_count": 26,
   "metadata": {},
   "outputs": [
    {
     "data": {
      "image/png": "[encoded data removed]",
      "text/plain": [
       "<Figure size 432x288 with 1 Axes>"
      ]
     },
     "metadata": {
      "needs_background": "light"
     },
     "output_type": "display_data"
    }
   ],
   "source": [
    "plot_roc_curve(xg,X_test,y_test);"
   ]
  },
  {
   "cell_type": "markdown",
   "metadata": {},
   "source": [
    "# Random Search"
   ]
  },
  {
   "cell_type": "code",
   "execution_count": 27,
   "metadata": {},
   "outputs": [
    {
     "data": {
      "text/plain": [
       "{'model__max_depth': [3, 4, 5],\n",
       " 'model__learning_rate': [0.05, 0.1, 0.3, 0.5],\n",
       " 'model__gamma': [0, 5, 10],\n",
       " 'model__colsample_bynode': [0.5, 0.75, 1],\n",
       " 'model__n_estimators': [50, 100, 150]}"
      ]
     },
     "execution_count": 27,
     "metadata": {},
     "output_type": "execute_result"
    }
   ],
   "source": [
    "\n",
    "from sklearn.model_selection import RandomizedSearchCV\n",
    "\n",
    "params = {'model__max_depth': [3,4, 5], 'model__learning_rate': [.05, .1, .3, .5],\n",
    "          'model__gamma': [0,5,10], 'model__colsample_bynode': [.5, .75, 1],\n",
    "          'model__n_estimators': [50,100,150] }\n",
    "\n",
    "params"
   ]
  },
  {
   "cell_type": "code",
   "execution_count": 28,
   "metadata": {},
   "outputs": [
    {
     "data": {
      "text/html": [
       "<style>div.sk-top-container {color: black;background-color: white;}div.sk-toggleable {background-color: white;}label.sk-toggleable__label {cursor: pointer;display: block;width: 100%;margin-bottom: 0;padding: 0.2em 0.3em;box-sizing: border-box;text-align: center;}div.sk-toggleable__content {max-height: 0;max-width: 0;overflow: hidden;text-align: left;background-color: #f0f8ff;}div.sk-toggleable__content pre {margin: 0.2em;color: black;border-radius: 0.25em;background-color: #f0f8ff;}input.sk-toggleable__control:checked~div.sk-toggleable__content {max-height: 200px;max-width: 100%;overflow: auto;}div.sk-estimator input.sk-toggleable__control:checked~label.sk-toggleable__label {background-color: #d4ebff;}div.sk-label input.sk-toggleable__control:checked~label.sk-toggleable__label {background-color: #d4ebff;}input.sk-hidden--visually {border: 0;clip: rect(1px 1px 1px 1px);clip: rect(1px, 1px, 1px, 1px);height: 1px;margin: -1px;overflow: hidden;padding: 0;position: absolute;width: 1px;}div.sk-estimator {font-family: monospace;background-color: #f0f8ff;margin: 0.25em 0.25em;border: 1px dotted black;border-radius: 0.25em;box-sizing: border-box;}div.sk-estimator:hover {background-color: #d4ebff;}div.sk-parallel-item::after {content: \"\";width: 100%;border-bottom: 1px solid gray;flex-grow: 1;}div.sk-label:hover label.sk-toggleable__label {background-color: #d4ebff;}div.sk-serial::before {content: \"\";position: absolute;border-left: 1px solid gray;box-sizing: border-box;top: 2em;bottom: 0;left: 50%;}div.sk-serial {display: flex;flex-direction: column;align-items: center;background-color: white;}div.sk-item {z-index: 1;}div.sk-parallel {display: flex;align-items: stretch;justify-content: center;background-color: white;}div.sk-parallel-item {display: flex;flex-direction: column;position: relative;background-color: white;}div.sk-parallel-item:first-child::after {align-self: flex-end;width: 50%;}div.sk-parallel-item:last-child::after {align-self: flex-start;width: 50%;}div.sk-parallel-item:only-child::after {width: 0;}div.sk-dashed-wrapped {border: 1px dashed gray;margin: 0.2em;box-sizing: border-box;padding-bottom: 0.1em;background-color: white;position: relative;}div.sk-label label {font-family: monospace;font-weight: bold;background-color: white;display: inline-block;line-height: 1.2em;}div.sk-label-container {position: relative;z-index: 2;text-align: center;}div.sk-container {display: inline-block;position: relative;}</style><div class=\"sk-top-container\"><div class=\"sk-container\"><div class=\"sk-item sk-dashed-wrapped\"><div class=\"sk-label-container\"><div class=\"sk-label sk-toggleable\"><input class=\"sk-toggleable__control sk-hidden--visually\" id=\"c591a16a-b0c0-4ee7-871c-b52ac17e9d30\" type=\"checkbox\" ><label class=\"sk-toggleable__label\" for=\"c591a16a-b0c0-4ee7-871c-b52ac17e9d30\">RandomizedSearchCV</label><div class=\"sk-toggleable__content\"><pre>RandomizedSearchCV(estimator=Pipeline(steps=[('preprocess',\n",
       "                                              ColumnTransformer(transformers=[('numpipe',\n",
       "                                                                               Pipeline(steps=[('numnorm',\n",
       "                                                                                                StandardScaler())]),\n",
       "                                                                               Index(['amount_tsh', 'gps_height', 'region_code', 'district_code',\n",
       "       'population', 'construction_year'],\n",
       "      dtype='object')),\n",
       "                                                                              ('nominalpipe',\n",
       "                                                                               Pipeline(steps=[('onehotenc',\n",
       "                                                                                                OneHotEncoder(handle_unknown='ignore',\n",
       "                                                                                                              spars...\n",
       "                                                            num_parallel_tree=1,\n",
       "                                                            random_state=42,\n",
       "                                                            reg_alpha=0,\n",
       "                                                            reg_lambda=1,\n",
       "                                                            scale_pos_weight=1,\n",
       "                                                            subsample=1,\n",
       "                                                            tree_method='exact',\n",
       "                                                            validate_parameters=1,\n",
       "                                                            verbosity=None))]),\n",
       "                   n_iter=50,\n",
       "                   param_distributions={'model__colsample_bynode': [0.5, 0.75,\n",
       "                                                                    1],\n",
       "                                        'model__gamma': [0, 5, 10],\n",
       "                                        'model__learning_rate': [0.05, 0.1, 0.3,\n",
       "                                                                 0.5],\n",
       "                                        'model__max_depth': [3, 4, 5],\n",
       "                                        'model__n_estimators': [50, 100, 150]},\n",
       "                   random_state=42)</pre></div></div></div><div class=\"sk-parallel\"><div class=\"sk-parallel-item\"><div class=\"sk-item\"><div class=\"sk-serial\"><div class=\"sk-item\"><div class=\"sk-serial\"><div class=\"sk-item sk-dashed-wrapped\"><div class=\"sk-label-container\"><div class=\"sk-label sk-toggleable\"><input class=\"sk-toggleable__control sk-hidden--visually\" id=\"dc8083c8-8cb2-41a6-83ca-aaa8c1e8ca30\" type=\"checkbox\" ><label class=\"sk-toggleable__label\" for=\"dc8083c8-8cb2-41a6-83ca-aaa8c1e8ca30\">preprocess: ColumnTransformer</label><div class=\"sk-toggleable__content\"><pre>ColumnTransformer(transformers=[('numpipe',\n",
       "                                 Pipeline(steps=[('numnorm',\n",
       "                                                  StandardScaler())]),\n",
       "                                 Index(['amount_tsh', 'gps_height', 'region_code', 'district_code',\n",
       "       'population', 'construction_year'],\n",
       "      dtype='object')),\n",
       "                                ('nominalpipe',\n",
       "                                 Pipeline(steps=[('onehotenc',\n",
       "                                                  OneHotEncoder(handle_unknown='ignore',\n",
       "                                                                sparse=False)),\n",
       "                                                 ('onehotnorm',\n",
       "                                                  StandardScaler())]),\n",
       "                                 Index(['funder', 'installer', 'basin', 'region', 'lga', 'scheme_management',\n",
       "       'extraction_type_group', 'extraction_type_class', 'management',\n",
       "       'management_group', 'payment_type', 'water_quality', 'quantity_group',\n",
       "       'source', 'source_class', 'waterpoint_type'],\n",
       "      dtype='object'))])</pre></div></div></div><div class=\"sk-parallel\"><div class=\"sk-parallel-item\"><div class=\"sk-item\"><div class=\"sk-label-container\"><div class=\"sk-label sk-toggleable\"><input class=\"sk-toggleable__control sk-hidden--visually\" id=\"d3fb0d13-4709-431a-8b64-59eba0df0b55\" type=\"checkbox\" ><label class=\"sk-toggleable__label\" for=\"d3fb0d13-4709-431a-8b64-59eba0df0b55\">numpipe</label><div class=\"sk-toggleable__content\"><pre>Index(['amount_tsh', 'gps_height', 'region_code', 'district_code',\n",
       "       'population', 'construction_year'],\n",
       "      dtype='object')</pre></div></div></div><div class=\"sk-serial\"><div class=\"sk-item\"><div class=\"sk-serial\"><div class=\"sk-item\"><div class=\"sk-estimator sk-toggleable\"><input class=\"sk-toggleable__control sk-hidden--visually\" id=\"86f84f00-8510-408b-8968-e829b6c59f95\" type=\"checkbox\" ><label class=\"sk-toggleable__label\" for=\"86f84f00-8510-408b-8968-e829b6c59f95\">StandardScaler</label><div class=\"sk-toggleable__content\"><pre>StandardScaler()</pre></div></div></div></div></div></div></div></div><div class=\"sk-parallel-item\"><div class=\"sk-item\"><div class=\"sk-label-container\"><div class=\"sk-label sk-toggleable\"><input class=\"sk-toggleable__control sk-hidden--visually\" id=\"235ceadd-c897-4655-a380-f6e4bf8ba167\" type=\"checkbox\" ><label class=\"sk-toggleable__label\" for=\"235ceadd-c897-4655-a380-f6e4bf8ba167\">nominalpipe</label><div class=\"sk-toggleable__content\"><pre>Index(['funder', 'installer', 'basin', 'region', 'lga', 'scheme_management',\n",
       "       'extraction_type_group', 'extraction_type_class', 'management',\n",
       "       'management_group', 'payment_type', 'water_quality', 'quantity_group',\n",
       "       'source', 'source_class', 'waterpoint_type'],\n",
       "      dtype='object')</pre></div></div></div><div class=\"sk-serial\"><div class=\"sk-item\"><div class=\"sk-serial\"><div class=\"sk-item\"><div class=\"sk-estimator sk-toggleable\"><input class=\"sk-toggleable__control sk-hidden--visually\" id=\"04e9f795-62b7-477b-84f6-dcbaa3af7222\" type=\"checkbox\" ><label class=\"sk-toggleable__label\" for=\"04e9f795-62b7-477b-84f6-dcbaa3af7222\">OneHotEncoder</label><div class=\"sk-toggleable__content\"><pre>OneHotEncoder(handle_unknown='ignore', sparse=False)</pre></div></div></div><div class=\"sk-item\"><div class=\"sk-estimator sk-toggleable\"><input class=\"sk-toggleable__control sk-hidden--visually\" id=\"30cf107f-e823-46cd-97e0-43fe47d2fc50\" type=\"checkbox\" ><label class=\"sk-toggleable__label\" for=\"30cf107f-e823-46cd-97e0-43fe47d2fc50\">StandardScaler</label><div class=\"sk-toggleable__content\"><pre>StandardScaler()</pre></div></div></div></div></div></div></div></div></div></div><div class=\"sk-item\"><div class=\"sk-estimator sk-toggleable\"><input class=\"sk-toggleable__control sk-hidden--visually\" id=\"4d5e40f8-bf74-42b9-9a93-a1f2758048a8\" type=\"checkbox\" ><label class=\"sk-toggleable__label\" for=\"4d5e40f8-bf74-42b9-9a93-a1f2758048a8\">SMOTE</label><div class=\"sk-toggleable__content\"><pre>SMOTE(random_state=42)</pre></div></div></div><div class=\"sk-item\"><div class=\"sk-estimator sk-toggleable\"><input class=\"sk-toggleable__control sk-hidden--visually\" id=\"91e46a64-7e1b-48ed-ab52-12e0e932a6e3\" type=\"checkbox\" ><label class=\"sk-toggleable__label\" for=\"91e46a64-7e1b-48ed-ab52-12e0e932a6e3\">XGBClassifier</label><div class=\"sk-toggleable__content\"><pre>XGBClassifier(base_score=0.5, booster='gbtree', colsample_bylevel=1,\n",
       "              colsample_bynode=1, colsample_bytree=1, gamma=0, gpu_id=-1,\n",
       "              importance_type='gain', interaction_constraints='',\n",
       "              learning_rate=0.300000012, max_delta_step=0, max_depth=3,\n",
       "              min_child_weight=1, missing=nan, monotone_constraints='()',\n",
       "              n_estimators=100, n_jobs=0, num_parallel_tree=1, random_state=42,\n",
       "              reg_alpha=0, reg_lambda=1, scale_pos_weight=1, subsample=1,\n",
       "              tree_method='exact', validate_parameters=1, verbosity=None)</pre></div></div></div></div></div></div></div></div></div></div></div></div>"
      ],
      "text/plain": [
       "RandomizedSearchCV(estimator=Pipeline(steps=[('preprocess',\n",
       "                                              ColumnTransformer(transformers=[('numpipe',\n",
       "                                                                               Pipeline(steps=[('numnorm',\n",
       "                                                                                                StandardScaler())]),\n",
       "                                                                               Index(['amount_tsh', 'gps_height', 'region_code', 'district_code',\n",
       "       'population', 'construction_year'],\n",
       "      dtype='object')),\n",
       "                                                                              ('nominalpipe',\n",
       "                                                                               Pipeline(steps=[('onehotenc',\n",
       "                                                                                                OneHotEncoder(handle_unknown='ignore',\n",
       "                                                                                                              spars...\n",
       "                                                            num_parallel_tree=1,\n",
       "                                                            random_state=42,\n",
       "                                                            reg_alpha=0,\n",
       "                                                            reg_lambda=1,\n",
       "                                                            scale_pos_weight=1,\n",
       "                                                            subsample=1,\n",
       "                                                            tree_method='exact',\n",
       "                                                            validate_parameters=1,\n",
       "                                                            verbosity=None))]),\n",
       "                   n_iter=50,\n",
       "                   param_distributions={'model__colsample_bynode': [0.5, 0.75,\n",
       "                                                                    1],\n",
       "                                        'model__gamma': [0, 5, 10],\n",
       "                                        'model__learning_rate': [0.05, 0.1, 0.3,\n",
       "                                                                 0.5],\n",
       "                                        'model__max_depth': [3, 4, 5],\n",
       "                                        'model__n_estimators': [50, 100, 150]},\n",
       "                   random_state=42)"
      ]
     },
     "execution_count": 28,
     "metadata": {},
     "output_type": "execute_result"
    }
   ],
   "source": [
    "cv = RandomizedSearchCV(estimator = xg,\n",
    "                  param_distributions= params,\n",
    "                       n_iter =50,random_state = 42)\n",
    "cv"
   ]
  },
  {
   "cell_type": "code",
   "execution_count": 29,
   "metadata": {},
   "outputs": [],
   "source": [
    "# cv.fit(X_train,y_train)"
   ]
  },
  {
   "cell_type": "code",
   "execution_count": 30,
   "metadata": {},
   "outputs": [],
   "source": [
    "# cv.best_params_"
   ]
  },
  {
   "cell_type": "code",
   "execution_count": 31,
   "metadata": {},
   "outputs": [],
   "source": [
    "# cv.best_score_"
   ]
  },
  {
   "cell_type": "code",
   "execution_count": 32,
   "metadata": {},
   "outputs": [],
   "source": [
    "# from joblib import dump, load\n",
    "# dump(cv.best_params_, 'XGB_best_params.joblib') "
   ]
  },
  {
   "cell_type": "code",
   "execution_count": 33,
   "metadata": {},
   "outputs": [
    {
     "data": {
      "text/plain": [
       "{'model__n_estimators': 150,\n",
       " 'model__max_depth': 5,\n",
       " 'model__learning_rate': 0.5,\n",
       " 'model__gamma': 5,\n",
       " 'model__colsample_bynode': 0.75}"
      ]
     },
     "execution_count": 33,
     "metadata": {},
     "output_type": "execute_result"
    }
   ],
   "source": [
    "from joblib import dump, load\n",
    "clf = load('XGB_best_params.joblib')\n",
    "clf"
   ]
  },
  {
   "cell_type": "markdown",
   "metadata": {},
   "source": [
    "# Best Model"
   ]
  },
  {
   "cell_type": "code",
   "execution_count": 34,
   "metadata": {},
   "outputs": [
    {
     "data": {
      "text/html": [
       "<style>div.sk-top-container {color: black;background-color: white;}div.sk-toggleable {background-color: white;}label.sk-toggleable__label {cursor: pointer;display: block;width: 100%;margin-bottom: 0;padding: 0.2em 0.3em;box-sizing: border-box;text-align: center;}div.sk-toggleable__content {max-height: 0;max-width: 0;overflow: hidden;text-align: left;background-color: #f0f8ff;}div.sk-toggleable__content pre {margin: 0.2em;color: black;border-radius: 0.25em;background-color: #f0f8ff;}input.sk-toggleable__control:checked~div.sk-toggleable__content {max-height: 200px;max-width: 100%;overflow: auto;}div.sk-estimator input.sk-toggleable__control:checked~label.sk-toggleable__label {background-color: #d4ebff;}div.sk-label input.sk-toggleable__control:checked~label.sk-toggleable__label {background-color: #d4ebff;}input.sk-hidden--visually {border: 0;clip: rect(1px 1px 1px 1px);clip: rect(1px, 1px, 1px, 1px);height: 1px;margin: -1px;overflow: hidden;padding: 0;position: absolute;width: 1px;}div.sk-estimator {font-family: monospace;background-color: #f0f8ff;margin: 0.25em 0.25em;border: 1px dotted black;border-radius: 0.25em;box-sizing: border-box;}div.sk-estimator:hover {background-color: #d4ebff;}div.sk-parallel-item::after {content: \"\";width: 100%;border-bottom: 1px solid gray;flex-grow: 1;}div.sk-label:hover label.sk-toggleable__label {background-color: #d4ebff;}div.sk-serial::before {content: \"\";position: absolute;border-left: 1px solid gray;box-sizing: border-box;top: 2em;bottom: 0;left: 50%;}div.sk-serial {display: flex;flex-direction: column;align-items: center;background-color: white;}div.sk-item {z-index: 1;}div.sk-parallel {display: flex;align-items: stretch;justify-content: center;background-color: white;}div.sk-parallel-item {display: flex;flex-direction: column;position: relative;background-color: white;}div.sk-parallel-item:first-child::after {align-self: flex-end;width: 50%;}div.sk-parallel-item:last-child::after {align-self: flex-start;width: 50%;}div.sk-parallel-item:only-child::after {width: 0;}div.sk-dashed-wrapped {border: 1px dashed gray;margin: 0.2em;box-sizing: border-box;padding-bottom: 0.1em;background-color: white;position: relative;}div.sk-label label {font-family: monospace;font-weight: bold;background-color: white;display: inline-block;line-height: 1.2em;}div.sk-label-container {position: relative;z-index: 2;text-align: center;}div.sk-container {display: inline-block;position: relative;}</style><div class=\"sk-top-container\"><div class=\"sk-container\"><div class=\"sk-item sk-dashed-wrapped\"><div class=\"sk-label-container\"><div class=\"sk-label sk-toggleable\"><input class=\"sk-toggleable__control sk-hidden--visually\" id=\"58ef927f-4da5-4d91-bd3f-d916ab9169bd\" type=\"checkbox\" ><label class=\"sk-toggleable__label\" for=\"58ef927f-4da5-4d91-bd3f-d916ab9169bd\">Pipeline</label><div class=\"sk-toggleable__content\"><pre>Pipeline(steps=[('preprocess',\n",
       "                 ColumnTransformer(transformers=[('numpipe',\n",
       "                                                  Pipeline(steps=[('numnorm',\n",
       "                                                                   StandardScaler())]),\n",
       "                                                  Index(['amount_tsh', 'gps_height', 'region_code', 'district_code',\n",
       "       'population', 'construction_year'],\n",
       "      dtype='object')),\n",
       "                                                 ('nominalpipe',\n",
       "                                                  Pipeline(steps=[('onehotenc',\n",
       "                                                                   OneHotEncoder(handle_unknown='ignore',\n",
       "                                                                                 sparse=False)),\n",
       "                                                                  ('onehotnorm',\n",
       "                                                                   Stand...\n",
       "                               importance_type='gain',\n",
       "                               interaction_constraints=None, learning_rate=0.5,\n",
       "                               max_delta_step=None, max_depth=5,\n",
       "                               min_child_weight=None, missing=nan,\n",
       "                               monotone_constraints=None, n_estimators=150,\n",
       "                               n_jobs=None, num_parallel_tree=None,\n",
       "                               random_state=42, reg_alpha=None, reg_lambda=None,\n",
       "                               scale_pos_weight=None, subsample=None,\n",
       "                               tree_method=None, validate_parameters=None,\n",
       "                               verbosity=None))])</pre></div></div></div><div class=\"sk-serial\"><div class=\"sk-item sk-dashed-wrapped\"><div class=\"sk-label-container\"><div class=\"sk-label sk-toggleable\"><input class=\"sk-toggleable__control sk-hidden--visually\" id=\"cc5131bc-3c6c-4fe9-a51b-88f42a402f0e\" type=\"checkbox\" ><label class=\"sk-toggleable__label\" for=\"cc5131bc-3c6c-4fe9-a51b-88f42a402f0e\">preprocess: ColumnTransformer</label><div class=\"sk-toggleable__content\"><pre>ColumnTransformer(transformers=[('numpipe',\n",
       "                                 Pipeline(steps=[('numnorm',\n",
       "                                                  StandardScaler())]),\n",
       "                                 Index(['amount_tsh', 'gps_height', 'region_code', 'district_code',\n",
       "       'population', 'construction_year'],\n",
       "      dtype='object')),\n",
       "                                ('nominalpipe',\n",
       "                                 Pipeline(steps=[('onehotenc',\n",
       "                                                  OneHotEncoder(handle_unknown='ignore',\n",
       "                                                                sparse=False)),\n",
       "                                                 ('onehotnorm',\n",
       "                                                  StandardScaler())]),\n",
       "                                 Index(['funder', 'installer', 'basin', 'region', 'lga', 'scheme_management',\n",
       "       'extraction_type_group', 'extraction_type_class', 'management',\n",
       "       'management_group', 'payment_type', 'water_quality', 'quantity_group',\n",
       "       'source', 'source_class', 'waterpoint_type'],\n",
       "      dtype='object'))])</pre></div></div></div><div class=\"sk-parallel\"><div class=\"sk-parallel-item\"><div class=\"sk-item\"><div class=\"sk-label-container\"><div class=\"sk-label sk-toggleable\"><input class=\"sk-toggleable__control sk-hidden--visually\" id=\"d094ece3-ff67-4d84-9ac0-d02e80db7ca3\" type=\"checkbox\" ><label class=\"sk-toggleable__label\" for=\"d094ece3-ff67-4d84-9ac0-d02e80db7ca3\">numpipe</label><div class=\"sk-toggleable__content\"><pre>Index(['amount_tsh', 'gps_height', 'region_code', 'district_code',\n",
       "       'population', 'construction_year'],\n",
       "      dtype='object')</pre></div></div></div><div class=\"sk-serial\"><div class=\"sk-item\"><div class=\"sk-serial\"><div class=\"sk-item\"><div class=\"sk-estimator sk-toggleable\"><input class=\"sk-toggleable__control sk-hidden--visually\" id=\"1d0be89b-34ff-4f39-ad68-1f820ab54091\" type=\"checkbox\" ><label class=\"sk-toggleable__label\" for=\"1d0be89b-34ff-4f39-ad68-1f820ab54091\">StandardScaler</label><div class=\"sk-toggleable__content\"><pre>StandardScaler()</pre></div></div></div></div></div></div></div></div><div class=\"sk-parallel-item\"><div class=\"sk-item\"><div class=\"sk-label-container\"><div class=\"sk-label sk-toggleable\"><input class=\"sk-toggleable__control sk-hidden--visually\" id=\"7c4cfdd5-b69e-49da-9660-14c52530baca\" type=\"checkbox\" ><label class=\"sk-toggleable__label\" for=\"7c4cfdd5-b69e-49da-9660-14c52530baca\">nominalpipe</label><div class=\"sk-toggleable__content\"><pre>Index(['funder', 'installer', 'basin', 'region', 'lga', 'scheme_management',\n",
       "       'extraction_type_group', 'extraction_type_class', 'management',\n",
       "       'management_group', 'payment_type', 'water_quality', 'quantity_group',\n",
       "       'source', 'source_class', 'waterpoint_type'],\n",
       "      dtype='object')</pre></div></div></div><div class=\"sk-serial\"><div class=\"sk-item\"><div class=\"sk-serial\"><div class=\"sk-item\"><div class=\"sk-estimator sk-toggleable\"><input class=\"sk-toggleable__control sk-hidden--visually\" id=\"71f92970-2a88-49af-b81a-e3764944369d\" type=\"checkbox\" ><label class=\"sk-toggleable__label\" for=\"71f92970-2a88-49af-b81a-e3764944369d\">OneHotEncoder</label><div class=\"sk-toggleable__content\"><pre>OneHotEncoder(handle_unknown='ignore', sparse=False)</pre></div></div></div><div class=\"sk-item\"><div class=\"sk-estimator sk-toggleable\"><input class=\"sk-toggleable__control sk-hidden--visually\" id=\"24ccf3f5-c3df-4308-87f2-fa33d36661b9\" type=\"checkbox\" ><label class=\"sk-toggleable__label\" for=\"24ccf3f5-c3df-4308-87f2-fa33d36661b9\">StandardScaler</label><div class=\"sk-toggleable__content\"><pre>StandardScaler()</pre></div></div></div></div></div></div></div></div></div></div><div class=\"sk-item\"><div class=\"sk-estimator sk-toggleable\"><input class=\"sk-toggleable__control sk-hidden--visually\" id=\"6948fbed-420b-497e-bfd6-dbf135f6defd\" type=\"checkbox\" ><label class=\"sk-toggleable__label\" for=\"6948fbed-420b-497e-bfd6-dbf135f6defd\">SMOTE</label><div class=\"sk-toggleable__content\"><pre>SMOTE(random_state=42)</pre></div></div></div><div class=\"sk-item\"><div class=\"sk-estimator sk-toggleable\"><input class=\"sk-toggleable__control sk-hidden--visually\" id=\"928c2b68-a0ee-4833-ac1e-43001a9da984\" type=\"checkbox\" ><label class=\"sk-toggleable__label\" for=\"928c2b68-a0ee-4833-ac1e-43001a9da984\">XGBClassifier</label><div class=\"sk-toggleable__content\"><pre>XGBClassifier(base_score=None, booster=None, colsample_bylevel=None,\n",
       "              colsample_bynode=0.75, colsample_bytree=None, gamma=5,\n",
       "              gpu_id=None, importance_type='gain', interaction_constraints=None,\n",
       "              learning_rate=0.5, max_delta_step=None, max_depth=5,\n",
       "              min_child_weight=None, missing=nan, monotone_constraints=None,\n",
       "              n_estimators=150, n_jobs=None, num_parallel_tree=None,\n",
       "              random_state=42, reg_alpha=None, reg_lambda=None,\n",
       "              scale_pos_weight=None, subsample=None, tree_method=None,\n",
       "              validate_parameters=None, verbosity=None)</pre></div></div></div></div></div></div></div>"
      ],
      "text/plain": [
       "Pipeline(steps=[('preprocess',\n",
       "                 ColumnTransformer(transformers=[('numpipe',\n",
       "                                                  Pipeline(steps=[('numnorm',\n",
       "                                                                   StandardScaler())]),\n",
       "                                                  Index(['amount_tsh', 'gps_height', 'region_code', 'district_code',\n",
       "       'population', 'construction_year'],\n",
       "      dtype='object')),\n",
       "                                                 ('nominalpipe',\n",
       "                                                  Pipeline(steps=[('onehotenc',\n",
       "                                                                   OneHotEncoder(handle_unknown='ignore',\n",
       "                                                                                 sparse=False)),\n",
       "                                                                  ('onehotnorm',\n",
       "                                                                   Stand...\n",
       "                               importance_type='gain',\n",
       "                               interaction_constraints=None, learning_rate=0.5,\n",
       "                               max_delta_step=None, max_depth=5,\n",
       "                               min_child_weight=None, missing=nan,\n",
       "                               monotone_constraints=None, n_estimators=150,\n",
       "                               n_jobs=None, num_parallel_tree=None,\n",
       "                               random_state=42, reg_alpha=None, reg_lambda=None,\n",
       "                               scale_pos_weight=None, subsample=None,\n",
       "                               tree_method=None, validate_parameters=None,\n",
       "                               verbosity=None))])"
      ]
     },
     "execution_count": 34,
     "metadata": {},
     "output_type": "execute_result"
    }
   ],
   "source": [
    "best_model = Pipeline([\n",
    "    ('preprocess', ct),\n",
    "    (\"smote\", SMOTE(random_state=42)),\n",
    "    ('model',XGBClassifier(random_state=42,\n",
    "                           max_depth = clf['model__max_depth'], learning_rate = clf['model__learning_rate'],\n",
    "                           gamma = clf['model__gamma'], colsample_bynode = clf['model__colsample_bynode'],\n",
    "                          n_estimators = clf['model__n_estimators']))\n",
    "])\n",
    "best_model"
   ]
  },
  {
   "cell_type": "code",
   "execution_count": 35,
   "metadata": {},
   "outputs": [
    {
     "data": {
      "image/png": "[encoded data removed]",
      "text/plain": [
       "<Figure size 432x288 with 2 Axes>"
      ]
     },
     "metadata": {
      "needs_background": "light"
     },
     "output_type": "display_data"
    }
   ],
   "source": [
    "best_model.fit(X_train,y_train)\n",
    "best_y_pred = best_model.predict(X_test)\n",
    "cm = confusion_matrix(y_test, best_y_pred)\n",
    "disp = ConfusionMatrixDisplay(confusion_matrix=cm\n",
    "                              )\n",
    "disp.plot();"
   ]
  },
  {
   "cell_type": "markdown",
   "metadata": {},
   "source": [
    "# Best Model Accuracy"
   ]
  },
  {
   "cell_type": "code",
   "execution_count": 36,
   "metadata": {},
   "outputs": [
    {
     "name": "stdout",
     "output_type": "stream",
     "text": [
      "0.832267115600449\n"
     ]
    }
   ],
   "source": [
    "print(best_model.score(X_test,y_test))"
   ]
  },
  {
   "cell_type": "code",
   "execution_count": 37,
   "metadata": {},
   "outputs": [
    {
     "name": "stdout",
     "output_type": "stream",
     "text": [
      "                precision    recall  f1-score   support\n",
      "\n",
      "    functional       0.84      0.90      0.87     11017\n",
      "non functional       0.82      0.72      0.77      6803\n",
      "\n",
      "      accuracy                           0.83     17820\n",
      "     macro avg       0.83      0.81      0.82     17820\n",
      "  weighted avg       0.83      0.83      0.83     17820\n",
      "\n"
     ]
    }
   ],
   "source": [
    "print(classification_report(y_test, best_y_pred))"
   ]
  },
  {
   "cell_type": "markdown",
   "metadata": {},
   "source": [
    "# Best Model AUC"
   ]
  },
  {
   "cell_type": "code",
   "execution_count": 39,
   "metadata": {},
   "outputs": [
    {
     "data": {
      "image/png": "[encoded data removed]",
      "text/plain": [
       "<Figure size 432x288 with 1 Axes>"
      ]
     },
     "metadata": {
      "needs_background": "light"
     },
     "output_type": "display_data"
    }
   ],
   "source": [
    "plot_roc_curve(best_model,X_test,y_test);"
   ]
  },
  {
   "cell_type": "code",
   "execution_count": null,
   "metadata": {},
   "outputs": [],
   "source": []
  }
 ],
 "metadata": {
  "kernelspec": {
   "display_name": "Python (learn-env)",
   "language": "python",
   "name": "learn-env"
  },
  "language_info": {
   "codemirror_mode": {
    "name": "ipython",
    "version": 3
   },
   "file_extension": ".py",
   "mimetype": "text/x-python",
   "name": "python",
   "nbconvert_exporter": "python",
   "pygments_lexer": "ipython3",
   "version": "3.8.5"
  }
 },
 "nbformat": 4,
 "nbformat_minor": 4
}
