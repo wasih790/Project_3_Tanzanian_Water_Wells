{
 "cells": [
  {
   "cell_type": "code",
   "execution_count": 1,
   "metadata": {},
   "outputs": [],
   "source": [
    "import pandas as pd\n",
    "import numpy as np\n",
    "from sklearn.preprocessing import OneHotEncoder\n",
    "from sklearn.preprocessing import StandardScaler\n",
    "from sklearn.preprocessing import MaxAbsScaler\n",
    "from imblearn.pipeline import Pipeline\n",
    "from sklearn.compose import ColumnTransformer\n",
    "from sklearn import set_config\n",
    "set_config(display=\"diagram\")\n",
    "from xgboost import XGBClassifier\n",
    "from sklearn.metrics import confusion_matrix, ConfusionMatrixDisplay\n",
    "import matplotlib.pyplot as plt\n",
    "\n",
    "from imblearn.over_sampling import SMOTE\n",
    "from sklearn.metrics import plot_roc_curve, auc,roc_curve,roc_auc_score\n",
    "from sklearn.metrics import classification_report\n",
    "\n",
    "import warnings\n",
    "warnings.filterwarnings('ignore')\n",
    "\n",
    "from sklearn.metrics import mean_absolute_error\n",
    "from sklearn.metrics import mean_squared_error\n",
    "from sklearn.metrics import r2_score\n",
    "from sklearn.model_selection import GridSearchCV"
   ]
  },
  {
   "cell_type": "code",
   "execution_count": 2,
   "metadata": {},
   "outputs": [],
   "source": [
    "df = pd.read_csv('Taz_Water.csv')"
   ]
  },
  {
   "cell_type": "markdown",
   "metadata": {},
   "source": [
    "# Unnessary Columns for preditive model"
   ]
  },
  {
   "cell_type": "code",
   "execution_count": 3,
   "metadata": {},
   "outputs": [],
   "source": [
    "pred_uncol = ['date_recorded','funder','installer','longitude','latitude','wpt_name','num_private','subvillage'\n",
    "              ,'recorded_by','scheme_name','ward','public_meeting',\n",
    "             'extraction_type','payment','quality_group','source_type','quantity',\n",
    "             'waterpoint_type_group','permit']"
   ]
  },
  {
   "cell_type": "code",
   "execution_count": 4,
   "metadata": {},
   "outputs": [
    {
     "data": {
      "text/html": [
       "<div>\n",
       "<style scoped>\n",
       "    .dataframe tbody tr th:only-of-type {\n",
       "        vertical-align: middle;\n",
       "    }\n",
       "\n",
       "    .dataframe tbody tr th {\n",
       "        vertical-align: top;\n",
       "    }\n",
       "\n",
       "    .dataframe thead th {\n",
       "        text-align: right;\n",
       "    }\n",
       "</style>\n",
       "<table border=\"1\" class=\"dataframe\">\n",
       "  <thead>\n",
       "    <tr style=\"text-align: right;\">\n",
       "      <th></th>\n",
       "      <th>id</th>\n",
       "      <th>amount_tsh</th>\n",
       "      <th>gps_height</th>\n",
       "      <th>basin</th>\n",
       "      <th>region</th>\n",
       "      <th>region_code</th>\n",
       "      <th>district_code</th>\n",
       "      <th>lga</th>\n",
       "      <th>population</th>\n",
       "      <th>scheme_management</th>\n",
       "      <th>...</th>\n",
       "      <th>extraction_type_class</th>\n",
       "      <th>management</th>\n",
       "      <th>management_group</th>\n",
       "      <th>payment_type</th>\n",
       "      <th>water_quality</th>\n",
       "      <th>quantity_group</th>\n",
       "      <th>source</th>\n",
       "      <th>source_class</th>\n",
       "      <th>waterpoint_type</th>\n",
       "      <th>status_group</th>\n",
       "    </tr>\n",
       "  </thead>\n",
       "  <tbody>\n",
       "    <tr>\n",
       "      <th>0</th>\n",
       "      <td>69572</td>\n",
       "      <td>6000.0</td>\n",
       "      <td>1390</td>\n",
       "      <td>Lake Nyasa</td>\n",
       "      <td>Iringa</td>\n",
       "      <td>11</td>\n",
       "      <td>5</td>\n",
       "      <td>Ludewa</td>\n",
       "      <td>109</td>\n",
       "      <td>VWC</td>\n",
       "      <td>...</td>\n",
       "      <td>gravity</td>\n",
       "      <td>vwc</td>\n",
       "      <td>user-group</td>\n",
       "      <td>annually</td>\n",
       "      <td>soft</td>\n",
       "      <td>enough</td>\n",
       "      <td>spring</td>\n",
       "      <td>groundwater</td>\n",
       "      <td>communal standpipe</td>\n",
       "      <td>functional</td>\n",
       "    </tr>\n",
       "    <tr>\n",
       "      <th>1</th>\n",
       "      <td>8776</td>\n",
       "      <td>0.0</td>\n",
       "      <td>1399</td>\n",
       "      <td>Lake Victoria</td>\n",
       "      <td>Mara</td>\n",
       "      <td>20</td>\n",
       "      <td>2</td>\n",
       "      <td>Serengeti</td>\n",
       "      <td>280</td>\n",
       "      <td>Other</td>\n",
       "      <td>...</td>\n",
       "      <td>gravity</td>\n",
       "      <td>wug</td>\n",
       "      <td>user-group</td>\n",
       "      <td>never pay</td>\n",
       "      <td>soft</td>\n",
       "      <td>insufficient</td>\n",
       "      <td>rainwater harvesting</td>\n",
       "      <td>surface</td>\n",
       "      <td>communal standpipe</td>\n",
       "      <td>functional</td>\n",
       "    </tr>\n",
       "    <tr>\n",
       "      <th>2</th>\n",
       "      <td>34310</td>\n",
       "      <td>25.0</td>\n",
       "      <td>686</td>\n",
       "      <td>Pangani</td>\n",
       "      <td>Manyara</td>\n",
       "      <td>21</td>\n",
       "      <td>4</td>\n",
       "      <td>Simanjiro</td>\n",
       "      <td>250</td>\n",
       "      <td>VWC</td>\n",
       "      <td>...</td>\n",
       "      <td>gravity</td>\n",
       "      <td>vwc</td>\n",
       "      <td>user-group</td>\n",
       "      <td>per bucket</td>\n",
       "      <td>soft</td>\n",
       "      <td>enough</td>\n",
       "      <td>dam</td>\n",
       "      <td>surface</td>\n",
       "      <td>communal standpipe multiple</td>\n",
       "      <td>functional</td>\n",
       "    </tr>\n",
       "    <tr>\n",
       "      <th>3</th>\n",
       "      <td>67743</td>\n",
       "      <td>0.0</td>\n",
       "      <td>263</td>\n",
       "      <td>Ruvuma / Southern Coast</td>\n",
       "      <td>Mtwara</td>\n",
       "      <td>90</td>\n",
       "      <td>63</td>\n",
       "      <td>Nanyumbu</td>\n",
       "      <td>58</td>\n",
       "      <td>VWC</td>\n",
       "      <td>...</td>\n",
       "      <td>submersible</td>\n",
       "      <td>vwc</td>\n",
       "      <td>user-group</td>\n",
       "      <td>never pay</td>\n",
       "      <td>soft</td>\n",
       "      <td>dry</td>\n",
       "      <td>machine dbh</td>\n",
       "      <td>groundwater</td>\n",
       "      <td>communal standpipe multiple</td>\n",
       "      <td>non functional</td>\n",
       "    </tr>\n",
       "    <tr>\n",
       "      <th>4</th>\n",
       "      <td>19728</td>\n",
       "      <td>0.0</td>\n",
       "      <td>0</td>\n",
       "      <td>Lake Victoria</td>\n",
       "      <td>Kagera</td>\n",
       "      <td>18</td>\n",
       "      <td>1</td>\n",
       "      <td>Karagwe</td>\n",
       "      <td>0</td>\n",
       "      <td>NaN</td>\n",
       "      <td>...</td>\n",
       "      <td>gravity</td>\n",
       "      <td>other</td>\n",
       "      <td>other</td>\n",
       "      <td>never pay</td>\n",
       "      <td>soft</td>\n",
       "      <td>seasonal</td>\n",
       "      <td>rainwater harvesting</td>\n",
       "      <td>surface</td>\n",
       "      <td>communal standpipe</td>\n",
       "      <td>functional</td>\n",
       "    </tr>\n",
       "  </tbody>\n",
       "</table>\n",
       "<p>5 rows × 22 columns</p>\n",
       "</div>"
      ],
      "text/plain": [
       "      id  amount_tsh  gps_height                    basin   region  \\\n",
       "0  69572      6000.0        1390               Lake Nyasa   Iringa   \n",
       "1   8776         0.0        1399            Lake Victoria     Mara   \n",
       "2  34310        25.0         686                  Pangani  Manyara   \n",
       "3  67743         0.0         263  Ruvuma / Southern Coast   Mtwara   \n",
       "4  19728         0.0           0            Lake Victoria   Kagera   \n",
       "\n",
       "   region_code  district_code        lga  population scheme_management  ...  \\\n",
       "0           11              5     Ludewa         109               VWC  ...   \n",
       "1           20              2  Serengeti         280             Other  ...   \n",
       "2           21              4  Simanjiro         250               VWC  ...   \n",
       "3           90             63   Nanyumbu          58               VWC  ...   \n",
       "4           18              1    Karagwe           0               NaN  ...   \n",
       "\n",
       "   extraction_type_class management management_group payment_type  \\\n",
       "0                gravity        vwc       user-group     annually   \n",
       "1                gravity        wug       user-group    never pay   \n",
       "2                gravity        vwc       user-group   per bucket   \n",
       "3            submersible        vwc       user-group    never pay   \n",
       "4                gravity      other            other    never pay   \n",
       "\n",
       "  water_quality quantity_group                source source_class  \\\n",
       "0          soft         enough                spring  groundwater   \n",
       "1          soft   insufficient  rainwater harvesting      surface   \n",
       "2          soft         enough                   dam      surface   \n",
       "3          soft            dry           machine dbh  groundwater   \n",
       "4          soft       seasonal  rainwater harvesting      surface   \n",
       "\n",
       "               waterpoint_type    status_group  \n",
       "0           communal standpipe      functional  \n",
       "1           communal standpipe      functional  \n",
       "2  communal standpipe multiple      functional  \n",
       "3  communal standpipe multiple  non functional  \n",
       "4           communal standpipe      functional  \n",
       "\n",
       "[5 rows x 22 columns]"
      ]
     },
     "execution_count": 4,
     "metadata": {},
     "output_type": "execute_result"
    }
   ],
   "source": [
    "pred_df = df.drop(pred_uncol,axis=1)\n",
    "pred_df.head()"
   ]
  },
  {
   "cell_type": "markdown",
   "metadata": {},
   "source": [
    "# Checking each columns"
   ]
  },
  {
   "cell_type": "code",
   "execution_count": 5,
   "metadata": {},
   "outputs": [
    {
     "data": {
      "text/plain": [
       "amount_tsh                  0\n",
       "gps_height                  0\n",
       "basin                       0\n",
       "region                      0\n",
       "region_code                 0\n",
       "district_code               0\n",
       "lga                         0\n",
       "population                  0\n",
       "scheme_management        3877\n",
       "construction_year           0\n",
       "extraction_type_group       0\n",
       "extraction_type_class       0\n",
       "management                  0\n",
       "management_group            0\n",
       "payment_type                0\n",
       "water_quality               0\n",
       "quantity_group              0\n",
       "source                      0\n",
       "source_class                0\n",
       "waterpoint_type             0\n",
       "status_group                0\n",
       "dtype: int64"
      ]
     },
     "execution_count": 5,
     "metadata": {},
     "output_type": "execute_result"
    }
   ],
   "source": [
    "dd = pred_df.drop('id',axis=1)\n",
    "dd.isna().sum()"
   ]
  },
  {
   "cell_type": "code",
   "execution_count": 6,
   "metadata": {},
   "outputs": [
    {
     "name": "stdout",
     "output_type": "stream",
     "text": [
      "<class 'pandas.core.frame.DataFrame'>\n",
      "RangeIndex: 59400 entries, 0 to 59399\n",
      "Data columns (total 21 columns):\n",
      " #   Column                 Non-Null Count  Dtype  \n",
      "---  ------                 --------------  -----  \n",
      " 0   amount_tsh             59400 non-null  float64\n",
      " 1   gps_height             59400 non-null  int64  \n",
      " 2   basin                  59400 non-null  object \n",
      " 3   region                 59400 non-null  object \n",
      " 4   region_code            59400 non-null  int64  \n",
      " 5   district_code          59400 non-null  int64  \n",
      " 6   lga                    59400 non-null  object \n",
      " 7   population             59400 non-null  int64  \n",
      " 8   scheme_management      55523 non-null  object \n",
      " 9   construction_year      59400 non-null  int64  \n",
      " 10  extraction_type_group  59400 non-null  object \n",
      " 11  extraction_type_class  59400 non-null  object \n",
      " 12  management             59400 non-null  object \n",
      " 13  management_group       59400 non-null  object \n",
      " 14  payment_type           59400 non-null  object \n",
      " 15  water_quality          59400 non-null  object \n",
      " 16  quantity_group         59400 non-null  object \n",
      " 17  source                 59400 non-null  object \n",
      " 18  source_class           59400 non-null  object \n",
      " 19  waterpoint_type        59400 non-null  object \n",
      " 20  status_group           59400 non-null  object \n",
      "dtypes: float64(1), int64(5), object(15)\n",
      "memory usage: 9.5+ MB\n"
     ]
    }
   ],
   "source": [
    "dd.info()"
   ]
  },
  {
   "cell_type": "markdown",
   "metadata": {},
   "source": [
    "# Train test split"
   ]
  },
  {
   "cell_type": "code",
   "execution_count": 7,
   "metadata": {},
   "outputs": [],
   "source": [
    "X = dd.drop('status_group',axis=1)\n",
    "y = dd['status_group']"
   ]
  },
  {
   "cell_type": "code",
   "execution_count": 8,
   "metadata": {},
   "outputs": [],
   "source": [
    "from sklearn.model_selection import train_test_split\n",
    "\n",
    "X_train, X_test, y_train, y_test = train_test_split(X, y, test_size=0.30, random_state=42)"
   ]
  },
  {
   "cell_type": "markdown",
   "metadata": {},
   "source": [
    "# fixing the missing data"
   ]
  },
  {
   "cell_type": "markdown",
   "metadata": {},
   "source": [
    "## Train"
   ]
  },
  {
   "cell_type": "code",
   "execution_count": 9,
   "metadata": {},
   "outputs": [],
   "source": [
    "X_train[\"scheme_management\"].fillna(\"VWC\", inplace = True)\n",
    "X_train['construction_year'] = X_train['construction_year'].replace(0,np.nan)\n",
    "X_train['construction_year'] = X_train['construction_year'].apply(lambda x: x if pd.notnull(x) else np.random.randint(2000, 2010))"
   ]
  },
  {
   "cell_type": "markdown",
   "metadata": {},
   "source": [
    "## Test"
   ]
  },
  {
   "cell_type": "code",
   "execution_count": 10,
   "metadata": {},
   "outputs": [],
   "source": [
    "X_test[\"scheme_management\"].fillna(\"VWC\", inplace = True)\n",
    "X_test['construction_year'] = X_test['construction_year'].replace(0,np.nan)\n",
    "X_test['construction_year'] = X_test['construction_year'].apply(lambda x: x if pd.notnull(x) else np.random.randint(2000, 2010))"
   ]
  },
  {
   "cell_type": "markdown",
   "metadata": {},
   "source": [
    "# Pipe lines"
   ]
  },
  {
   "cell_type": "code",
   "execution_count": 11,
   "metadata": {},
   "outputs": [],
   "source": [
    "cat_cols = X_train.select_dtypes('object').columns\n",
    "num_cols = X_train.select_dtypes(['int','float']).columns\n",
    "\n",
    "\n",
    "numeric_pipe = Pipeline([('numnorm',StandardScaler())])\n",
    "\n",
    "nominal_pipe = Pipeline([\n",
    "    ('onehotenc', OneHotEncoder(sparse=False, handle_unknown = 'ignore')),\n",
    "    ('onehotnorm', StandardScaler())\n",
    "])"
   ]
  },
  {
   "cell_type": "code",
   "execution_count": 12,
   "metadata": {},
   "outputs": [
    {
     "data": {
      "text/html": [
       "<style>div.sk-top-container {color: black;background-color: white;}div.sk-toggleable {background-color: white;}label.sk-toggleable__label {cursor: pointer;display: block;width: 100%;margin-bottom: 0;padding: 0.2em 0.3em;box-sizing: border-box;text-align: center;}div.sk-toggleable__content {max-height: 0;max-width: 0;overflow: hidden;text-align: left;background-color: #f0f8ff;}div.sk-toggleable__content pre {margin: 0.2em;color: black;border-radius: 0.25em;background-color: #f0f8ff;}input.sk-toggleable__control:checked~div.sk-toggleable__content {max-height: 200px;max-width: 100%;overflow: auto;}div.sk-estimator input.sk-toggleable__control:checked~label.sk-toggleable__label {background-color: #d4ebff;}div.sk-label input.sk-toggleable__control:checked~label.sk-toggleable__label {background-color: #d4ebff;}input.sk-hidden--visually {border: 0;clip: rect(1px 1px 1px 1px);clip: rect(1px, 1px, 1px, 1px);height: 1px;margin: -1px;overflow: hidden;padding: 0;position: absolute;width: 1px;}div.sk-estimator {font-family: monospace;background-color: #f0f8ff;margin: 0.25em 0.25em;border: 1px dotted black;border-radius: 0.25em;box-sizing: border-box;}div.sk-estimator:hover {background-color: #d4ebff;}div.sk-parallel-item::after {content: \"\";width: 100%;border-bottom: 1px solid gray;flex-grow: 1;}div.sk-label:hover label.sk-toggleable__label {background-color: #d4ebff;}div.sk-serial::before {content: \"\";position: absolute;border-left: 1px solid gray;box-sizing: border-box;top: 2em;bottom: 0;left: 50%;}div.sk-serial {display: flex;flex-direction: column;align-items: center;background-color: white;}div.sk-item {z-index: 1;}div.sk-parallel {display: flex;align-items: stretch;justify-content: center;background-color: white;}div.sk-parallel-item {display: flex;flex-direction: column;position: relative;background-color: white;}div.sk-parallel-item:first-child::after {align-self: flex-end;width: 50%;}div.sk-parallel-item:last-child::after {align-self: flex-start;width: 50%;}div.sk-parallel-item:only-child::after {width: 0;}div.sk-dashed-wrapped {border: 1px dashed gray;margin: 0.2em;box-sizing: border-box;padding-bottom: 0.1em;background-color: white;position: relative;}div.sk-label label {font-family: monospace;font-weight: bold;background-color: white;display: inline-block;line-height: 1.2em;}div.sk-label-container {position: relative;z-index: 2;text-align: center;}div.sk-container {display: inline-block;position: relative;}</style><div class=\"sk-top-container\"><div class=\"sk-container\"><div class=\"sk-item sk-dashed-wrapped\"><div class=\"sk-label-container\"><div class=\"sk-label sk-toggleable\"><input class=\"sk-toggleable__control sk-hidden--visually\" id=\"00e38cf4-f705-4409-9b86-d194793d267f\" type=\"checkbox\" ><label class=\"sk-toggleable__label\" for=\"00e38cf4-f705-4409-9b86-d194793d267f\">ColumnTransformer</label><div class=\"sk-toggleable__content\"><pre>ColumnTransformer(transformers=[('numpipe',\n",
       "                                 Pipeline(steps=[('numnorm',\n",
       "                                                  StandardScaler())]),\n",
       "                                 Index(['amount_tsh', 'gps_height', 'region_code', 'district_code',\n",
       "       'population', 'construction_year'],\n",
       "      dtype='object')),\n",
       "                                ('nominalpipe',\n",
       "                                 Pipeline(steps=[('onehotenc',\n",
       "                                                  OneHotEncoder(handle_unknown='ignore',\n",
       "                                                                sparse=False)),\n",
       "                                                 ('onehotnorm',\n",
       "                                                  StandardScaler())]),\n",
       "                                 Index(['basin', 'region', 'lga', 'scheme_management', 'extraction_type_group',\n",
       "       'extraction_type_class', 'management', 'management_group',\n",
       "       'payment_type', 'water_quality', 'quantity_group', 'source',\n",
       "       'source_class', 'waterpoint_type'],\n",
       "      dtype='object'))])</pre></div></div></div><div class=\"sk-parallel\"><div class=\"sk-parallel-item\"><div class=\"sk-item\"><div class=\"sk-label-container\"><div class=\"sk-label sk-toggleable\"><input class=\"sk-toggleable__control sk-hidden--visually\" id=\"3d56e485-ae37-4279-baa5-08800e88c16a\" type=\"checkbox\" ><label class=\"sk-toggleable__label\" for=\"3d56e485-ae37-4279-baa5-08800e88c16a\">numpipe</label><div class=\"sk-toggleable__content\"><pre>Index(['amount_tsh', 'gps_height', 'region_code', 'district_code',\n",
       "       'population', 'construction_year'],\n",
       "      dtype='object')</pre></div></div></div><div class=\"sk-serial\"><div class=\"sk-item\"><div class=\"sk-serial\"><div class=\"sk-item\"><div class=\"sk-estimator sk-toggleable\"><input class=\"sk-toggleable__control sk-hidden--visually\" id=\"9d026492-3058-4d43-9cd9-99801675465f\" type=\"checkbox\" ><label class=\"sk-toggleable__label\" for=\"9d026492-3058-4d43-9cd9-99801675465f\">StandardScaler</label><div class=\"sk-toggleable__content\"><pre>StandardScaler()</pre></div></div></div></div></div></div></div></div><div class=\"sk-parallel-item\"><div class=\"sk-item\"><div class=\"sk-label-container\"><div class=\"sk-label sk-toggleable\"><input class=\"sk-toggleable__control sk-hidden--visually\" id=\"79fe7935-15b8-499b-bea1-452b352486ed\" type=\"checkbox\" ><label class=\"sk-toggleable__label\" for=\"79fe7935-15b8-499b-bea1-452b352486ed\">nominalpipe</label><div class=\"sk-toggleable__content\"><pre>Index(['basin', 'region', 'lga', 'scheme_management', 'extraction_type_group',\n",
       "       'extraction_type_class', 'management', 'management_group',\n",
       "       'payment_type', 'water_quality', 'quantity_group', 'source',\n",
       "       'source_class', 'waterpoint_type'],\n",
       "      dtype='object')</pre></div></div></div><div class=\"sk-serial\"><div class=\"sk-item\"><div class=\"sk-serial\"><div class=\"sk-item\"><div class=\"sk-estimator sk-toggleable\"><input class=\"sk-toggleable__control sk-hidden--visually\" id=\"23fb157e-0889-47a6-953b-5bdfb2edbf9f\" type=\"checkbox\" ><label class=\"sk-toggleable__label\" for=\"23fb157e-0889-47a6-953b-5bdfb2edbf9f\">OneHotEncoder</label><div class=\"sk-toggleable__content\"><pre>OneHotEncoder(handle_unknown='ignore', sparse=False)</pre></div></div></div><div class=\"sk-item\"><div class=\"sk-estimator sk-toggleable\"><input class=\"sk-toggleable__control sk-hidden--visually\" id=\"1ddcb84b-b2e7-4a33-999f-82bbb0eb7cfc\" type=\"checkbox\" ><label class=\"sk-toggleable__label\" for=\"1ddcb84b-b2e7-4a33-999f-82bbb0eb7cfc\">StandardScaler</label><div class=\"sk-toggleable__content\"><pre>StandardScaler()</pre></div></div></div></div></div></div></div></div></div></div></div></div>"
      ],
      "text/plain": [
       "ColumnTransformer(transformers=[('numpipe',\n",
       "                                 Pipeline(steps=[('numnorm',\n",
       "                                                  StandardScaler())]),\n",
       "                                 Index(['amount_tsh', 'gps_height', 'region_code', 'district_code',\n",
       "       'population', 'construction_year'],\n",
       "      dtype='object')),\n",
       "                                ('nominalpipe',\n",
       "                                 Pipeline(steps=[('onehotenc',\n",
       "                                                  OneHotEncoder(handle_unknown='ignore',\n",
       "                                                                sparse=False)),\n",
       "                                                 ('onehotnorm',\n",
       "                                                  StandardScaler())]),\n",
       "                                 Index(['basin', 'region', 'lga', 'scheme_management', 'extraction_type_group',\n",
       "       'extraction_type_class', 'management', 'management_group',\n",
       "       'payment_type', 'water_quality', 'quantity_group', 'source',\n",
       "       'source_class', 'waterpoint_type'],\n",
       "      dtype='object'))])"
      ]
     },
     "execution_count": 12,
     "metadata": {},
     "output_type": "execute_result"
    }
   ],
   "source": [
    "ct = ColumnTransformer([\n",
    "    ('numpipe',numeric_pipe, num_cols),\n",
    "    ('nominalpipe',nominal_pipe,cat_cols),\n",
    "])\n",
    "ct"
   ]
  },
  {
   "cell_type": "code",
   "execution_count": 13,
   "metadata": {},
   "outputs": [
    {
     "data": {
      "text/html": [
       "<style>div.sk-top-container {color: black;background-color: white;}div.sk-toggleable {background-color: white;}label.sk-toggleable__label {cursor: pointer;display: block;width: 100%;margin-bottom: 0;padding: 0.2em 0.3em;box-sizing: border-box;text-align: center;}div.sk-toggleable__content {max-height: 0;max-width: 0;overflow: hidden;text-align: left;background-color: #f0f8ff;}div.sk-toggleable__content pre {margin: 0.2em;color: black;border-radius: 0.25em;background-color: #f0f8ff;}input.sk-toggleable__control:checked~div.sk-toggleable__content {max-height: 200px;max-width: 100%;overflow: auto;}div.sk-estimator input.sk-toggleable__control:checked~label.sk-toggleable__label {background-color: #d4ebff;}div.sk-label input.sk-toggleable__control:checked~label.sk-toggleable__label {background-color: #d4ebff;}input.sk-hidden--visually {border: 0;clip: rect(1px 1px 1px 1px);clip: rect(1px, 1px, 1px, 1px);height: 1px;margin: -1px;overflow: hidden;padding: 0;position: absolute;width: 1px;}div.sk-estimator {font-family: monospace;background-color: #f0f8ff;margin: 0.25em 0.25em;border: 1px dotted black;border-radius: 0.25em;box-sizing: border-box;}div.sk-estimator:hover {background-color: #d4ebff;}div.sk-parallel-item::after {content: \"\";width: 100%;border-bottom: 1px solid gray;flex-grow: 1;}div.sk-label:hover label.sk-toggleable__label {background-color: #d4ebff;}div.sk-serial::before {content: \"\";position: absolute;border-left: 1px solid gray;box-sizing: border-box;top: 2em;bottom: 0;left: 50%;}div.sk-serial {display: flex;flex-direction: column;align-items: center;background-color: white;}div.sk-item {z-index: 1;}div.sk-parallel {display: flex;align-items: stretch;justify-content: center;background-color: white;}div.sk-parallel-item {display: flex;flex-direction: column;position: relative;background-color: white;}div.sk-parallel-item:first-child::after {align-self: flex-end;width: 50%;}div.sk-parallel-item:last-child::after {align-self: flex-start;width: 50%;}div.sk-parallel-item:only-child::after {width: 0;}div.sk-dashed-wrapped {border: 1px dashed gray;margin: 0.2em;box-sizing: border-box;padding-bottom: 0.1em;background-color: white;position: relative;}div.sk-label label {font-family: monospace;font-weight: bold;background-color: white;display: inline-block;line-height: 1.2em;}div.sk-label-container {position: relative;z-index: 2;text-align: center;}div.sk-container {display: inline-block;position: relative;}</style><div class=\"sk-top-container\"><div class=\"sk-container\"><div class=\"sk-item sk-dashed-wrapped\"><div class=\"sk-label-container\"><div class=\"sk-label sk-toggleable\"><input class=\"sk-toggleable__control sk-hidden--visually\" id=\"faf5cc81-6e72-4591-b691-bb17a152bec8\" type=\"checkbox\" ><label class=\"sk-toggleable__label\" for=\"faf5cc81-6e72-4591-b691-bb17a152bec8\">Pipeline</label><div class=\"sk-toggleable__content\"><pre>Pipeline(steps=[('preprocess',\n",
       "                 ColumnTransformer(transformers=[('numpipe',\n",
       "                                                  Pipeline(steps=[('numnorm',\n",
       "                                                                   StandardScaler())]),\n",
       "                                                  Index(['amount_tsh', 'gps_height', 'region_code', 'district_code',\n",
       "       'population', 'construction_year'],\n",
       "      dtype='object')),\n",
       "                                                 ('nominalpipe',\n",
       "                                                  Pipeline(steps=[('onehotenc',\n",
       "                                                                   OneHotEncoder(handle_unknown='ignore',\n",
       "                                                                                 sparse=False)),\n",
       "                                                                  ('onehotnorm',\n",
       "                                                                   Stand...\n",
       "                               interaction_constraints=None, learning_rate=None,\n",
       "                               max_delta_step=None, max_depth=3,\n",
       "                               min_child_weight=None, missing=nan,\n",
       "                               monotone_constraints=None, n_estimators=100,\n",
       "                               n_jobs=None, num_parallel_tree=None,\n",
       "                               objective='multi:softprob', random_state=42,\n",
       "                               reg_alpha=None, reg_lambda=None,\n",
       "                               scale_pos_weight=None, subsample=None,\n",
       "                               tree_method=None, validate_parameters=None,\n",
       "                               verbosity=None))])</pre></div></div></div><div class=\"sk-serial\"><div class=\"sk-item sk-dashed-wrapped\"><div class=\"sk-label-container\"><div class=\"sk-label sk-toggleable\"><input class=\"sk-toggleable__control sk-hidden--visually\" id=\"88b74548-b3e8-4f08-bd93-222e61710a9f\" type=\"checkbox\" ><label class=\"sk-toggleable__label\" for=\"88b74548-b3e8-4f08-bd93-222e61710a9f\">preprocess: ColumnTransformer</label><div class=\"sk-toggleable__content\"><pre>ColumnTransformer(transformers=[('numpipe',\n",
       "                                 Pipeline(steps=[('numnorm',\n",
       "                                                  StandardScaler())]),\n",
       "                                 Index(['amount_tsh', 'gps_height', 'region_code', 'district_code',\n",
       "       'population', 'construction_year'],\n",
       "      dtype='object')),\n",
       "                                ('nominalpipe',\n",
       "                                 Pipeline(steps=[('onehotenc',\n",
       "                                                  OneHotEncoder(handle_unknown='ignore',\n",
       "                                                                sparse=False)),\n",
       "                                                 ('onehotnorm',\n",
       "                                                  StandardScaler())]),\n",
       "                                 Index(['basin', 'region', 'lga', 'scheme_management', 'extraction_type_group',\n",
       "       'extraction_type_class', 'management', 'management_group',\n",
       "       'payment_type', 'water_quality', 'quantity_group', 'source',\n",
       "       'source_class', 'waterpoint_type'],\n",
       "      dtype='object'))])</pre></div></div></div><div class=\"sk-parallel\"><div class=\"sk-parallel-item\"><div class=\"sk-item\"><div class=\"sk-label-container\"><div class=\"sk-label sk-toggleable\"><input class=\"sk-toggleable__control sk-hidden--visually\" id=\"d6e4cc1d-9828-4bd5-8b97-a8fd0dc380c8\" type=\"checkbox\" ><label class=\"sk-toggleable__label\" for=\"d6e4cc1d-9828-4bd5-8b97-a8fd0dc380c8\">numpipe</label><div class=\"sk-toggleable__content\"><pre>Index(['amount_tsh', 'gps_height', 'region_code', 'district_code',\n",
       "       'population', 'construction_year'],\n",
       "      dtype='object')</pre></div></div></div><div class=\"sk-serial\"><div class=\"sk-item\"><div class=\"sk-serial\"><div class=\"sk-item\"><div class=\"sk-estimator sk-toggleable\"><input class=\"sk-toggleable__control sk-hidden--visually\" id=\"be6dc180-a8ae-4b3d-9490-5784f1ae115a\" type=\"checkbox\" ><label class=\"sk-toggleable__label\" for=\"be6dc180-a8ae-4b3d-9490-5784f1ae115a\">StandardScaler</label><div class=\"sk-toggleable__content\"><pre>StandardScaler()</pre></div></div></div></div></div></div></div></div><div class=\"sk-parallel-item\"><div class=\"sk-item\"><div class=\"sk-label-container\"><div class=\"sk-label sk-toggleable\"><input class=\"sk-toggleable__control sk-hidden--visually\" id=\"f633f833-c397-42d9-8e23-28cb1543200e\" type=\"checkbox\" ><label class=\"sk-toggleable__label\" for=\"f633f833-c397-42d9-8e23-28cb1543200e\">nominalpipe</label><div class=\"sk-toggleable__content\"><pre>Index(['basin', 'region', 'lga', 'scheme_management', 'extraction_type_group',\n",
       "       'extraction_type_class', 'management', 'management_group',\n",
       "       'payment_type', 'water_quality', 'quantity_group', 'source',\n",
       "       'source_class', 'waterpoint_type'],\n",
       "      dtype='object')</pre></div></div></div><div class=\"sk-serial\"><div class=\"sk-item\"><div class=\"sk-serial\"><div class=\"sk-item\"><div class=\"sk-estimator sk-toggleable\"><input class=\"sk-toggleable__control sk-hidden--visually\" id=\"99cd49b9-9818-481d-b9af-d8364ba2b525\" type=\"checkbox\" ><label class=\"sk-toggleable__label\" for=\"99cd49b9-9818-481d-b9af-d8364ba2b525\">OneHotEncoder</label><div class=\"sk-toggleable__content\"><pre>OneHotEncoder(handle_unknown='ignore', sparse=False)</pre></div></div></div><div class=\"sk-item\"><div class=\"sk-estimator sk-toggleable\"><input class=\"sk-toggleable__control sk-hidden--visually\" id=\"71dd93c5-991e-4551-a5f1-a72b81cf4194\" type=\"checkbox\" ><label class=\"sk-toggleable__label\" for=\"71dd93c5-991e-4551-a5f1-a72b81cf4194\">StandardScaler</label><div class=\"sk-toggleable__content\"><pre>StandardScaler()</pre></div></div></div></div></div></div></div></div></div></div><div class=\"sk-item\"><div class=\"sk-estimator sk-toggleable\"><input class=\"sk-toggleable__control sk-hidden--visually\" id=\"b0e6ba0c-3de8-4845-9a63-0e1d1ff1fbe0\" type=\"checkbox\" ><label class=\"sk-toggleable__label\" for=\"b0e6ba0c-3de8-4845-9a63-0e1d1ff1fbe0\">SMOTE</label><div class=\"sk-toggleable__content\"><pre>SMOTE(random_state=42)</pre></div></div></div><div class=\"sk-item\"><div class=\"sk-estimator sk-toggleable\"><input class=\"sk-toggleable__control sk-hidden--visually\" id=\"999233a9-7bc6-4b2d-8bba-91d897d20d12\" type=\"checkbox\" ><label class=\"sk-toggleable__label\" for=\"999233a9-7bc6-4b2d-8bba-91d897d20d12\">XGBClassifier</label><div class=\"sk-toggleable__content\"><pre>XGBClassifier(base_score=None, booster=None, colsample_bylevel=None,\n",
       "              colsample_bynode=None, colsample_bytree=None, gamma=None,\n",
       "              gpu_id=None, importance_type='gain', interaction_constraints=None,\n",
       "              learning_rate=None, max_delta_step=None, max_depth=3,\n",
       "              min_child_weight=None, missing=nan, monotone_constraints=None,\n",
       "              n_estimators=100, n_jobs=None, num_parallel_tree=None,\n",
       "              objective='multi:softprob', random_state=42, reg_alpha=None,\n",
       "              reg_lambda=None, scale_pos_weight=None, subsample=None,\n",
       "              tree_method=None, validate_parameters=None, verbosity=None)</pre></div></div></div></div></div></div></div>"
      ],
      "text/plain": [
       "Pipeline(steps=[('preprocess',\n",
       "                 ColumnTransformer(transformers=[('numpipe',\n",
       "                                                  Pipeline(steps=[('numnorm',\n",
       "                                                                   StandardScaler())]),\n",
       "                                                  Index(['amount_tsh', 'gps_height', 'region_code', 'district_code',\n",
       "       'population', 'construction_year'],\n",
       "      dtype='object')),\n",
       "                                                 ('nominalpipe',\n",
       "                                                  Pipeline(steps=[('onehotenc',\n",
       "                                                                   OneHotEncoder(handle_unknown='ignore',\n",
       "                                                                                 sparse=False)),\n",
       "                                                                  ('onehotnorm',\n",
       "                                                                   Stand...\n",
       "                               interaction_constraints=None, learning_rate=None,\n",
       "                               max_delta_step=None, max_depth=3,\n",
       "                               min_child_weight=None, missing=nan,\n",
       "                               monotone_constraints=None, n_estimators=100,\n",
       "                               n_jobs=None, num_parallel_tree=None,\n",
       "                               objective='multi:softprob', random_state=42,\n",
       "                               reg_alpha=None, reg_lambda=None,\n",
       "                               scale_pos_weight=None, subsample=None,\n",
       "                               tree_method=None, validate_parameters=None,\n",
       "                               verbosity=None))])"
      ]
     },
     "execution_count": 13,
     "metadata": {},
     "output_type": "execute_result"
    }
   ],
   "source": [
    "xg = Pipeline([\n",
    "    ('preprocess', ct),\n",
    "    (\"smote\", SMOTE(random_state=42)),\n",
    "    ('model',XGBClassifier(random_state=42,objective='multi:softprob',max_depth=3))\n",
    "])\n",
    "xg"
   ]
  },
  {
   "cell_type": "markdown",
   "metadata": {},
   "source": [
    "# Fit the Model"
   ]
  },
  {
   "cell_type": "code",
   "execution_count": 14,
   "metadata": {},
   "outputs": [],
   "source": [
    "xg.fit(X_train,y_train)\n",
    "y_pred = xg.predict(X_test)"
   ]
  },
  {
   "cell_type": "code",
   "execution_count": 15,
   "metadata": {},
   "outputs": [
    {
     "data": {
      "image/png": "[encoded data removed]",
      "text/plain": [
       "<Figure size 432x288 with 2 Axes>"
      ]
     },
     "metadata": {
      "needs_background": "light"
     },
     "output_type": "display_data"
    }
   ],
   "source": [
    "cm = confusion_matrix(y_test, y_pred)\n",
    "disp = ConfusionMatrixDisplay(confusion_matrix=cm\n",
    "                              )\n",
    "disp.plot();"
   ]
  },
  {
   "cell_type": "code",
   "execution_count": 16,
   "metadata": {},
   "outputs": [
    {
     "name": "stdout",
     "output_type": "stream",
     "text": [
      "                         precision    recall  f1-score   support\n",
      "\n",
      "             functional       0.79      0.75      0.77      9724\n",
      "functional needs repair       0.26      0.57      0.36      1293\n",
      "         non functional       0.81      0.68      0.74      6803\n",
      "\n",
      "               accuracy                           0.71     17820\n",
      "              macro avg       0.62      0.67      0.62     17820\n",
      "           weighted avg       0.76      0.71      0.73     17820\n",
      "\n"
     ]
    }
   ],
   "source": [
    "print(classification_report(y_test, y_pred))"
   ]
  },
  {
   "cell_type": "markdown",
   "metadata": {},
   "source": [
    "# Checking is overfitting"
   ]
  },
  {
   "cell_type": "code",
   "execution_count": 17,
   "metadata": {},
   "outputs": [
    {
     "name": "stdout",
     "output_type": "stream",
     "text": [
      "0.7233285233285234\n",
      "0.710381593714927\n"
     ]
    }
   ],
   "source": [
    "print(xg.score(X_train,y_train))\n",
    "print(xg.score(X_test,y_test))"
   ]
  },
  {
   "cell_type": "markdown",
   "metadata": {},
   "source": [
    "# AUC"
   ]
  },
  {
   "cell_type": "code",
   "execution_count": 18,
   "metadata": {},
   "outputs": [],
   "source": [
    "from sklearn.metrics import roc_auc_score\n",
    "\n",
    "y_score = xg.fit(X_train, y_train).predict_proba(X_test)\n",
    "\n",
    "\n",
    "\n",
    "micro_roc_auc_ovr = roc_auc_score(\n",
    "    y_test,\n",
    "    y_score,\n",
    "    multi_class=\"ovr\",\n",
    ")"
   ]
  },
  {
   "cell_type": "code",
   "execution_count": 19,
   "metadata": {},
   "outputs": [
    {
     "data": {
      "text/plain": [
       "0.8568378594615007"
      ]
     },
     "execution_count": 19,
     "metadata": {},
     "output_type": "execute_result"
    }
   ],
   "source": [
    "micro_roc_auc_ovr"
   ]
  },
  {
   "cell_type": "markdown",
   "metadata": {},
   "source": [
    "# Grid Search"
   ]
  },
  {
   "cell_type": "code",
   "execution_count": 20,
   "metadata": {},
   "outputs": [],
   "source": [
    "params = {'model__max_depth': [3,4, 5], 'model__learning_rate': [.1, .3, .5],\n",
    "          'model__gamma': [0,5,10], 'model__colsample_bynode': [.5, .75, 1],\n",
    "          'model__n_estimators': [50,100,150] }\n",
    "\n",
    "params"
   ]
  },
  {
   "cell_type": "code",
   "execution_count": 21,
   "metadata": {},
   "outputs": [
    {
     "data": {
      "text/html": [
       "<style>div.sk-top-container {color: black;background-color: white;}div.sk-toggleable {background-color: white;}label.sk-toggleable__label {cursor: pointer;display: block;width: 100%;margin-bottom: 0;padding: 0.2em 0.3em;box-sizing: border-box;text-align: center;}div.sk-toggleable__content {max-height: 0;max-width: 0;overflow: hidden;text-align: left;background-color: #f0f8ff;}div.sk-toggleable__content pre {margin: 0.2em;color: black;border-radius: 0.25em;background-color: #f0f8ff;}input.sk-toggleable__control:checked~div.sk-toggleable__content {max-height: 200px;max-width: 100%;overflow: auto;}div.sk-estimator input.sk-toggleable__control:checked~label.sk-toggleable__label {background-color: #d4ebff;}div.sk-label input.sk-toggleable__control:checked~label.sk-toggleable__label {background-color: #d4ebff;}input.sk-hidden--visually {border: 0;clip: rect(1px 1px 1px 1px);clip: rect(1px, 1px, 1px, 1px);height: 1px;margin: -1px;overflow: hidden;padding: 0;position: absolute;width: 1px;}div.sk-estimator {font-family: monospace;background-color: #f0f8ff;margin: 0.25em 0.25em;border: 1px dotted black;border-radius: 0.25em;box-sizing: border-box;}div.sk-estimator:hover {background-color: #d4ebff;}div.sk-parallel-item::after {content: \"\";width: 100%;border-bottom: 1px solid gray;flex-grow: 1;}div.sk-label:hover label.sk-toggleable__label {background-color: #d4ebff;}div.sk-serial::before {content: \"\";position: absolute;border-left: 1px solid gray;box-sizing: border-box;top: 2em;bottom: 0;left: 50%;}div.sk-serial {display: flex;flex-direction: column;align-items: center;background-color: white;}div.sk-item {z-index: 1;}div.sk-parallel {display: flex;align-items: stretch;justify-content: center;background-color: white;}div.sk-parallel-item {display: flex;flex-direction: column;position: relative;background-color: white;}div.sk-parallel-item:first-child::after {align-self: flex-end;width: 50%;}div.sk-parallel-item:last-child::after {align-self: flex-start;width: 50%;}div.sk-parallel-item:only-child::after {width: 0;}div.sk-dashed-wrapped {border: 1px dashed gray;margin: 0.2em;box-sizing: border-box;padding-bottom: 0.1em;background-color: white;position: relative;}div.sk-label label {font-family: monospace;font-weight: bold;background-color: white;display: inline-block;line-height: 1.2em;}div.sk-label-container {position: relative;z-index: 2;text-align: center;}div.sk-container {display: inline-block;position: relative;}</style><div class=\"sk-top-container\"><div class=\"sk-container\"><div class=\"sk-item sk-dashed-wrapped\"><div class=\"sk-label-container\"><div class=\"sk-label sk-toggleable\"><input class=\"sk-toggleable__control sk-hidden--visually\" id=\"988c4d68-7959-43cf-a483-f217b635de93\" type=\"checkbox\" ><label class=\"sk-toggleable__label\" for=\"988c4d68-7959-43cf-a483-f217b635de93\">GridSearchCV</label><div class=\"sk-toggleable__content\"><pre>GridSearchCV(cv=5,\n",
       "             estimator=Pipeline(steps=[('preprocess',\n",
       "                                        ColumnTransformer(transformers=[('numpipe',\n",
       "                                                                         Pipeline(steps=[('numnorm',\n",
       "                                                                                          StandardScaler())]),\n",
       "                                                                         Index(['amount_tsh', 'gps_height', 'region_code', 'district_code',\n",
       "       'population', 'construction_year'],\n",
       "      dtype='object')),\n",
       "                                                                        ('nominalpipe',\n",
       "                                                                         Pipeline(steps=[('onehotenc',\n",
       "                                                                                          OneHotEncoder(handle_unknown='ignore',\n",
       "                                                                                                        sparse...\n",
       "                                                      objective='multi:softprob',\n",
       "                                                      random_state=42,\n",
       "                                                      reg_alpha=0, reg_lambda=1,\n",
       "                                                      scale_pos_weight=None,\n",
       "                                                      subsample=1,\n",
       "                                                      tree_method='exact',\n",
       "                                                      validate_parameters=1,\n",
       "                                                      verbosity=None))]),\n",
       "             param_grid={'model__colsample_bynode': [0.5, 0.75, 1],\n",
       "                         'model__gamma': [0, 5, 10],\n",
       "                         'model__learning_rate': [0.1, 0.3, 0.5],\n",
       "                         'model__max_depth': [3, 4, 5],\n",
       "                         'model__n_estimators': [50, 100, 150]},\n",
       "             scoring='f1_macro')</pre></div></div></div><div class=\"sk-parallel\"><div class=\"sk-parallel-item\"><div class=\"sk-item\"><div class=\"sk-serial\"><div class=\"sk-item\"><div class=\"sk-serial\"><div class=\"sk-item sk-dashed-wrapped\"><div class=\"sk-label-container\"><div class=\"sk-label sk-toggleable\"><input class=\"sk-toggleable__control sk-hidden--visually\" id=\"a7d2e9d0-8295-4100-b641-dcbbfc93076b\" type=\"checkbox\" ><label class=\"sk-toggleable__label\" for=\"a7d2e9d0-8295-4100-b641-dcbbfc93076b\">preprocess: ColumnTransformer</label><div class=\"sk-toggleable__content\"><pre>ColumnTransformer(transformers=[('numpipe',\n",
       "                                 Pipeline(steps=[('numnorm',\n",
       "                                                  StandardScaler())]),\n",
       "                                 Index(['amount_tsh', 'gps_height', 'region_code', 'district_code',\n",
       "       'population', 'construction_year'],\n",
       "      dtype='object')),\n",
       "                                ('nominalpipe',\n",
       "                                 Pipeline(steps=[('onehotenc',\n",
       "                                                  OneHotEncoder(handle_unknown='ignore',\n",
       "                                                                sparse=False)),\n",
       "                                                 ('onehotnorm',\n",
       "                                                  StandardScaler())]),\n",
       "                                 Index(['basin', 'region', 'lga', 'scheme_management', 'extraction_type_group',\n",
       "       'extraction_type_class', 'management', 'management_group',\n",
       "       'payment_type', 'water_quality', 'quantity_group', 'source',\n",
       "       'source_class', 'waterpoint_type'],\n",
       "      dtype='object'))])</pre></div></div></div><div class=\"sk-parallel\"><div class=\"sk-parallel-item\"><div class=\"sk-item\"><div class=\"sk-label-container\"><div class=\"sk-label sk-toggleable\"><input class=\"sk-toggleable__control sk-hidden--visually\" id=\"a3595dea-296f-4240-9346-06961b5c04c7\" type=\"checkbox\" ><label class=\"sk-toggleable__label\" for=\"a3595dea-296f-4240-9346-06961b5c04c7\">numpipe</label><div class=\"sk-toggleable__content\"><pre>Index(['amount_tsh', 'gps_height', 'region_code', 'district_code',\n",
       "       'population', 'construction_year'],\n",
       "      dtype='object')</pre></div></div></div><div class=\"sk-serial\"><div class=\"sk-item\"><div class=\"sk-serial\"><div class=\"sk-item\"><div class=\"sk-estimator sk-toggleable\"><input class=\"sk-toggleable__control sk-hidden--visually\" id=\"efbc5e8c-6b32-485e-b7d6-85b9d99b4b1a\" type=\"checkbox\" ><label class=\"sk-toggleable__label\" for=\"efbc5e8c-6b32-485e-b7d6-85b9d99b4b1a\">StandardScaler</label><div class=\"sk-toggleable__content\"><pre>StandardScaler()</pre></div></div></div></div></div></div></div></div><div class=\"sk-parallel-item\"><div class=\"sk-item\"><div class=\"sk-label-container\"><div class=\"sk-label sk-toggleable\"><input class=\"sk-toggleable__control sk-hidden--visually\" id=\"1c5d9f02-5408-4471-8330-101e11cdbbe6\" type=\"checkbox\" ><label class=\"sk-toggleable__label\" for=\"1c5d9f02-5408-4471-8330-101e11cdbbe6\">nominalpipe</label><div class=\"sk-toggleable__content\"><pre>Index(['basin', 'region', 'lga', 'scheme_management', 'extraction_type_group',\n",
       "       'extraction_type_class', 'management', 'management_group',\n",
       "       'payment_type', 'water_quality', 'quantity_group', 'source',\n",
       "       'source_class', 'waterpoint_type'],\n",
       "      dtype='object')</pre></div></div></div><div class=\"sk-serial\"><div class=\"sk-item\"><div class=\"sk-serial\"><div class=\"sk-item\"><div class=\"sk-estimator sk-toggleable\"><input class=\"sk-toggleable__control sk-hidden--visually\" id=\"fe3ee964-6bb4-4f29-a822-9aafe5714782\" type=\"checkbox\" ><label class=\"sk-toggleable__label\" for=\"fe3ee964-6bb4-4f29-a822-9aafe5714782\">OneHotEncoder</label><div class=\"sk-toggleable__content\"><pre>OneHotEncoder(handle_unknown='ignore', sparse=False)</pre></div></div></div><div class=\"sk-item\"><div class=\"sk-estimator sk-toggleable\"><input class=\"sk-toggleable__control sk-hidden--visually\" id=\"4be4ca87-037b-4a44-afa1-90037fb6097c\" type=\"checkbox\" ><label class=\"sk-toggleable__label\" for=\"4be4ca87-037b-4a44-afa1-90037fb6097c\">StandardScaler</label><div class=\"sk-toggleable__content\"><pre>StandardScaler()</pre></div></div></div></div></div></div></div></div></div></div><div class=\"sk-item\"><div class=\"sk-estimator sk-toggleable\"><input class=\"sk-toggleable__control sk-hidden--visually\" id=\"b7d451bb-96d6-40b2-b580-0e9be48b4d5c\" type=\"checkbox\" ><label class=\"sk-toggleable__label\" for=\"b7d451bb-96d6-40b2-b580-0e9be48b4d5c\">SMOTE</label><div class=\"sk-toggleable__content\"><pre>SMOTE(random_state=42)</pre></div></div></div><div class=\"sk-item\"><div class=\"sk-estimator sk-toggleable\"><input class=\"sk-toggleable__control sk-hidden--visually\" id=\"2848d438-35fc-430b-95f3-33f286de70a0\" type=\"checkbox\" ><label class=\"sk-toggleable__label\" for=\"2848d438-35fc-430b-95f3-33f286de70a0\">XGBClassifier</label><div class=\"sk-toggleable__content\"><pre>XGBClassifier(base_score=0.5, booster='gbtree', colsample_bylevel=1,\n",
       "              colsample_bynode=1, colsample_bytree=1, gamma=0, gpu_id=-1,\n",
       "              importance_type='gain', interaction_constraints='',\n",
       "              learning_rate=0.300000012, max_delta_step=0, max_depth=3,\n",
       "              min_child_weight=1, missing=nan, monotone_constraints='()',\n",
       "              n_estimators=100, n_jobs=0, num_parallel_tree=1,\n",
       "              objective='multi:softprob', random_state=42, reg_alpha=0,\n",
       "              reg_lambda=1, scale_pos_weight=None, subsample=1,\n",
       "              tree_method='exact', validate_parameters=1, verbosity=None)</pre></div></div></div></div></div></div></div></div></div></div></div></div>"
      ],
      "text/plain": [
       "GridSearchCV(cv=5,\n",
       "             estimator=Pipeline(steps=[('preprocess',\n",
       "                                        ColumnTransformer(transformers=[('numpipe',\n",
       "                                                                         Pipeline(steps=[('numnorm',\n",
       "                                                                                          StandardScaler())]),\n",
       "                                                                         Index(['amount_tsh', 'gps_height', 'region_code', 'district_code',\n",
       "       'population', 'construction_year'],\n",
       "      dtype='object')),\n",
       "                                                                        ('nominalpipe',\n",
       "                                                                         Pipeline(steps=[('onehotenc',\n",
       "                                                                                          OneHotEncoder(handle_unknown='ignore',\n",
       "                                                                                                        sparse...\n",
       "                                                      objective='multi:softprob',\n",
       "                                                      random_state=42,\n",
       "                                                      reg_alpha=0, reg_lambda=1,\n",
       "                                                      scale_pos_weight=None,\n",
       "                                                      subsample=1,\n",
       "                                                      tree_method='exact',\n",
       "                                                      validate_parameters=1,\n",
       "                                                      verbosity=None))]),\n",
       "             param_grid={'model__colsample_bynode': [0.5, 0.75, 1],\n",
       "                         'model__gamma': [0, 5, 10],\n",
       "                         'model__learning_rate': [0.1, 0.3, 0.5],\n",
       "                         'model__max_depth': [3, 4, 5],\n",
       "                         'model__n_estimators': [50, 100, 150]},\n",
       "             scoring='f1_macro')"
      ]
     },
     "execution_count": 21,
     "metadata": {},
     "output_type": "execute_result"
    }
   ],
   "source": [
    "cv = GridSearchCV(estimator = xg,\n",
    "                  param_grid = params, cv = 5,\n",
    "                 scoring='f1_macro')\n",
    "cv"
   ]
  },
  {
   "cell_type": "code",
   "execution_count": null,
   "metadata": {},
   "outputs": [],
   "source": []
  }
 ],
 "metadata": {
  "kernelspec": {
   "display_name": "Python (learn-env)",
   "language": "python",
   "name": "learn-env"
  },
  "language_info": {
   "codemirror_mode": {
    "name": "ipython",
    "version": 3
   },
   "file_extension": ".py",
   "mimetype": "text/x-python",
   "name": "python",
   "nbconvert_exporter": "python",
   "pygments_lexer": "ipython3",
   "version": "3.8.5"
  }
 },
 "nbformat": 4,
 "nbformat_minor": 4
}
