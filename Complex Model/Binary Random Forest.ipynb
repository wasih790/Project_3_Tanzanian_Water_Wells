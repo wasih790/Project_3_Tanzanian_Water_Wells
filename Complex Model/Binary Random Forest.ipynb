{
 "cells": [
  {
   "cell_type": "code",
   "execution_count": 7,
   "metadata": {},
   "outputs": [],
   "source": [
    "import pandas as pd\n",
    "import numpy as np\n",
    "from sklearn.preprocessing import OneHotEncoder\n",
    "from sklearn.preprocessing import StandardScaler\n",
    "from imblearn.pipeline import Pipeline\n",
    "from sklearn.compose import ColumnTransformer\n",
    "from sklearn import set_config\n",
    "set_config(display=\"diagram\")\n",
    "from sklearn.ensemble import RandomForestClassifier\n",
    "from sklearn.metrics import confusion_matrix, ConfusionMatrixDisplay\n",
    "import matplotlib.pyplot as plt\n",
    "\n",
    "from imblearn.over_sampling import SMOTE\n",
    "from sklearn.metrics import plot_roc_curve, auc,roc_curve,roc_auc_score\n",
    "from sklearn.metrics import classification_report\n",
    "\n",
    "import warnings\n",
    "warnings.filterwarnings('ignore')\n",
    "\n"
   ]
  },
  {
   "cell_type": "code",
   "execution_count": 8,
   "metadata": {},
   "outputs": [],
   "source": [
    "df = pd.read_csv('Taz_Water.csv')"
   ]
  },
  {
   "cell_type": "code",
   "execution_count": 9,
   "metadata": {},
   "outputs": [],
   "source": [
    "df['funder'].fillna(value='Unknown',inplace=True)\n",
    "df['funder'].replace(to_replace = '0', value ='Unknown' , inplace=True)"
   ]
  },
  {
   "cell_type": "code",
   "execution_count": 10,
   "metadata": {},
   "outputs": [],
   "source": [
    "df['installer'].fillna(value='Unknown',inplace=True)  # filling null values with unknown\n",
    "df['installer'].replace(to_replace = '0', value ='Unknown' , inplace=True) # filling 0 values with unknown"
   ]
  },
  {
   "cell_type": "code",
   "execution_count": 11,
   "metadata": {},
   "outputs": [],
   "source": [
    "# From the most common 100 value counts we realized some spelling mistakes or different syntax between same categories\n",
    "\n",
    "# Replacing the spelling mistakes and collect same categories in same name\n",
    "\n",
    "df['installer'].replace(to_replace = ('District Water Department', 'District water depar','Distric Water Department'),\n",
    "                        value ='District water department' , inplace=True)\n",
    "\n",
    "df['installer'].replace(to_replace = ('FinW','Fini water','FINI WATER'), value ='Fini Water' , inplace=True)\n",
    "df['installer'].replace(to_replace = 'JAICA', value ='Jaica' , inplace=True)\n",
    "\n",
    "df['installer'].replace(to_replace = ('COUN', 'District COUNCIL', 'DISTRICT COUNCIL','District Counci', \n",
    "                                      'District Council','Council','Counc','District  Council','Distri'),\n",
    "                                    value ='District council' , inplace=True)\n",
    "\n",
    "df['installer'].replace(to_replace = ('RC CHURCH', 'RC Churc', 'RC','RC Ch','RC C', 'RC CH','RC church', \n",
    "                                      'RC CATHORIC',) , value ='RC Church' , inplace=True)\n",
    "\n",
    "df['installer'].replace(to_replace = ('Central Government','Tanzania Government',\n",
    "                                       'central government','Cental Government', 'Cebtral Government', \n",
    "                                      'Tanzanian Government','Tanzania government', 'Centra Government' ,\n",
    "                                      'CENTRAL GOVERNMENT', 'TANZANIAN GOVERNMENT','Central govt', 'Centr', \n",
    "                                      'Centra govt') , value ='Central government' , inplace=True)\n",
    "\n",
    "df['installer'].replace(to_replace = ('World vision', 'World Division','World Vision'),\n",
    "                                        value ='world vision' , inplace=True)\n",
    "\n",
    "df['installer'].replace(to_replace = ('Unisef','UNICEF'),value ='Unicef' , inplace=True)\n",
    "df['installer'].replace(to_replace = 'DANID', value ='DANIDA' , inplace=True)\n",
    "\n",
    "df['installer'].replace(to_replace = ('villigers', 'villager', 'Villagers', 'Villa', 'Village', 'Villi', \n",
    "                                      'Village Council','Village Counil', 'Villages', 'Vill', 'Village community', \n",
    "                                      'Villaers', 'Village Community', 'Villag','Villege Council', 'Village council',\n",
    "                                      'Village  Council','Villagerd', 'Villager', 'Village Technician',\n",
    "                                      'Village Office','Village community members'),\n",
    "                                        value ='villagers' , inplace=True)\n",
    "\n",
    "df['installer'].replace(to_replace =('Commu','Communit','commu','COMMU', 'COMMUNITY') ,\n",
    "                                        value ='Community' , inplace=True)\n",
    "\n",
    "df['installer'].replace(to_replace = ('GOVERNMENT', 'GOVER', 'GOVERNME', 'GOVERM','GOVERN','Gover','Gove',\n",
    "                                      'Governme','Governmen' ) ,value ='Government' , inplace=True)\n",
    "\n",
    "df['installer'].replace(to_replace = 'Hesawa' ,value ='HESAWA' , inplace=True)"
   ]
  },
  {
   "cell_type": "code",
   "execution_count": 12,
   "metadata": {},
   "outputs": [],
   "source": [
    "# continue to replacing spellin mistakes and getting together values\n",
    "df['installer'].replace(to_replace = ('Colonial Government') , value ='Colonial government' , inplace=True)\n",
    "df['installer'].replace(to_replace = ('Government of Misri') , value ='Misri Government' , inplace=True)\n",
    "df['installer'].replace(to_replace = ('Italy government') , value ='Italian government' , inplace=True)\n",
    "df['installer'].replace(to_replace = ('British colonial government') , value ='British government' , inplace=True)\n",
    "df['installer'].replace(to_replace = ('Concern /government') , value ='Concern/Government' , inplace=True)\n",
    "df['installer'].replace(to_replace = ('Village Government') , value ='Village government' , inplace=True)\n",
    "df['installer'].replace(to_replace = ('Government and Community') , value ='Government /Community' , inplace=True)\n",
    "df['installer'].replace(to_replace = ('Cetral government /RC') , value ='RC church/Central Gover' , inplace=True)\n",
    "df['installer'].replace(to_replace = ('Government /TCRS','Government/TCRS') , value ='TCRS /Government' , inplace=True)\n",
    "df['installer'].replace(to_replace = ('ADRA /Government') , value ='ADRA/Government' , inplace=True)"
   ]
  },
  {
   "cell_type": "markdown",
   "metadata": {},
   "source": [
    "# Unnessary Columns for preditive model"
   ]
  },
  {
   "cell_type": "code",
   "execution_count": 13,
   "metadata": {},
   "outputs": [],
   "source": [
    "pred_uncol = ['date_recorded','longitude','latitude','wpt_name','num_private','subvillage'\n",
    "              ,'recorded_by','scheme_name','ward','public_meeting',\n",
    "             'extraction_type','payment','quality_group','source_type','quantity',\n",
    "             'waterpoint_type_group','permit']"
   ]
  },
  {
   "cell_type": "code",
   "execution_count": 14,
   "metadata": {},
   "outputs": [
    {
     "data": {
      "text/html": [
       "<div>\n",
       "<style scoped>\n",
       "    .dataframe tbody tr th:only-of-type {\n",
       "        vertical-align: middle;\n",
       "    }\n",
       "\n",
       "    .dataframe tbody tr th {\n",
       "        vertical-align: top;\n",
       "    }\n",
       "\n",
       "    .dataframe thead th {\n",
       "        text-align: right;\n",
       "    }\n",
       "</style>\n",
       "<table border=\"1\" class=\"dataframe\">\n",
       "  <thead>\n",
       "    <tr style=\"text-align: right;\">\n",
       "      <th></th>\n",
       "      <th>id</th>\n",
       "      <th>amount_tsh</th>\n",
       "      <th>funder</th>\n",
       "      <th>gps_height</th>\n",
       "      <th>installer</th>\n",
       "      <th>basin</th>\n",
       "      <th>region</th>\n",
       "      <th>region_code</th>\n",
       "      <th>district_code</th>\n",
       "      <th>lga</th>\n",
       "      <th>...</th>\n",
       "      <th>extraction_type_class</th>\n",
       "      <th>management</th>\n",
       "      <th>management_group</th>\n",
       "      <th>payment_type</th>\n",
       "      <th>water_quality</th>\n",
       "      <th>quantity_group</th>\n",
       "      <th>source</th>\n",
       "      <th>source_class</th>\n",
       "      <th>waterpoint_type</th>\n",
       "      <th>status_group</th>\n",
       "    </tr>\n",
       "  </thead>\n",
       "  <tbody>\n",
       "    <tr>\n",
       "      <th>0</th>\n",
       "      <td>69572</td>\n",
       "      <td>6000.0</td>\n",
       "      <td>Roman</td>\n",
       "      <td>1390</td>\n",
       "      <td>Roman</td>\n",
       "      <td>Lake Nyasa</td>\n",
       "      <td>Iringa</td>\n",
       "      <td>11</td>\n",
       "      <td>5</td>\n",
       "      <td>Ludewa</td>\n",
       "      <td>...</td>\n",
       "      <td>gravity</td>\n",
       "      <td>vwc</td>\n",
       "      <td>user-group</td>\n",
       "      <td>annually</td>\n",
       "      <td>soft</td>\n",
       "      <td>enough</td>\n",
       "      <td>spring</td>\n",
       "      <td>groundwater</td>\n",
       "      <td>communal standpipe</td>\n",
       "      <td>functional</td>\n",
       "    </tr>\n",
       "    <tr>\n",
       "      <th>1</th>\n",
       "      <td>8776</td>\n",
       "      <td>0.0</td>\n",
       "      <td>Grumeti</td>\n",
       "      <td>1399</td>\n",
       "      <td>GRUMETI</td>\n",
       "      <td>Lake Victoria</td>\n",
       "      <td>Mara</td>\n",
       "      <td>20</td>\n",
       "      <td>2</td>\n",
       "      <td>Serengeti</td>\n",
       "      <td>...</td>\n",
       "      <td>gravity</td>\n",
       "      <td>wug</td>\n",
       "      <td>user-group</td>\n",
       "      <td>never pay</td>\n",
       "      <td>soft</td>\n",
       "      <td>insufficient</td>\n",
       "      <td>rainwater harvesting</td>\n",
       "      <td>surface</td>\n",
       "      <td>communal standpipe</td>\n",
       "      <td>functional</td>\n",
       "    </tr>\n",
       "    <tr>\n",
       "      <th>2</th>\n",
       "      <td>34310</td>\n",
       "      <td>25.0</td>\n",
       "      <td>Lottery Club</td>\n",
       "      <td>686</td>\n",
       "      <td>world vision</td>\n",
       "      <td>Pangani</td>\n",
       "      <td>Manyara</td>\n",
       "      <td>21</td>\n",
       "      <td>4</td>\n",
       "      <td>Simanjiro</td>\n",
       "      <td>...</td>\n",
       "      <td>gravity</td>\n",
       "      <td>vwc</td>\n",
       "      <td>user-group</td>\n",
       "      <td>per bucket</td>\n",
       "      <td>soft</td>\n",
       "      <td>enough</td>\n",
       "      <td>dam</td>\n",
       "      <td>surface</td>\n",
       "      <td>communal standpipe multiple</td>\n",
       "      <td>functional</td>\n",
       "    </tr>\n",
       "    <tr>\n",
       "      <th>3</th>\n",
       "      <td>67743</td>\n",
       "      <td>0.0</td>\n",
       "      <td>Unicef</td>\n",
       "      <td>263</td>\n",
       "      <td>Unicef</td>\n",
       "      <td>Ruvuma / Southern Coast</td>\n",
       "      <td>Mtwara</td>\n",
       "      <td>90</td>\n",
       "      <td>63</td>\n",
       "      <td>Nanyumbu</td>\n",
       "      <td>...</td>\n",
       "      <td>submersible</td>\n",
       "      <td>vwc</td>\n",
       "      <td>user-group</td>\n",
       "      <td>never pay</td>\n",
       "      <td>soft</td>\n",
       "      <td>dry</td>\n",
       "      <td>machine dbh</td>\n",
       "      <td>groundwater</td>\n",
       "      <td>communal standpipe multiple</td>\n",
       "      <td>non functional</td>\n",
       "    </tr>\n",
       "    <tr>\n",
       "      <th>4</th>\n",
       "      <td>19728</td>\n",
       "      <td>0.0</td>\n",
       "      <td>Action In A</td>\n",
       "      <td>0</td>\n",
       "      <td>Artisan</td>\n",
       "      <td>Lake Victoria</td>\n",
       "      <td>Kagera</td>\n",
       "      <td>18</td>\n",
       "      <td>1</td>\n",
       "      <td>Karagwe</td>\n",
       "      <td>...</td>\n",
       "      <td>gravity</td>\n",
       "      <td>other</td>\n",
       "      <td>other</td>\n",
       "      <td>never pay</td>\n",
       "      <td>soft</td>\n",
       "      <td>seasonal</td>\n",
       "      <td>rainwater harvesting</td>\n",
       "      <td>surface</td>\n",
       "      <td>communal standpipe</td>\n",
       "      <td>functional</td>\n",
       "    </tr>\n",
       "  </tbody>\n",
       "</table>\n",
       "<p>5 rows × 24 columns</p>\n",
       "</div>"
      ],
      "text/plain": [
       "      id  amount_tsh        funder  gps_height     installer  \\\n",
       "0  69572      6000.0         Roman        1390         Roman   \n",
       "1   8776         0.0       Grumeti        1399       GRUMETI   \n",
       "2  34310        25.0  Lottery Club         686  world vision   \n",
       "3  67743         0.0        Unicef         263        Unicef   \n",
       "4  19728         0.0   Action In A           0       Artisan   \n",
       "\n",
       "                     basin   region  region_code  district_code        lga  \\\n",
       "0               Lake Nyasa   Iringa           11              5     Ludewa   \n",
       "1            Lake Victoria     Mara           20              2  Serengeti   \n",
       "2                  Pangani  Manyara           21              4  Simanjiro   \n",
       "3  Ruvuma / Southern Coast   Mtwara           90             63   Nanyumbu   \n",
       "4            Lake Victoria   Kagera           18              1    Karagwe   \n",
       "\n",
       "   ...  extraction_type_class management  management_group payment_type  \\\n",
       "0  ...                gravity        vwc        user-group     annually   \n",
       "1  ...                gravity        wug        user-group    never pay   \n",
       "2  ...                gravity        vwc        user-group   per bucket   \n",
       "3  ...            submersible        vwc        user-group    never pay   \n",
       "4  ...                gravity      other             other    never pay   \n",
       "\n",
       "  water_quality quantity_group                source source_class  \\\n",
       "0          soft         enough                spring  groundwater   \n",
       "1          soft   insufficient  rainwater harvesting      surface   \n",
       "2          soft         enough                   dam      surface   \n",
       "3          soft            dry           machine dbh  groundwater   \n",
       "4          soft       seasonal  rainwater harvesting      surface   \n",
       "\n",
       "               waterpoint_type    status_group  \n",
       "0           communal standpipe      functional  \n",
       "1           communal standpipe      functional  \n",
       "2  communal standpipe multiple      functional  \n",
       "3  communal standpipe multiple  non functional  \n",
       "4           communal standpipe      functional  \n",
       "\n",
       "[5 rows x 24 columns]"
      ]
     },
     "execution_count": 14,
     "metadata": {},
     "output_type": "execute_result"
    }
   ],
   "source": [
    "pred_df = df.drop(pred_uncol,axis=1)\n",
    "pred_df.head()"
   ]
  },
  {
   "cell_type": "markdown",
   "metadata": {},
   "source": [
    "# Setting target to binary"
   ]
  },
  {
   "cell_type": "code",
   "execution_count": 15,
   "metadata": {},
   "outputs": [],
   "source": [
    "pred_df['status_group'] = pred_df['status_group'].replace('functional needs repair','functional')"
   ]
  },
  {
   "cell_type": "code",
   "execution_count": 16,
   "metadata": {},
   "outputs": [
    {
     "data": {
      "text/plain": [
       "amount_tsh                  0\n",
       "funder                      0\n",
       "gps_height                  0\n",
       "installer                   0\n",
       "basin                       0\n",
       "region                      0\n",
       "region_code                 0\n",
       "district_code               0\n",
       "lga                         0\n",
       "population                  0\n",
       "scheme_management        3877\n",
       "construction_year           0\n",
       "extraction_type_group       0\n",
       "extraction_type_class       0\n",
       "management                  0\n",
       "management_group            0\n",
       "payment_type                0\n",
       "water_quality               0\n",
       "quantity_group              0\n",
       "source                      0\n",
       "source_class                0\n",
       "waterpoint_type             0\n",
       "status_group                0\n",
       "dtype: int64"
      ]
     },
     "execution_count": 16,
     "metadata": {},
     "output_type": "execute_result"
    }
   ],
   "source": [
    "dd = pred_df.drop('id',axis=1)\n",
    "dd.isna().sum()"
   ]
  },
  {
   "cell_type": "markdown",
   "metadata": {},
   "source": [
    "# Train test split"
   ]
  },
  {
   "cell_type": "code",
   "execution_count": 17,
   "metadata": {},
   "outputs": [],
   "source": [
    "X = dd.drop('status_group',axis=1)\n",
    "y = dd['status_group']"
   ]
  },
  {
   "cell_type": "code",
   "execution_count": 18,
   "metadata": {},
   "outputs": [],
   "source": [
    "from sklearn.model_selection import train_test_split\n",
    "\n",
    "X_train, X_test, y_train, y_test = train_test_split(X, y, test_size=0.30, random_state=42,stratify=y)"
   ]
  },
  {
   "cell_type": "markdown",
   "metadata": {},
   "source": [
    "# fixing the missing data"
   ]
  },
  {
   "cell_type": "code",
   "execution_count": 19,
   "metadata": {},
   "outputs": [],
   "source": [
    "X_train[\"scheme_management\"].fillna(\"VWC\", inplace = True)\n",
    "X_train['construction_year'] = X_train['construction_year'].replace(0,np.nan)\n",
    "X_train['construction_year'] = X_train['construction_year'].apply(lambda x: x if pd.notnull(x) else np.random.randint(2000, 2010))"
   ]
  },
  {
   "cell_type": "markdown",
   "metadata": {},
   "source": [
    "## Test"
   ]
  },
  {
   "cell_type": "code",
   "execution_count": 20,
   "metadata": {},
   "outputs": [],
   "source": [
    "X_test[\"scheme_management\"].fillna(\"VWC\", inplace = True)\n",
    "X_test['construction_year'] = X_test['construction_year'].replace(0,np.nan)\n",
    "X_test['construction_year'] = X_test['construction_year'].apply(lambda x: x if pd.notnull(x) else np.random.randint(2000, 2010))"
   ]
  },
  {
   "cell_type": "markdown",
   "metadata": {},
   "source": [
    "# Pipe lines"
   ]
  },
  {
   "cell_type": "code",
   "execution_count": 124,
   "metadata": {},
   "outputs": [],
   "source": [
    "cat_cols = X_train.select_dtypes('object').columns\n",
    "num_cols = X_train.select_dtypes(['int','float']).columns\n",
    "\n",
    "\n",
    "numeric_pipe = Pipeline([('numnorm',StandardScaler())])\n",
    "\n",
    "nominal_pipe = Pipeline([\n",
    "    ('onehotenc', OneHotEncoder(handle_unknown = 'ignore')),\n",
    "    ('onehotnorm', StandardScaler())\n",
    "])"
   ]
  },
  {
   "cell_type": "code",
   "execution_count": 125,
   "metadata": {},
   "outputs": [
    {
     "data": {
      "text/html": [
       "<style>div.sk-top-container {color: black;background-color: white;}div.sk-toggleable {background-color: white;}label.sk-toggleable__label {cursor: pointer;display: block;width: 100%;margin-bottom: 0;padding: 0.2em 0.3em;box-sizing: border-box;text-align: center;}div.sk-toggleable__content {max-height: 0;max-width: 0;overflow: hidden;text-align: left;background-color: #f0f8ff;}div.sk-toggleable__content pre {margin: 0.2em;color: black;border-radius: 0.25em;background-color: #f0f8ff;}input.sk-toggleable__control:checked~div.sk-toggleable__content {max-height: 200px;max-width: 100%;overflow: auto;}div.sk-estimator input.sk-toggleable__control:checked~label.sk-toggleable__label {background-color: #d4ebff;}div.sk-label input.sk-toggleable__control:checked~label.sk-toggleable__label {background-color: #d4ebff;}input.sk-hidden--visually {border: 0;clip: rect(1px 1px 1px 1px);clip: rect(1px, 1px, 1px, 1px);height: 1px;margin: -1px;overflow: hidden;padding: 0;position: absolute;width: 1px;}div.sk-estimator {font-family: monospace;background-color: #f0f8ff;margin: 0.25em 0.25em;border: 1px dotted black;border-radius: 0.25em;box-sizing: border-box;}div.sk-estimator:hover {background-color: #d4ebff;}div.sk-parallel-item::after {content: \"\";width: 100%;border-bottom: 1px solid gray;flex-grow: 1;}div.sk-label:hover label.sk-toggleable__label {background-color: #d4ebff;}div.sk-serial::before {content: \"\";position: absolute;border-left: 1px solid gray;box-sizing: border-box;top: 2em;bottom: 0;left: 50%;}div.sk-serial {display: flex;flex-direction: column;align-items: center;background-color: white;}div.sk-item {z-index: 1;}div.sk-parallel {display: flex;align-items: stretch;justify-content: center;background-color: white;}div.sk-parallel-item {display: flex;flex-direction: column;position: relative;background-color: white;}div.sk-parallel-item:first-child::after {align-self: flex-end;width: 50%;}div.sk-parallel-item:last-child::after {align-self: flex-start;width: 50%;}div.sk-parallel-item:only-child::after {width: 0;}div.sk-dashed-wrapped {border: 1px dashed gray;margin: 0.2em;box-sizing: border-box;padding-bottom: 0.1em;background-color: white;position: relative;}div.sk-label label {font-family: monospace;font-weight: bold;background-color: white;display: inline-block;line-height: 1.2em;}div.sk-label-container {position: relative;z-index: 2;text-align: center;}div.sk-container {display: inline-block;position: relative;}</style><div class=\"sk-top-container\"><div class=\"sk-container\"><div class=\"sk-item sk-dashed-wrapped\"><div class=\"sk-label-container\"><div class=\"sk-label sk-toggleable\"><input class=\"sk-toggleable__control sk-hidden--visually\" id=\"4d8a41f3-59ac-4fe2-868f-ca47455253a2\" type=\"checkbox\" ><label class=\"sk-toggleable__label\" for=\"4d8a41f3-59ac-4fe2-868f-ca47455253a2\">ColumnTransformer</label><div class=\"sk-toggleable__content\"><pre>ColumnTransformer(transformers=[('numpipe',\n",
       "                                 Pipeline(steps=[('numnorm',\n",
       "                                                  StandardScaler())]),\n",
       "                                 Index(['amount_tsh', 'gps_height', 'region_code', 'district_code',\n",
       "       'population', 'construction_year'],\n",
       "      dtype='object')),\n",
       "                                ('nominalpipe',\n",
       "                                 Pipeline(steps=[('onehotenc',\n",
       "                                                  OneHotEncoder(handle_unknown='ignore')),\n",
       "                                                 ('onehotnorm',\n",
       "                                                  StandardScaler())]),\n",
       "                                 Index(['funder', 'installer', 'basin', 'region', 'lga', 'scheme_management',\n",
       "       'extraction_type_group', 'extraction_type_class', 'management',\n",
       "       'management_group', 'payment_type', 'water_quality', 'quantity_group',\n",
       "       'source', 'source_class', 'waterpoint_type'],\n",
       "      dtype='object'))])</pre></div></div></div><div class=\"sk-parallel\"><div class=\"sk-parallel-item\"><div class=\"sk-item\"><div class=\"sk-label-container\"><div class=\"sk-label sk-toggleable\"><input class=\"sk-toggleable__control sk-hidden--visually\" id=\"8c2d7f8a-9420-4885-bd4d-1f547da57561\" type=\"checkbox\" ><label class=\"sk-toggleable__label\" for=\"8c2d7f8a-9420-4885-bd4d-1f547da57561\">numpipe</label><div class=\"sk-toggleable__content\"><pre>Index(['amount_tsh', 'gps_height', 'region_code', 'district_code',\n",
       "       'population', 'construction_year'],\n",
       "      dtype='object')</pre></div></div></div><div class=\"sk-serial\"><div class=\"sk-item\"><div class=\"sk-serial\"><div class=\"sk-item\"><div class=\"sk-estimator sk-toggleable\"><input class=\"sk-toggleable__control sk-hidden--visually\" id=\"f95bd45a-9ca3-4252-96fa-a78ef8800e8e\" type=\"checkbox\" ><label class=\"sk-toggleable__label\" for=\"f95bd45a-9ca3-4252-96fa-a78ef8800e8e\">StandardScaler</label><div class=\"sk-toggleable__content\"><pre>StandardScaler()</pre></div></div></div></div></div></div></div></div><div class=\"sk-parallel-item\"><div class=\"sk-item\"><div class=\"sk-label-container\"><div class=\"sk-label sk-toggleable\"><input class=\"sk-toggleable__control sk-hidden--visually\" id=\"6814a23b-2a15-4183-9d37-df1fb94ce890\" type=\"checkbox\" ><label class=\"sk-toggleable__label\" for=\"6814a23b-2a15-4183-9d37-df1fb94ce890\">nominalpipe</label><div class=\"sk-toggleable__content\"><pre>Index(['funder', 'installer', 'basin', 'region', 'lga', 'scheme_management',\n",
       "       'extraction_type_group', 'extraction_type_class', 'management',\n",
       "       'management_group', 'payment_type', 'water_quality', 'quantity_group',\n",
       "       'source', 'source_class', 'waterpoint_type'],\n",
       "      dtype='object')</pre></div></div></div><div class=\"sk-serial\"><div class=\"sk-item\"><div class=\"sk-serial\"><div class=\"sk-item\"><div class=\"sk-estimator sk-toggleable\"><input class=\"sk-toggleable__control sk-hidden--visually\" id=\"e6d75e50-57a5-450a-adf5-a27b99dc2bf1\" type=\"checkbox\" ><label class=\"sk-toggleable__label\" for=\"e6d75e50-57a5-450a-adf5-a27b99dc2bf1\">OneHotEncoder</label><div class=\"sk-toggleable__content\"><pre>OneHotEncoder(handle_unknown='ignore')</pre></div></div></div><div class=\"sk-item\"><div class=\"sk-estimator sk-toggleable\"><input class=\"sk-toggleable__control sk-hidden--visually\" id=\"71075fad-8a5c-4eaa-8b9b-e1cb4d66d657\" type=\"checkbox\" ><label class=\"sk-toggleable__label\" for=\"71075fad-8a5c-4eaa-8b9b-e1cb4d66d657\">StandardScaler</label><div class=\"sk-toggleable__content\"><pre>StandardScaler()</pre></div></div></div></div></div></div></div></div></div></div></div></div>"
      ],
      "text/plain": [
       "ColumnTransformer(transformers=[('numpipe',\n",
       "                                 Pipeline(steps=[('numnorm',\n",
       "                                                  StandardScaler())]),\n",
       "                                 Index(['amount_tsh', 'gps_height', 'region_code', 'district_code',\n",
       "       'population', 'construction_year'],\n",
       "      dtype='object')),\n",
       "                                ('nominalpipe',\n",
       "                                 Pipeline(steps=[('onehotenc',\n",
       "                                                  OneHotEncoder(handle_unknown='ignore')),\n",
       "                                                 ('onehotnorm',\n",
       "                                                  StandardScaler())]),\n",
       "                                 Index(['funder', 'installer', 'basin', 'region', 'lga', 'scheme_management',\n",
       "       'extraction_type_group', 'extraction_type_class', 'management',\n",
       "       'management_group', 'payment_type', 'water_quality', 'quantity_group',\n",
       "       'source', 'source_class', 'waterpoint_type'],\n",
       "      dtype='object'))])"
      ]
     },
     "execution_count": 125,
     "metadata": {},
     "output_type": "execute_result"
    }
   ],
   "source": [
    "ct = ColumnTransformer([\n",
    "    ('numpipe',numeric_pipe, num_cols),\n",
    "    ('nominalpipe',nominal_pipe,cat_cols),\n",
    "])\n",
    "ct"
   ]
  },
  {
   "cell_type": "code",
   "execution_count": 126,
   "metadata": {},
   "outputs": [
    {
     "data": {
      "text/html": [
       "<style>div.sk-top-container {color: black;background-color: white;}div.sk-toggleable {background-color: white;}label.sk-toggleable__label {cursor: pointer;display: block;width: 100%;margin-bottom: 0;padding: 0.2em 0.3em;box-sizing: border-box;text-align: center;}div.sk-toggleable__content {max-height: 0;max-width: 0;overflow: hidden;text-align: left;background-color: #f0f8ff;}div.sk-toggleable__content pre {margin: 0.2em;color: black;border-radius: 0.25em;background-color: #f0f8ff;}input.sk-toggleable__control:checked~div.sk-toggleable__content {max-height: 200px;max-width: 100%;overflow: auto;}div.sk-estimator input.sk-toggleable__control:checked~label.sk-toggleable__label {background-color: #d4ebff;}div.sk-label input.sk-toggleable__control:checked~label.sk-toggleable__label {background-color: #d4ebff;}input.sk-hidden--visually {border: 0;clip: rect(1px 1px 1px 1px);clip: rect(1px, 1px, 1px, 1px);height: 1px;margin: -1px;overflow: hidden;padding: 0;position: absolute;width: 1px;}div.sk-estimator {font-family: monospace;background-color: #f0f8ff;margin: 0.25em 0.25em;border: 1px dotted black;border-radius: 0.25em;box-sizing: border-box;}div.sk-estimator:hover {background-color: #d4ebff;}div.sk-parallel-item::after {content: \"\";width: 100%;border-bottom: 1px solid gray;flex-grow: 1;}div.sk-label:hover label.sk-toggleable__label {background-color: #d4ebff;}div.sk-serial::before {content: \"\";position: absolute;border-left: 1px solid gray;box-sizing: border-box;top: 2em;bottom: 0;left: 50%;}div.sk-serial {display: flex;flex-direction: column;align-items: center;background-color: white;}div.sk-item {z-index: 1;}div.sk-parallel {display: flex;align-items: stretch;justify-content: center;background-color: white;}div.sk-parallel-item {display: flex;flex-direction: column;position: relative;background-color: white;}div.sk-parallel-item:first-child::after {align-self: flex-end;width: 50%;}div.sk-parallel-item:last-child::after {align-self: flex-start;width: 50%;}div.sk-parallel-item:only-child::after {width: 0;}div.sk-dashed-wrapped {border: 1px dashed gray;margin: 0.2em;box-sizing: border-box;padding-bottom: 0.1em;background-color: white;position: relative;}div.sk-label label {font-family: monospace;font-weight: bold;background-color: white;display: inline-block;line-height: 1.2em;}div.sk-label-container {position: relative;z-index: 2;text-align: center;}div.sk-container {display: inline-block;position: relative;}</style><div class=\"sk-top-container\"><div class=\"sk-container\"><div class=\"sk-item sk-dashed-wrapped\"><div class=\"sk-label-container\"><div class=\"sk-label sk-toggleable\"><input class=\"sk-toggleable__control sk-hidden--visually\" id=\"263617f2-ae82-485b-8fee-047693b01677\" type=\"checkbox\" ><label class=\"sk-toggleable__label\" for=\"263617f2-ae82-485b-8fee-047693b01677\">Pipeline</label><div class=\"sk-toggleable__content\"><pre>Pipeline(steps=[('preprocess',\n",
       "                 ColumnTransformer(transformers=[('numpipe',\n",
       "                                                  Pipeline(steps=[('numnorm',\n",
       "                                                                   StandardScaler())]),\n",
       "                                                  Index(['amount_tsh', 'gps_height', 'region_code', 'district_code',\n",
       "       'population', 'construction_year'],\n",
       "      dtype='object')),\n",
       "                                                 ('nominalpipe',\n",
       "                                                  Pipeline(steps=[('onehotenc',\n",
       "                                                                   OneHotEncoder(handle_unknown='ignore')),\n",
       "                                                                  ('onehotnorm',\n",
       "                                                                   StandardScaler())]),\n",
       "                                                  Index(['funder', 'installer', 'basin', 'region', 'lga', 'scheme_management',\n",
       "       'extraction_type_group', 'extraction_type_class', 'management',\n",
       "       'management_group', 'payment_type', 'water_quality', 'quantity_group',\n",
       "       'source', 'source_class', 'waterpoint_type'],\n",
       "      dtype='object'))])),\n",
       "                ('smote', SMOTE(random_state=42)),\n",
       "                ('model',\n",
       "                 RandomForestClassifier(max_depth=5, random_state=42))])</pre></div></div></div><div class=\"sk-serial\"><div class=\"sk-item sk-dashed-wrapped\"><div class=\"sk-label-container\"><div class=\"sk-label sk-toggleable\"><input class=\"sk-toggleable__control sk-hidden--visually\" id=\"2ca5d763-d7f8-4d2f-bbc6-0639b52be312\" type=\"checkbox\" ><label class=\"sk-toggleable__label\" for=\"2ca5d763-d7f8-4d2f-bbc6-0639b52be312\">preprocess: ColumnTransformer</label><div class=\"sk-toggleable__content\"><pre>ColumnTransformer(transformers=[('numpipe',\n",
       "                                 Pipeline(steps=[('numnorm',\n",
       "                                                  StandardScaler())]),\n",
       "                                 Index(['amount_tsh', 'gps_height', 'region_code', 'district_code',\n",
       "       'population', 'construction_year'],\n",
       "      dtype='object')),\n",
       "                                ('nominalpipe',\n",
       "                                 Pipeline(steps=[('onehotenc',\n",
       "                                                  OneHotEncoder(handle_unknown='ignore')),\n",
       "                                                 ('onehotnorm',\n",
       "                                                  StandardScaler())]),\n",
       "                                 Index(['funder', 'installer', 'basin', 'region', 'lga', 'scheme_management',\n",
       "       'extraction_type_group', 'extraction_type_class', 'management',\n",
       "       'management_group', 'payment_type', 'water_quality', 'quantity_group',\n",
       "       'source', 'source_class', 'waterpoint_type'],\n",
       "      dtype='object'))])</pre></div></div></div><div class=\"sk-parallel\"><div class=\"sk-parallel-item\"><div class=\"sk-item\"><div class=\"sk-label-container\"><div class=\"sk-label sk-toggleable\"><input class=\"sk-toggleable__control sk-hidden--visually\" id=\"14a0ae69-7fcf-426b-8140-06f8af6d0542\" type=\"checkbox\" ><label class=\"sk-toggleable__label\" for=\"14a0ae69-7fcf-426b-8140-06f8af6d0542\">numpipe</label><div class=\"sk-toggleable__content\"><pre>Index(['amount_tsh', 'gps_height', 'region_code', 'district_code',\n",
       "       'population', 'construction_year'],\n",
       "      dtype='object')</pre></div></div></div><div class=\"sk-serial\"><div class=\"sk-item\"><div class=\"sk-serial\"><div class=\"sk-item\"><div class=\"sk-estimator sk-toggleable\"><input class=\"sk-toggleable__control sk-hidden--visually\" id=\"ffbf4a13-9bf0-478e-a01f-2ecb9dec81ef\" type=\"checkbox\" ><label class=\"sk-toggleable__label\" for=\"ffbf4a13-9bf0-478e-a01f-2ecb9dec81ef\">StandardScaler</label><div class=\"sk-toggleable__content\"><pre>StandardScaler()</pre></div></div></div></div></div></div></div></div><div class=\"sk-parallel-item\"><div class=\"sk-item\"><div class=\"sk-label-container\"><div class=\"sk-label sk-toggleable\"><input class=\"sk-toggleable__control sk-hidden--visually\" id=\"ae166b30-5148-4601-a2b9-d5b248c3544f\" type=\"checkbox\" ><label class=\"sk-toggleable__label\" for=\"ae166b30-5148-4601-a2b9-d5b248c3544f\">nominalpipe</label><div class=\"sk-toggleable__content\"><pre>Index(['funder', 'installer', 'basin', 'region', 'lga', 'scheme_management',\n",
       "       'extraction_type_group', 'extraction_type_class', 'management',\n",
       "       'management_group', 'payment_type', 'water_quality', 'quantity_group',\n",
       "       'source', 'source_class', 'waterpoint_type'],\n",
       "      dtype='object')</pre></div></div></div><div class=\"sk-serial\"><div class=\"sk-item\"><div class=\"sk-serial\"><div class=\"sk-item\"><div class=\"sk-estimator sk-toggleable\"><input class=\"sk-toggleable__control sk-hidden--visually\" id=\"1f4cf254-5621-4f6f-bfa9-a0a56ce3c241\" type=\"checkbox\" ><label class=\"sk-toggleable__label\" for=\"1f4cf254-5621-4f6f-bfa9-a0a56ce3c241\">OneHotEncoder</label><div class=\"sk-toggleable__content\"><pre>OneHotEncoder(handle_unknown='ignore')</pre></div></div></div><div class=\"sk-item\"><div class=\"sk-estimator sk-toggleable\"><input class=\"sk-toggleable__control sk-hidden--visually\" id=\"031dbdda-88ca-4bcf-bfde-5c4188caafd3\" type=\"checkbox\" ><label class=\"sk-toggleable__label\" for=\"031dbdda-88ca-4bcf-bfde-5c4188caafd3\">StandardScaler</label><div class=\"sk-toggleable__content\"><pre>StandardScaler()</pre></div></div></div></div></div></div></div></div></div></div><div class=\"sk-item\"><div class=\"sk-estimator sk-toggleable\"><input class=\"sk-toggleable__control sk-hidden--visually\" id=\"054ccc3d-3c25-4d41-b12c-56a099273e73\" type=\"checkbox\" ><label class=\"sk-toggleable__label\" for=\"054ccc3d-3c25-4d41-b12c-56a099273e73\">SMOTE</label><div class=\"sk-toggleable__content\"><pre>SMOTE(random_state=42)</pre></div></div></div><div class=\"sk-item\"><div class=\"sk-estimator sk-toggleable\"><input class=\"sk-toggleable__control sk-hidden--visually\" id=\"e0f65ba0-bfde-4bcf-9497-e1d5f69cfdfc\" type=\"checkbox\" ><label class=\"sk-toggleable__label\" for=\"e0f65ba0-bfde-4bcf-9497-e1d5f69cfdfc\">RandomForestClassifier</label><div class=\"sk-toggleable__content\"><pre>RandomForestClassifier(max_depth=5, random_state=42)</pre></div></div></div></div></div></div></div>"
      ],
      "text/plain": [
       "Pipeline(steps=[('preprocess',\n",
       "                 ColumnTransformer(transformers=[('numpipe',\n",
       "                                                  Pipeline(steps=[('numnorm',\n",
       "                                                                   StandardScaler())]),\n",
       "                                                  Index(['amount_tsh', 'gps_height', 'region_code', 'district_code',\n",
       "       'population', 'construction_year'],\n",
       "      dtype='object')),\n",
       "                                                 ('nominalpipe',\n",
       "                                                  Pipeline(steps=[('onehotenc',\n",
       "                                                                   OneHotEncoder(handle_unknown='ignore')),\n",
       "                                                                  ('onehotnorm',\n",
       "                                                                   StandardScaler())]),\n",
       "                                                  Index(['funder', 'installer', 'basin', 'region', 'lga', 'scheme_management',\n",
       "       'extraction_type_group', 'extraction_type_class', 'management',\n",
       "       'management_group', 'payment_type', 'water_quality', 'quantity_group',\n",
       "       'source', 'source_class', 'waterpoint_type'],\n",
       "      dtype='object'))])),\n",
       "                ('smote', SMOTE(random_state=42)),\n",
       "                ('model',\n",
       "                 RandomForestClassifier(max_depth=5, random_state=42))])"
      ]
     },
     "execution_count": 126,
     "metadata": {},
     "output_type": "execute_result"
    }
   ],
   "source": [
    "rt = Pipeline([\n",
    "    ('preprocess', ct),\n",
    "    (\"smote\", SMOTE(random_state=42)),\n",
    "    ('model',RandomForestClassifier(random_state=42,max_depth=5,n_estimators = 100))\n",
    "])\n",
    "rt"
   ]
  },
  {
   "cell_type": "markdown",
   "metadata": {},
   "source": [
    "# Fit the Model"
   ]
  },
  {
   "cell_type": "code",
   "execution_count": 28,
   "metadata": {},
   "outputs": [
    {
     "data": {
      "image/png": "[encoded data removed]",
      "text/plain": [
       "<Figure size 432x288 with 2 Axes>"
      ]
     },
     "metadata": {
      "needs_background": "light"
     },
     "output_type": "display_data"
    }
   ],
   "source": [
    "rt.fit(X_train,y_train)\n",
    "y_pred = rt.predict(X_test)\n",
    "cm = confusion_matrix(y_test, y_pred)\n",
    "disp = ConfusionMatrixDisplay(confusion_matrix=cm\n",
    "                              )\n",
    "disp.plot();"
   ]
  },
  {
   "cell_type": "code",
   "execution_count": 29,
   "metadata": {},
   "outputs": [
    {
     "name": "stdout",
     "output_type": "stream",
     "text": [
      "                precision    recall  f1-score   support\n",
      "\n",
      "    functional       0.79      0.88      0.83     10973\n",
      "non functional       0.76      0.62      0.68      6847\n",
      "\n",
      "      accuracy                           0.78     17820\n",
      "     macro avg       0.77      0.75      0.76     17820\n",
      "  weighted avg       0.78      0.78      0.77     17820\n",
      "\n"
     ]
    }
   ],
   "source": [
    "print(classification_report(y_test, y_pred))"
   ]
  },
  {
   "cell_type": "markdown",
   "metadata": {},
   "source": [
    "# Checking is overfitting"
   ]
  },
  {
   "cell_type": "code",
   "execution_count": 30,
   "metadata": {},
   "outputs": [
    {
     "name": "stdout",
     "output_type": "stream",
     "text": [
      "0.7766474266474267\n",
      "0.7781705948372615\n"
     ]
    }
   ],
   "source": [
    "print(rt.score(X_train,y_train))\n",
    "print(rt.score(X_test,y_test))"
   ]
  },
  {
   "cell_type": "markdown",
   "metadata": {},
   "source": [
    "# AUC"
   ]
  },
  {
   "cell_type": "code",
   "execution_count": 31,
   "metadata": {},
   "outputs": [
    {
     "data": {
      "text/plain": [
       "0.8285632680909849"
      ]
     },
     "execution_count": 31,
     "metadata": {},
     "output_type": "execute_result"
    }
   ],
   "source": [
    "from sklearn.metrics import roc_auc_score\n",
    "\n",
    "y_score = rt.fit(X_train, y_train).predict_proba(X_test)\n",
    "\n",
    "\n",
    "\n",
    "roc_auc_ovr = roc_auc_score(\n",
    "    y_test,\n",
    "    y_score[:, 1],\n",
    ")\n",
    "roc_auc_ovr"
   ]
  },
  {
   "cell_type": "code",
   "execution_count": 32,
   "metadata": {},
   "outputs": [
    {
     "data": {
      "image/png": "[encoded data removed]",
      "text/plain": [
       "<Figure size 432x288 with 1 Axes>"
      ]
     },
     "metadata": {
      "needs_background": "light"
     },
     "output_type": "display_data"
    }
   ],
   "source": [
    "plot_roc_curve(rt,X_test,y_test);"
   ]
  },
  {
   "cell_type": "markdown",
   "metadata": {},
   "source": [
    "# Random Search"
   ]
  },
  {
   "cell_type": "code",
   "execution_count": 33,
   "metadata": {},
   "outputs": [],
   "source": [
    "from sklearn.model_selection import RandomizedSearchCV\n",
    "\n",
    "\n",
    "\n",
    "pipe_grid = {'model__max_depth': [10, 25, 35, None],\n",
    "             'model__min_samples_leaf': [1, 2, 4],\n",
    "             'model__min_samples_split': [2, 5, 10],\n",
    "             'model__n_estimators': [100, 400, 800, 1000]}\n",
    "\n",
    "\n",
    "cv = RandomizedSearchCV(estimator = rt,\n",
    "                  param_distributions = pipe_grid, cv = 5, n_iter = 30)"
   ]
  },
  {
   "cell_type": "code",
   "execution_count": 34,
   "metadata": {},
   "outputs": [
    {
     "data": {
      "text/html": [
       "<style>div.sk-top-container {color: black;background-color: white;}div.sk-toggleable {background-color: white;}label.sk-toggleable__label {cursor: pointer;display: block;width: 100%;margin-bottom: 0;padding: 0.2em 0.3em;box-sizing: border-box;text-align: center;}div.sk-toggleable__content {max-height: 0;max-width: 0;overflow: hidden;text-align: left;background-color: #f0f8ff;}div.sk-toggleable__content pre {margin: 0.2em;color: black;border-radius: 0.25em;background-color: #f0f8ff;}input.sk-toggleable__control:checked~div.sk-toggleable__content {max-height: 200px;max-width: 100%;overflow: auto;}div.sk-estimator input.sk-toggleable__control:checked~label.sk-toggleable__label {background-color: #d4ebff;}div.sk-label input.sk-toggleable__control:checked~label.sk-toggleable__label {background-color: #d4ebff;}input.sk-hidden--visually {border: 0;clip: rect(1px 1px 1px 1px);clip: rect(1px, 1px, 1px, 1px);height: 1px;margin: -1px;overflow: hidden;padding: 0;position: absolute;width: 1px;}div.sk-estimator {font-family: monospace;background-color: #f0f8ff;margin: 0.25em 0.25em;border: 1px dotted black;border-radius: 0.25em;box-sizing: border-box;}div.sk-estimator:hover {background-color: #d4ebff;}div.sk-parallel-item::after {content: \"\";width: 100%;border-bottom: 1px solid gray;flex-grow: 1;}div.sk-label:hover label.sk-toggleable__label {background-color: #d4ebff;}div.sk-serial::before {content: \"\";position: absolute;border-left: 1px solid gray;box-sizing: border-box;top: 2em;bottom: 0;left: 50%;}div.sk-serial {display: flex;flex-direction: column;align-items: center;background-color: white;}div.sk-item {z-index: 1;}div.sk-parallel {display: flex;align-items: stretch;justify-content: center;background-color: white;}div.sk-parallel-item {display: flex;flex-direction: column;position: relative;background-color: white;}div.sk-parallel-item:first-child::after {align-self: flex-end;width: 50%;}div.sk-parallel-item:last-child::after {align-self: flex-start;width: 50%;}div.sk-parallel-item:only-child::after {width: 0;}div.sk-dashed-wrapped {border: 1px dashed gray;margin: 0.2em;box-sizing: border-box;padding-bottom: 0.1em;background-color: white;position: relative;}div.sk-label label {font-family: monospace;font-weight: bold;background-color: white;display: inline-block;line-height: 1.2em;}div.sk-label-container {position: relative;z-index: 2;text-align: center;}div.sk-container {display: inline-block;position: relative;}</style><div class=\"sk-top-container\"><div class=\"sk-container\"><div class=\"sk-item sk-dashed-wrapped\"><div class=\"sk-label-container\"><div class=\"sk-label sk-toggleable\"><input class=\"sk-toggleable__control sk-hidden--visually\" id=\"279a05d3-49f2-462b-b8f0-14f314804549\" type=\"checkbox\" ><label class=\"sk-toggleable__label\" for=\"279a05d3-49f2-462b-b8f0-14f314804549\">RandomizedSearchCV</label><div class=\"sk-toggleable__content\"><pre>RandomizedSearchCV(cv=5,\n",
       "                   estimator=Pipeline(steps=[('preprocess',\n",
       "                                              ColumnTransformer(transformers=[('numpipe',\n",
       "                                                                               Pipeline(steps=[('numnorm',\n",
       "                                                                                                StandardScaler())]),\n",
       "                                                                               Index(['amount_tsh', 'gps_height', 'region_code', 'district_code',\n",
       "       'population', 'construction_year'],\n",
       "      dtype='object')),\n",
       "                                                                              ('nominalpipe',\n",
       "                                                                               Pipeline(steps=[('onehotenc',\n",
       "                                                                                                OneHotEncoder(handle_unknown='ignore',...\n",
       "       'management_group', 'payment_type', 'water_quality', 'quantity_group',\n",
       "       'source', 'source_class', 'waterpoint_type'],\n",
       "      dtype='object'))])),\n",
       "                                             ('smote', SMOTE(random_state=42)),\n",
       "                                             ('model',\n",
       "                                              RandomForestClassifier(max_depth=5,\n",
       "                                                                     random_state=42))]),\n",
       "                   n_iter=30,\n",
       "                   param_distributions={'model__max_depth': [10, 25, 35, None],\n",
       "                                        'model__min_samples_leaf': [1, 2, 4],\n",
       "                                        'model__min_samples_split': [2, 5, 10],\n",
       "                                        'model__n_estimators': [100, 400, 800,\n",
       "                                                                1000]})</pre></div></div></div><div class=\"sk-parallel\"><div class=\"sk-parallel-item\"><div class=\"sk-item\"><div class=\"sk-serial\"><div class=\"sk-item\"><div class=\"sk-serial\"><div class=\"sk-item sk-dashed-wrapped\"><div class=\"sk-label-container\"><div class=\"sk-label sk-toggleable\"><input class=\"sk-toggleable__control sk-hidden--visually\" id=\"54271ace-a3f1-4550-8367-0db5b79e1c50\" type=\"checkbox\" ><label class=\"sk-toggleable__label\" for=\"54271ace-a3f1-4550-8367-0db5b79e1c50\">preprocess: ColumnTransformer</label><div class=\"sk-toggleable__content\"><pre>ColumnTransformer(transformers=[('numpipe',\n",
       "                                 Pipeline(steps=[('numnorm',\n",
       "                                                  StandardScaler())]),\n",
       "                                 Index(['amount_tsh', 'gps_height', 'region_code', 'district_code',\n",
       "       'population', 'construction_year'],\n",
       "      dtype='object')),\n",
       "                                ('nominalpipe',\n",
       "                                 Pipeline(steps=[('onehotenc',\n",
       "                                                  OneHotEncoder(handle_unknown='ignore',\n",
       "                                                                sparse=False)),\n",
       "                                                 ('onehotnorm',\n",
       "                                                  StandardScaler())]),\n",
       "                                 Index(['funder', 'installer', 'basin', 'region', 'lga', 'scheme_management',\n",
       "       'extraction_type_group', 'extraction_type_class', 'management',\n",
       "       'management_group', 'payment_type', 'water_quality', 'quantity_group',\n",
       "       'source', 'source_class', 'waterpoint_type'],\n",
       "      dtype='object'))])</pre></div></div></div><div class=\"sk-parallel\"><div class=\"sk-parallel-item\"><div class=\"sk-item\"><div class=\"sk-label-container\"><div class=\"sk-label sk-toggleable\"><input class=\"sk-toggleable__control sk-hidden--visually\" id=\"f69b36d1-74dc-4e70-8c4d-e75236d53d02\" type=\"checkbox\" ><label class=\"sk-toggleable__label\" for=\"f69b36d1-74dc-4e70-8c4d-e75236d53d02\">numpipe</label><div class=\"sk-toggleable__content\"><pre>Index(['amount_tsh', 'gps_height', 'region_code', 'district_code',\n",
       "       'population', 'construction_year'],\n",
       "      dtype='object')</pre></div></div></div><div class=\"sk-serial\"><div class=\"sk-item\"><div class=\"sk-serial\"><div class=\"sk-item\"><div class=\"sk-estimator sk-toggleable\"><input class=\"sk-toggleable__control sk-hidden--visually\" id=\"d70f975b-9f51-4cff-b920-a53d8a45bfdd\" type=\"checkbox\" ><label class=\"sk-toggleable__label\" for=\"d70f975b-9f51-4cff-b920-a53d8a45bfdd\">StandardScaler</label><div class=\"sk-toggleable__content\"><pre>StandardScaler()</pre></div></div></div></div></div></div></div></div><div class=\"sk-parallel-item\"><div class=\"sk-item\"><div class=\"sk-label-container\"><div class=\"sk-label sk-toggleable\"><input class=\"sk-toggleable__control sk-hidden--visually\" id=\"70f53f7d-7212-47f6-8bda-f72a13fd4947\" type=\"checkbox\" ><label class=\"sk-toggleable__label\" for=\"70f53f7d-7212-47f6-8bda-f72a13fd4947\">nominalpipe</label><div class=\"sk-toggleable__content\"><pre>Index(['funder', 'installer', 'basin', 'region', 'lga', 'scheme_management',\n",
       "       'extraction_type_group', 'extraction_type_class', 'management',\n",
       "       'management_group', 'payment_type', 'water_quality', 'quantity_group',\n",
       "       'source', 'source_class', 'waterpoint_type'],\n",
       "      dtype='object')</pre></div></div></div><div class=\"sk-serial\"><div class=\"sk-item\"><div class=\"sk-serial\"><div class=\"sk-item\"><div class=\"sk-estimator sk-toggleable\"><input class=\"sk-toggleable__control sk-hidden--visually\" id=\"9f4ebfea-b155-45b1-a08e-c534ebdb8bef\" type=\"checkbox\" ><label class=\"sk-toggleable__label\" for=\"9f4ebfea-b155-45b1-a08e-c534ebdb8bef\">OneHotEncoder</label><div class=\"sk-toggleable__content\"><pre>OneHotEncoder(handle_unknown='ignore', sparse=False)</pre></div></div></div><div class=\"sk-item\"><div class=\"sk-estimator sk-toggleable\"><input class=\"sk-toggleable__control sk-hidden--visually\" id=\"1f743303-99ff-4ee0-b07e-2d09eef3ed3a\" type=\"checkbox\" ><label class=\"sk-toggleable__label\" for=\"1f743303-99ff-4ee0-b07e-2d09eef3ed3a\">StandardScaler</label><div class=\"sk-toggleable__content\"><pre>StandardScaler()</pre></div></div></div></div></div></div></div></div></div></div><div class=\"sk-item\"><div class=\"sk-estimator sk-toggleable\"><input class=\"sk-toggleable__control sk-hidden--visually\" id=\"b7047a53-6933-438e-9cd9-7ff2a67d7552\" type=\"checkbox\" ><label class=\"sk-toggleable__label\" for=\"b7047a53-6933-438e-9cd9-7ff2a67d7552\">SMOTE</label><div class=\"sk-toggleable__content\"><pre>SMOTE(random_state=42)</pre></div></div></div><div class=\"sk-item\"><div class=\"sk-estimator sk-toggleable\"><input class=\"sk-toggleable__control sk-hidden--visually\" id=\"f171f20e-b0c8-4416-80dc-03da4fec4f8e\" type=\"checkbox\" ><label class=\"sk-toggleable__label\" for=\"f171f20e-b0c8-4416-80dc-03da4fec4f8e\">RandomForestClassifier</label><div class=\"sk-toggleable__content\"><pre>RandomForestClassifier(max_depth=5, random_state=42)</pre></div></div></div></div></div></div></div></div></div></div></div></div>"
      ],
      "text/plain": [
       "RandomizedSearchCV(cv=5,\n",
       "                   estimator=Pipeline(steps=[('preprocess',\n",
       "                                              ColumnTransformer(transformers=[('numpipe',\n",
       "                                                                               Pipeline(steps=[('numnorm',\n",
       "                                                                                                StandardScaler())]),\n",
       "                                                                               Index(['amount_tsh', 'gps_height', 'region_code', 'district_code',\n",
       "       'population', 'construction_year'],\n",
       "      dtype='object')),\n",
       "                                                                              ('nominalpipe',\n",
       "                                                                               Pipeline(steps=[('onehotenc',\n",
       "                                                                                                OneHotEncoder(handle_unknown='ignore',...\n",
       "       'management_group', 'payment_type', 'water_quality', 'quantity_group',\n",
       "       'source', 'source_class', 'waterpoint_type'],\n",
       "      dtype='object'))])),\n",
       "                                             ('smote', SMOTE(random_state=42)),\n",
       "                                             ('model',\n",
       "                                              RandomForestClassifier(max_depth=5,\n",
       "                                                                     random_state=42))]),\n",
       "                   n_iter=30,\n",
       "                   param_distributions={'model__max_depth': [10, 25, 35, None],\n",
       "                                        'model__min_samples_leaf': [1, 2, 4],\n",
       "                                        'model__min_samples_split': [2, 5, 10],\n",
       "                                        'model__n_estimators': [100, 400, 800,\n",
       "                                                                1000]})"
      ]
     },
     "execution_count": 34,
     "metadata": {},
     "output_type": "execute_result"
    }
   ],
   "source": [
    "cv"
   ]
  },
  {
   "cell_type": "code",
   "execution_count": 35,
   "metadata": {},
   "outputs": [],
   "source": [
    "# cv.fit(X_train, y_train);"
   ]
  },
  {
   "cell_type": "code",
   "execution_count": 36,
   "metadata": {},
   "outputs": [],
   "source": [
    "# cv.best_params_"
   ]
  },
  {
   "cell_type": "code",
   "execution_count": 37,
   "metadata": {},
   "outputs": [],
   "source": [
    "# cv.best_score_"
   ]
  },
  {
   "cell_type": "code",
   "execution_count": 39,
   "metadata": {},
   "outputs": [],
   "source": [
    "# from joblib import dump, load\n",
    "# dump(cv.best_params_, 'Ran_For_best_params.joblib') \n"
   ]
  },
  {
   "cell_type": "code",
   "execution_count": 24,
   "metadata": {},
   "outputs": [
    {
     "data": {
      "text/plain": [
       "{'model__n_estimators': 100,\n",
       " 'model__min_samples_split': 5,\n",
       " 'model__min_samples_leaf': 1,\n",
       " 'model__max_depth': 25}"
      ]
     },
     "execution_count": 24,
     "metadata": {},
     "output_type": "execute_result"
    }
   ],
   "source": [
    "from joblib import dump, load\n",
    "clf = load('Ran_For_best_params.joblib')\n",
    "clf"
   ]
  },
  {
   "cell_type": "markdown",
   "metadata": {},
   "source": [
    "# Best Model"
   ]
  },
  {
   "cell_type": "code",
   "execution_count": 25,
   "metadata": {},
   "outputs": [
    {
     "data": {
      "text/html": [
       "<style>div.sk-top-container {color: black;background-color: white;}div.sk-toggleable {background-color: white;}label.sk-toggleable__label {cursor: pointer;display: block;width: 100%;margin-bottom: 0;padding: 0.2em 0.3em;box-sizing: border-box;text-align: center;}div.sk-toggleable__content {max-height: 0;max-width: 0;overflow: hidden;text-align: left;background-color: #f0f8ff;}div.sk-toggleable__content pre {margin: 0.2em;color: black;border-radius: 0.25em;background-color: #f0f8ff;}input.sk-toggleable__control:checked~div.sk-toggleable__content {max-height: 200px;max-width: 100%;overflow: auto;}div.sk-estimator input.sk-toggleable__control:checked~label.sk-toggleable__label {background-color: #d4ebff;}div.sk-label input.sk-toggleable__control:checked~label.sk-toggleable__label {background-color: #d4ebff;}input.sk-hidden--visually {border: 0;clip: rect(1px 1px 1px 1px);clip: rect(1px, 1px, 1px, 1px);height: 1px;margin: -1px;overflow: hidden;padding: 0;position: absolute;width: 1px;}div.sk-estimator {font-family: monospace;background-color: #f0f8ff;margin: 0.25em 0.25em;border: 1px dotted black;border-radius: 0.25em;box-sizing: border-box;}div.sk-estimator:hover {background-color: #d4ebff;}div.sk-parallel-item::after {content: \"\";width: 100%;border-bottom: 1px solid gray;flex-grow: 1;}div.sk-label:hover label.sk-toggleable__label {background-color: #d4ebff;}div.sk-serial::before {content: \"\";position: absolute;border-left: 1px solid gray;box-sizing: border-box;top: 2em;bottom: 0;left: 50%;}div.sk-serial {display: flex;flex-direction: column;align-items: center;background-color: white;}div.sk-item {z-index: 1;}div.sk-parallel {display: flex;align-items: stretch;justify-content: center;background-color: white;}div.sk-parallel-item {display: flex;flex-direction: column;position: relative;background-color: white;}div.sk-parallel-item:first-child::after {align-self: flex-end;width: 50%;}div.sk-parallel-item:last-child::after {align-self: flex-start;width: 50%;}div.sk-parallel-item:only-child::after {width: 0;}div.sk-dashed-wrapped {border: 1px dashed gray;margin: 0.2em;box-sizing: border-box;padding-bottom: 0.1em;background-color: white;position: relative;}div.sk-label label {font-family: monospace;font-weight: bold;background-color: white;display: inline-block;line-height: 1.2em;}div.sk-label-container {position: relative;z-index: 2;text-align: center;}div.sk-container {display: inline-block;position: relative;}</style><div class=\"sk-top-container\"><div class=\"sk-container\"><div class=\"sk-item sk-dashed-wrapped\"><div class=\"sk-label-container\"><div class=\"sk-label sk-toggleable\"><input class=\"sk-toggleable__control sk-hidden--visually\" id=\"9d390b04-6afb-4d88-80a4-d5e99965f66a\" type=\"checkbox\" ><label class=\"sk-toggleable__label\" for=\"9d390b04-6afb-4d88-80a4-d5e99965f66a\">Pipeline</label><div class=\"sk-toggleable__content\"><pre>Pipeline(steps=[('preprocess',\n",
       "                 ColumnTransformer(transformers=[('numpipe',\n",
       "                                                  Pipeline(steps=[('numnorm',\n",
       "                                                                   StandardScaler())]),\n",
       "                                                  Index(['amount_tsh', 'gps_height', 'region_code', 'district_code',\n",
       "       'population', 'construction_year'],\n",
       "      dtype='object')),\n",
       "                                                 ('nominalpipe',\n",
       "                                                  Pipeline(steps=[('onehotenc',\n",
       "                                                                   OneHotEncoder(handle_unknown='ignore',\n",
       "                                                                                 sparse=False)),\n",
       "                                                                  ('onehotnorm',\n",
       "                                                                   Stand...\n",
       "                                                  Index(['funder', 'installer', 'basin', 'region', 'lga', 'scheme_management',\n",
       "       'extraction_type_group', 'extraction_type_class', 'management',\n",
       "       'management_group', 'payment_type', 'water_quality', 'quantity_group',\n",
       "       'source', 'source_class', 'waterpoint_type'],\n",
       "      dtype='object'))])),\n",
       "                ('smote', SMOTE(random_state=42)),\n",
       "                ('model',\n",
       "                 RandomForestClassifier(max_depth=25, min_samples_split=5,\n",
       "                                        random_state=42))])</pre></div></div></div><div class=\"sk-serial\"><div class=\"sk-item sk-dashed-wrapped\"><div class=\"sk-label-container\"><div class=\"sk-label sk-toggleable\"><input class=\"sk-toggleable__control sk-hidden--visually\" id=\"5c5456a8-99eb-482b-964a-594c70e1f5bc\" type=\"checkbox\" ><label class=\"sk-toggleable__label\" for=\"5c5456a8-99eb-482b-964a-594c70e1f5bc\">preprocess: ColumnTransformer</label><div class=\"sk-toggleable__content\"><pre>ColumnTransformer(transformers=[('numpipe',\n",
       "                                 Pipeline(steps=[('numnorm',\n",
       "                                                  StandardScaler())]),\n",
       "                                 Index(['amount_tsh', 'gps_height', 'region_code', 'district_code',\n",
       "       'population', 'construction_year'],\n",
       "      dtype='object')),\n",
       "                                ('nominalpipe',\n",
       "                                 Pipeline(steps=[('onehotenc',\n",
       "                                                  OneHotEncoder(handle_unknown='ignore',\n",
       "                                                                sparse=False)),\n",
       "                                                 ('onehotnorm',\n",
       "                                                  StandardScaler())]),\n",
       "                                 Index(['funder', 'installer', 'basin', 'region', 'lga', 'scheme_management',\n",
       "       'extraction_type_group', 'extraction_type_class', 'management',\n",
       "       'management_group', 'payment_type', 'water_quality', 'quantity_group',\n",
       "       'source', 'source_class', 'waterpoint_type'],\n",
       "      dtype='object'))])</pre></div></div></div><div class=\"sk-parallel\"><div class=\"sk-parallel-item\"><div class=\"sk-item\"><div class=\"sk-label-container\"><div class=\"sk-label sk-toggleable\"><input class=\"sk-toggleable__control sk-hidden--visually\" id=\"d610929c-f2bf-4c17-a8b9-81d58e49a747\" type=\"checkbox\" ><label class=\"sk-toggleable__label\" for=\"d610929c-f2bf-4c17-a8b9-81d58e49a747\">numpipe</label><div class=\"sk-toggleable__content\"><pre>Index(['amount_tsh', 'gps_height', 'region_code', 'district_code',\n",
       "       'population', 'construction_year'],\n",
       "      dtype='object')</pre></div></div></div><div class=\"sk-serial\"><div class=\"sk-item\"><div class=\"sk-serial\"><div class=\"sk-item\"><div class=\"sk-estimator sk-toggleable\"><input class=\"sk-toggleable__control sk-hidden--visually\" id=\"7b735c2a-5288-4f54-9b83-be9fa0d54fa4\" type=\"checkbox\" ><label class=\"sk-toggleable__label\" for=\"7b735c2a-5288-4f54-9b83-be9fa0d54fa4\">StandardScaler</label><div class=\"sk-toggleable__content\"><pre>StandardScaler()</pre></div></div></div></div></div></div></div></div><div class=\"sk-parallel-item\"><div class=\"sk-item\"><div class=\"sk-label-container\"><div class=\"sk-label sk-toggleable\"><input class=\"sk-toggleable__control sk-hidden--visually\" id=\"44df74bb-7e6c-4a3b-8141-03d15892b025\" type=\"checkbox\" ><label class=\"sk-toggleable__label\" for=\"44df74bb-7e6c-4a3b-8141-03d15892b025\">nominalpipe</label><div class=\"sk-toggleable__content\"><pre>Index(['funder', 'installer', 'basin', 'region', 'lga', 'scheme_management',\n",
       "       'extraction_type_group', 'extraction_type_class', 'management',\n",
       "       'management_group', 'payment_type', 'water_quality', 'quantity_group',\n",
       "       'source', 'source_class', 'waterpoint_type'],\n",
       "      dtype='object')</pre></div></div></div><div class=\"sk-serial\"><div class=\"sk-item\"><div class=\"sk-serial\"><div class=\"sk-item\"><div class=\"sk-estimator sk-toggleable\"><input class=\"sk-toggleable__control sk-hidden--visually\" id=\"718187f4-6526-4af6-bda3-6b44a7f57314\" type=\"checkbox\" ><label class=\"sk-toggleable__label\" for=\"718187f4-6526-4af6-bda3-6b44a7f57314\">OneHotEncoder</label><div class=\"sk-toggleable__content\"><pre>OneHotEncoder(handle_unknown='ignore', sparse=False)</pre></div></div></div><div class=\"sk-item\"><div class=\"sk-estimator sk-toggleable\"><input class=\"sk-toggleable__control sk-hidden--visually\" id=\"cd7017ee-4ff4-4971-ad0c-2ba5c0ec8228\" type=\"checkbox\" ><label class=\"sk-toggleable__label\" for=\"cd7017ee-4ff4-4971-ad0c-2ba5c0ec8228\">StandardScaler</label><div class=\"sk-toggleable__content\"><pre>StandardScaler()</pre></div></div></div></div></div></div></div></div></div></div><div class=\"sk-item\"><div class=\"sk-estimator sk-toggleable\"><input class=\"sk-toggleable__control sk-hidden--visually\" id=\"eef172b6-0e45-44c3-9c12-cc39fe41386d\" type=\"checkbox\" ><label class=\"sk-toggleable__label\" for=\"eef172b6-0e45-44c3-9c12-cc39fe41386d\">SMOTE</label><div class=\"sk-toggleable__content\"><pre>SMOTE(random_state=42)</pre></div></div></div><div class=\"sk-item\"><div class=\"sk-estimator sk-toggleable\"><input class=\"sk-toggleable__control sk-hidden--visually\" id=\"c4afde08-5b92-4fdc-a2fc-dbb5e7314164\" type=\"checkbox\" ><label class=\"sk-toggleable__label\" for=\"c4afde08-5b92-4fdc-a2fc-dbb5e7314164\">RandomForestClassifier</label><div class=\"sk-toggleable__content\"><pre>RandomForestClassifier(max_depth=25, min_samples_split=5, random_state=42)</pre></div></div></div></div></div></div></div>"
      ],
      "text/plain": [
       "Pipeline(steps=[('preprocess',\n",
       "                 ColumnTransformer(transformers=[('numpipe',\n",
       "                                                  Pipeline(steps=[('numnorm',\n",
       "                                                                   StandardScaler())]),\n",
       "                                                  Index(['amount_tsh', 'gps_height', 'region_code', 'district_code',\n",
       "       'population', 'construction_year'],\n",
       "      dtype='object')),\n",
       "                                                 ('nominalpipe',\n",
       "                                                  Pipeline(steps=[('onehotenc',\n",
       "                                                                   OneHotEncoder(handle_unknown='ignore',\n",
       "                                                                                 sparse=False)),\n",
       "                                                                  ('onehotnorm',\n",
       "                                                                   Stand...\n",
       "                                                  Index(['funder', 'installer', 'basin', 'region', 'lga', 'scheme_management',\n",
       "       'extraction_type_group', 'extraction_type_class', 'management',\n",
       "       'management_group', 'payment_type', 'water_quality', 'quantity_group',\n",
       "       'source', 'source_class', 'waterpoint_type'],\n",
       "      dtype='object'))])),\n",
       "                ('smote', SMOTE(random_state=42)),\n",
       "                ('model',\n",
       "                 RandomForestClassifier(max_depth=25, min_samples_split=5,\n",
       "                                        random_state=42))])"
      ]
     },
     "execution_count": 25,
     "metadata": {},
     "output_type": "execute_result"
    }
   ],
   "source": [
    "best_model = Pipeline([\n",
    "    ('preprocess', ct),\n",
    "    (\"smote\", SMOTE(random_state=42)),\n",
    "    ('model',RandomForestClassifier(random_state=42, max_depth= 25, n_estimators = 100, \n",
    "                                    min_samples_split=5,min_samples_leaf = 1))\n",
    "])\n",
    "best_model"
   ]
  },
  {
   "cell_type": "code",
   "execution_count": 26,
   "metadata": {},
   "outputs": [
    {
     "data": {
      "image/png": "[encoded data removed]",
      "text/plain": [
       "<Figure size 432x288 with 2 Axes>"
      ]
     },
     "metadata": {
      "needs_background": "light"
     },
     "output_type": "display_data"
    }
   ],
   "source": [
    "best_model.fit(X_train,y_train)\n",
    "best_y_pred = best_model.predict(X_test)\n",
    "cm = confusion_matrix(y_test, best_y_pred)\n",
    "disp = ConfusionMatrixDisplay(confusion_matrix=cm\n",
    "                              )\n",
    "disp.plot();"
   ]
  },
  {
   "cell_type": "markdown",
   "metadata": {},
   "source": [
    "# Best Model Accuracy"
   ]
  },
  {
   "cell_type": "code",
   "execution_count": 27,
   "metadata": {},
   "outputs": [
    {
     "name": "stdout",
     "output_type": "stream",
     "text": [
      "0.8461279461279462\n"
     ]
    }
   ],
   "source": [
    "print(best_model.score(X_test,y_test))"
   ]
  },
  {
   "cell_type": "code",
   "execution_count": 28,
   "metadata": {},
   "outputs": [
    {
     "name": "stdout",
     "output_type": "stream",
     "text": [
      "                precision    recall  f1-score   support\n",
      "\n",
      "    functional       0.85      0.91      0.88     10973\n",
      "non functional       0.84      0.74      0.79      6847\n",
      "\n",
      "      accuracy                           0.85     17820\n",
      "     macro avg       0.85      0.83      0.83     17820\n",
      "  weighted avg       0.85      0.85      0.84     17820\n",
      "\n"
     ]
    }
   ],
   "source": [
    "print(classification_report(y_test, best_y_pred))"
   ]
  },
  {
   "cell_type": "markdown",
   "metadata": {},
   "source": [
    "# Best Model AUC"
   ]
  },
  {
   "cell_type": "code",
   "execution_count": 29,
   "metadata": {},
   "outputs": [
    {
     "data": {
      "image/png": "[encoded data removed]",
      "text/plain": [
       "<Figure size 432x288 with 1 Axes>"
      ]
     },
     "metadata": {
      "needs_background": "light"
     },
     "output_type": "display_data"
    }
   ],
   "source": [
    "plot_roc_curve(best_model,X_test,y_test);"
   ]
  },
  {
   "cell_type": "code",
   "execution_count": null,
   "metadata": {},
   "outputs": [],
   "source": []
  },
  {
   "cell_type": "code",
   "execution_count": 99,
   "metadata": {},
   "outputs": [],
   "source": [
    "feature = list(best_model.steps[2][1].feature_importances_)"
   ]
  },
  {
   "cell_type": "code",
   "execution_count": 101,
   "metadata": {
    "scrolled": true
   },
   "outputs": [
    {
     "data": {
      "text/plain": [
       "3532"
      ]
     },
     "execution_count": 101,
     "metadata": {},
     "output_type": "execute_result"
    }
   ],
   "source": [
    "len(feature)"
   ]
  },
  {
   "cell_type": "code",
   "execution_count": 106,
   "metadata": {},
   "outputs": [],
   "source": [
    "cat = X_train.select_dtypes('object')\n",
    "num = X_train.select_dtypes(['int','float'])"
   ]
  },
  {
   "cell_type": "code",
   "execution_count": 113,
   "metadata": {},
   "outputs": [
    {
     "data": {
      "text/plain": [
       "Index(['amount_tsh', 'gps_height', 'region_code', 'district_code',\n",
       "       'population', 'construction_year'],\n",
       "      dtype='object')"
      ]
     },
     "execution_count": 113,
     "metadata": {},
     "output_type": "execute_result"
    }
   ],
   "source": [
    "num.columns"
   ]
  },
  {
   "cell_type": "code",
   "execution_count": 110,
   "metadata": {},
   "outputs": [],
   "source": [
    "standard_scaler = StandardScaler()\n",
    "Snum = standard_scaler.fit_transform(num)"
   ]
  },
  {
   "cell_type": "code",
   "execution_count": 114,
   "metadata": {},
   "outputs": [],
   "source": [
    "Sn = pd.DataFrame(data = Snum, columns = num.columns)"
   ]
  },
  {
   "cell_type": "code",
   "execution_count": 116,
   "metadata": {},
   "outputs": [
    {
     "data": {
      "text/html": [
       "<div>\n",
       "<style scoped>\n",
       "    .dataframe tbody tr th:only-of-type {\n",
       "        vertical-align: middle;\n",
       "    }\n",
       "\n",
       "    .dataframe tbody tr th {\n",
       "        vertical-align: top;\n",
       "    }\n",
       "\n",
       "    .dataframe thead th {\n",
       "        text-align: right;\n",
       "    }\n",
       "</style>\n",
       "<table border=\"1\" class=\"dataframe\">\n",
       "  <thead>\n",
       "    <tr style=\"text-align: right;\">\n",
       "      <th></th>\n",
       "      <th>amount_tsh</th>\n",
       "      <th>gps_height</th>\n",
       "      <th>region_code</th>\n",
       "      <th>district_code</th>\n",
       "      <th>population</th>\n",
       "      <th>construction_year</th>\n",
       "    </tr>\n",
       "  </thead>\n",
       "  <tbody>\n",
       "    <tr>\n",
       "      <th>0</th>\n",
       "      <td>1.713627</td>\n",
       "      <td>1.092821</td>\n",
       "      <td>-0.242950</td>\n",
       "      <td>-0.480397</td>\n",
       "      <td>1.454471</td>\n",
       "      <td>-1.424231</td>\n",
       "    </tr>\n",
       "    <tr>\n",
       "      <th>1</th>\n",
       "      <td>-0.099068</td>\n",
       "      <td>-0.965170</td>\n",
       "      <td>0.100963</td>\n",
       "      <td>-0.063630</td>\n",
       "      <td>-0.390702</td>\n",
       "      <td>0.233978</td>\n",
       "    </tr>\n",
       "    <tr>\n",
       "      <th>2</th>\n",
       "      <td>-0.099068</td>\n",
       "      <td>0.725993</td>\n",
       "      <td>-0.701501</td>\n",
       "      <td>-0.167822</td>\n",
       "      <td>-0.258904</td>\n",
       "      <td>-3.358807</td>\n",
       "    </tr>\n",
       "    <tr>\n",
       "      <th>3</th>\n",
       "      <td>-0.099068</td>\n",
       "      <td>1.351333</td>\n",
       "      <td>0.043644</td>\n",
       "      <td>-0.480397</td>\n",
       "      <td>0.707615</td>\n",
       "      <td>0.786714</td>\n",
       "    </tr>\n",
       "    <tr>\n",
       "      <th>4</th>\n",
       "      <td>0.051990</td>\n",
       "      <td>1.068269</td>\n",
       "      <td>-0.300269</td>\n",
       "      <td>-0.272014</td>\n",
       "      <td>-0.280870</td>\n",
       "      <td>0.694591</td>\n",
       "    </tr>\n",
       "    <tr>\n",
       "      <th>...</th>\n",
       "      <td>...</td>\n",
       "      <td>...</td>\n",
       "      <td>...</td>\n",
       "      <td>...</td>\n",
       "      <td>...</td>\n",
       "      <td>...</td>\n",
       "    </tr>\n",
       "    <tr>\n",
       "      <th>41575</th>\n",
       "      <td>-0.068857</td>\n",
       "      <td>-0.788977</td>\n",
       "      <td>-0.586863</td>\n",
       "      <td>-0.376205</td>\n",
       "      <td>0.707615</td>\n",
       "      <td>0.878837</td>\n",
       "    </tr>\n",
       "    <tr>\n",
       "      <th>41576</th>\n",
       "      <td>-0.099068</td>\n",
       "      <td>2.632342</td>\n",
       "      <td>-0.758820</td>\n",
       "      <td>-0.063630</td>\n",
       "      <td>0.378120</td>\n",
       "      <td>0.510346</td>\n",
       "    </tr>\n",
       "    <tr>\n",
       "      <th>41577</th>\n",
       "      <td>-0.099068</td>\n",
       "      <td>-0.897292</td>\n",
       "      <td>4.801108</td>\n",
       "      <td>-0.480397</td>\n",
       "      <td>0.487952</td>\n",
       "      <td>-1.332108</td>\n",
       "    </tr>\n",
       "    <tr>\n",
       "      <th>41578</th>\n",
       "      <td>-0.099068</td>\n",
       "      <td>-0.965170</td>\n",
       "      <td>-0.816139</td>\n",
       "      <td>-0.272014</td>\n",
       "      <td>-0.390702</td>\n",
       "      <td>0.141855</td>\n",
       "    </tr>\n",
       "    <tr>\n",
       "      <th>41579</th>\n",
       "      <td>-0.099068</td>\n",
       "      <td>-0.965170</td>\n",
       "      <td>0.215600</td>\n",
       "      <td>0.144753</td>\n",
       "      <td>-0.390702</td>\n",
       "      <td>0.141855</td>\n",
       "    </tr>\n",
       "  </tbody>\n",
       "</table>\n",
       "<p>41580 rows × 6 columns</p>\n",
       "</div>"
      ],
      "text/plain": [
       "       amount_tsh  gps_height  region_code  district_code  population  \\\n",
       "0        1.713627    1.092821    -0.242950      -0.480397    1.454471   \n",
       "1       -0.099068   -0.965170     0.100963      -0.063630   -0.390702   \n",
       "2       -0.099068    0.725993    -0.701501      -0.167822   -0.258904   \n",
       "3       -0.099068    1.351333     0.043644      -0.480397    0.707615   \n",
       "4        0.051990    1.068269    -0.300269      -0.272014   -0.280870   \n",
       "...           ...         ...          ...            ...         ...   \n",
       "41575   -0.068857   -0.788977    -0.586863      -0.376205    0.707615   \n",
       "41576   -0.099068    2.632342    -0.758820      -0.063630    0.378120   \n",
       "41577   -0.099068   -0.897292     4.801108      -0.480397    0.487952   \n",
       "41578   -0.099068   -0.965170    -0.816139      -0.272014   -0.390702   \n",
       "41579   -0.099068   -0.965170     0.215600       0.144753   -0.390702   \n",
       "\n",
       "       construction_year  \n",
       "0              -1.424231  \n",
       "1               0.233978  \n",
       "2              -3.358807  \n",
       "3               0.786714  \n",
       "4               0.694591  \n",
       "...                  ...  \n",
       "41575           0.878837  \n",
       "41576           0.510346  \n",
       "41577          -1.332108  \n",
       "41578           0.141855  \n",
       "41579           0.141855  \n",
       "\n",
       "[41580 rows x 6 columns]"
      ]
     },
     "execution_count": 116,
     "metadata": {},
     "output_type": "execute_result"
    }
   ],
   "source": [
    "Sn"
   ]
  },
  {
   "cell_type": "code",
   "execution_count": 135,
   "metadata": {},
   "outputs": [],
   "source": [
    "sc = pd.get_dummies(cat)"
   ]
  },
  {
   "cell_type": "code",
   "execution_count": 144,
   "metadata": {},
   "outputs": [],
   "source": [
    "names = pd.concat([Sn.reset_index(),sc.reset_index()],axis=1)"
   ]
  },
  {
   "cell_type": "code",
   "execution_count": 145,
   "metadata": {},
   "outputs": [],
   "source": [
    "names.drop(columns=['index'], inplace=True)"
   ]
  },
  {
   "cell_type": "code",
   "execution_count": 149,
   "metadata": {},
   "outputs": [
    {
     "data": {
      "text/html": [
       "<div>\n",
       "<style scoped>\n",
       "    .dataframe tbody tr th:only-of-type {\n",
       "        vertical-align: middle;\n",
       "    }\n",
       "\n",
       "    .dataframe tbody tr th {\n",
       "        vertical-align: top;\n",
       "    }\n",
       "\n",
       "    .dataframe thead th {\n",
       "        text-align: right;\n",
       "    }\n",
       "</style>\n",
       "<table border=\"1\" class=\"dataframe\">\n",
       "  <thead>\n",
       "    <tr style=\"text-align: right;\">\n",
       "      <th></th>\n",
       "      <th>amount_tsh</th>\n",
       "      <th>gps_height</th>\n",
       "      <th>region_code</th>\n",
       "      <th>district_code</th>\n",
       "      <th>population</th>\n",
       "      <th>construction_year</th>\n",
       "      <th>funder_A/co Germany</th>\n",
       "      <th>funder_Aar</th>\n",
       "      <th>funder_Abasia</th>\n",
       "      <th>funder_Abd</th>\n",
       "      <th>...</th>\n",
       "      <th>source_class_groundwater</th>\n",
       "      <th>source_class_surface</th>\n",
       "      <th>source_class_unknown</th>\n",
       "      <th>waterpoint_type_cattle trough</th>\n",
       "      <th>waterpoint_type_communal standpipe</th>\n",
       "      <th>waterpoint_type_communal standpipe multiple</th>\n",
       "      <th>waterpoint_type_dam</th>\n",
       "      <th>waterpoint_type_hand pump</th>\n",
       "      <th>waterpoint_type_improved spring</th>\n",
       "      <th>waterpoint_type_other</th>\n",
       "    </tr>\n",
       "  </thead>\n",
       "  <tbody>\n",
       "    <tr>\n",
       "      <th>0</th>\n",
       "      <td>1.713627</td>\n",
       "      <td>1.092821</td>\n",
       "      <td>-0.242950</td>\n",
       "      <td>-0.480397</td>\n",
       "      <td>1.454471</td>\n",
       "      <td>-1.424231</td>\n",
       "      <td>0</td>\n",
       "      <td>0</td>\n",
       "      <td>0</td>\n",
       "      <td>0</td>\n",
       "      <td>...</td>\n",
       "      <td>1</td>\n",
       "      <td>0</td>\n",
       "      <td>0</td>\n",
       "      <td>0</td>\n",
       "      <td>1</td>\n",
       "      <td>0</td>\n",
       "      <td>0</td>\n",
       "      <td>0</td>\n",
       "      <td>0</td>\n",
       "      <td>0</td>\n",
       "    </tr>\n",
       "    <tr>\n",
       "      <th>1</th>\n",
       "      <td>-0.099068</td>\n",
       "      <td>-0.965170</td>\n",
       "      <td>0.100963</td>\n",
       "      <td>-0.063630</td>\n",
       "      <td>-0.390702</td>\n",
       "      <td>0.233978</td>\n",
       "      <td>0</td>\n",
       "      <td>0</td>\n",
       "      <td>0</td>\n",
       "      <td>0</td>\n",
       "      <td>...</td>\n",
       "      <td>1</td>\n",
       "      <td>0</td>\n",
       "      <td>0</td>\n",
       "      <td>0</td>\n",
       "      <td>0</td>\n",
       "      <td>0</td>\n",
       "      <td>0</td>\n",
       "      <td>1</td>\n",
       "      <td>0</td>\n",
       "      <td>0</td>\n",
       "    </tr>\n",
       "    <tr>\n",
       "      <th>2</th>\n",
       "      <td>-0.099068</td>\n",
       "      <td>0.725993</td>\n",
       "      <td>-0.701501</td>\n",
       "      <td>-0.167822</td>\n",
       "      <td>-0.258904</td>\n",
       "      <td>-3.358807</td>\n",
       "      <td>0</td>\n",
       "      <td>0</td>\n",
       "      <td>0</td>\n",
       "      <td>0</td>\n",
       "      <td>...</td>\n",
       "      <td>1</td>\n",
       "      <td>0</td>\n",
       "      <td>0</td>\n",
       "      <td>0</td>\n",
       "      <td>0</td>\n",
       "      <td>0</td>\n",
       "      <td>0</td>\n",
       "      <td>0</td>\n",
       "      <td>0</td>\n",
       "      <td>1</td>\n",
       "    </tr>\n",
       "    <tr>\n",
       "      <th>3</th>\n",
       "      <td>-0.099068</td>\n",
       "      <td>1.351333</td>\n",
       "      <td>0.043644</td>\n",
       "      <td>-0.480397</td>\n",
       "      <td>0.707615</td>\n",
       "      <td>0.786714</td>\n",
       "      <td>0</td>\n",
       "      <td>0</td>\n",
       "      <td>0</td>\n",
       "      <td>0</td>\n",
       "      <td>...</td>\n",
       "      <td>0</td>\n",
       "      <td>1</td>\n",
       "      <td>0</td>\n",
       "      <td>0</td>\n",
       "      <td>1</td>\n",
       "      <td>0</td>\n",
       "      <td>0</td>\n",
       "      <td>0</td>\n",
       "      <td>0</td>\n",
       "      <td>0</td>\n",
       "    </tr>\n",
       "    <tr>\n",
       "      <th>4</th>\n",
       "      <td>0.051990</td>\n",
       "      <td>1.068269</td>\n",
       "      <td>-0.300269</td>\n",
       "      <td>-0.272014</td>\n",
       "      <td>-0.280870</td>\n",
       "      <td>0.694591</td>\n",
       "      <td>0</td>\n",
       "      <td>0</td>\n",
       "      <td>0</td>\n",
       "      <td>0</td>\n",
       "      <td>...</td>\n",
       "      <td>1</td>\n",
       "      <td>0</td>\n",
       "      <td>0</td>\n",
       "      <td>0</td>\n",
       "      <td>1</td>\n",
       "      <td>0</td>\n",
       "      <td>0</td>\n",
       "      <td>0</td>\n",
       "      <td>0</td>\n",
       "      <td>0</td>\n",
       "    </tr>\n",
       "    <tr>\n",
       "      <th>...</th>\n",
       "      <td>...</td>\n",
       "      <td>...</td>\n",
       "      <td>...</td>\n",
       "      <td>...</td>\n",
       "      <td>...</td>\n",
       "      <td>...</td>\n",
       "      <td>...</td>\n",
       "      <td>...</td>\n",
       "      <td>...</td>\n",
       "      <td>...</td>\n",
       "      <td>...</td>\n",
       "      <td>...</td>\n",
       "      <td>...</td>\n",
       "      <td>...</td>\n",
       "      <td>...</td>\n",
       "      <td>...</td>\n",
       "      <td>...</td>\n",
       "      <td>...</td>\n",
       "      <td>...</td>\n",
       "      <td>...</td>\n",
       "      <td>...</td>\n",
       "    </tr>\n",
       "    <tr>\n",
       "      <th>41575</th>\n",
       "      <td>-0.068857</td>\n",
       "      <td>-0.788977</td>\n",
       "      <td>-0.586863</td>\n",
       "      <td>-0.376205</td>\n",
       "      <td>0.707615</td>\n",
       "      <td>0.878837</td>\n",
       "      <td>0</td>\n",
       "      <td>0</td>\n",
       "      <td>0</td>\n",
       "      <td>0</td>\n",
       "      <td>...</td>\n",
       "      <td>1</td>\n",
       "      <td>0</td>\n",
       "      <td>0</td>\n",
       "      <td>0</td>\n",
       "      <td>0</td>\n",
       "      <td>0</td>\n",
       "      <td>0</td>\n",
       "      <td>1</td>\n",
       "      <td>0</td>\n",
       "      <td>0</td>\n",
       "    </tr>\n",
       "    <tr>\n",
       "      <th>41576</th>\n",
       "      <td>-0.099068</td>\n",
       "      <td>2.632342</td>\n",
       "      <td>-0.758820</td>\n",
       "      <td>-0.063630</td>\n",
       "      <td>0.378120</td>\n",
       "      <td>0.510346</td>\n",
       "      <td>0</td>\n",
       "      <td>0</td>\n",
       "      <td>0</td>\n",
       "      <td>0</td>\n",
       "      <td>...</td>\n",
       "      <td>0</td>\n",
       "      <td>1</td>\n",
       "      <td>0</td>\n",
       "      <td>0</td>\n",
       "      <td>0</td>\n",
       "      <td>1</td>\n",
       "      <td>0</td>\n",
       "      <td>0</td>\n",
       "      <td>0</td>\n",
       "      <td>0</td>\n",
       "    </tr>\n",
       "    <tr>\n",
       "      <th>41577</th>\n",
       "      <td>-0.099068</td>\n",
       "      <td>-0.897292</td>\n",
       "      <td>4.801108</td>\n",
       "      <td>-0.480397</td>\n",
       "      <td>0.487952</td>\n",
       "      <td>-1.332108</td>\n",
       "      <td>0</td>\n",
       "      <td>0</td>\n",
       "      <td>0</td>\n",
       "      <td>0</td>\n",
       "      <td>...</td>\n",
       "      <td>1</td>\n",
       "      <td>0</td>\n",
       "      <td>0</td>\n",
       "      <td>0</td>\n",
       "      <td>0</td>\n",
       "      <td>0</td>\n",
       "      <td>0</td>\n",
       "      <td>0</td>\n",
       "      <td>0</td>\n",
       "      <td>1</td>\n",
       "    </tr>\n",
       "    <tr>\n",
       "      <th>41578</th>\n",
       "      <td>-0.099068</td>\n",
       "      <td>-0.965170</td>\n",
       "      <td>-0.816139</td>\n",
       "      <td>-0.272014</td>\n",
       "      <td>-0.390702</td>\n",
       "      <td>0.141855</td>\n",
       "      <td>0</td>\n",
       "      <td>0</td>\n",
       "      <td>0</td>\n",
       "      <td>0</td>\n",
       "      <td>...</td>\n",
       "      <td>1</td>\n",
       "      <td>0</td>\n",
       "      <td>0</td>\n",
       "      <td>0</td>\n",
       "      <td>0</td>\n",
       "      <td>1</td>\n",
       "      <td>0</td>\n",
       "      <td>0</td>\n",
       "      <td>0</td>\n",
       "      <td>0</td>\n",
       "    </tr>\n",
       "    <tr>\n",
       "      <th>41579</th>\n",
       "      <td>-0.099068</td>\n",
       "      <td>-0.965170</td>\n",
       "      <td>0.215600</td>\n",
       "      <td>0.144753</td>\n",
       "      <td>-0.390702</td>\n",
       "      <td>0.141855</td>\n",
       "      <td>0</td>\n",
       "      <td>0</td>\n",
       "      <td>0</td>\n",
       "      <td>0</td>\n",
       "      <td>...</td>\n",
       "      <td>1</td>\n",
       "      <td>0</td>\n",
       "      <td>0</td>\n",
       "      <td>0</td>\n",
       "      <td>0</td>\n",
       "      <td>0</td>\n",
       "      <td>0</td>\n",
       "      <td>1</td>\n",
       "      <td>0</td>\n",
       "      <td>0</td>\n",
       "    </tr>\n",
       "  </tbody>\n",
       "</table>\n",
       "<p>41580 rows × 3532 columns</p>\n",
       "</div>"
      ],
      "text/plain": [
       "       amount_tsh  gps_height  region_code  district_code  population  \\\n",
       "0        1.713627    1.092821    -0.242950      -0.480397    1.454471   \n",
       "1       -0.099068   -0.965170     0.100963      -0.063630   -0.390702   \n",
       "2       -0.099068    0.725993    -0.701501      -0.167822   -0.258904   \n",
       "3       -0.099068    1.351333     0.043644      -0.480397    0.707615   \n",
       "4        0.051990    1.068269    -0.300269      -0.272014   -0.280870   \n",
       "...           ...         ...          ...            ...         ...   \n",
       "41575   -0.068857   -0.788977    -0.586863      -0.376205    0.707615   \n",
       "41576   -0.099068    2.632342    -0.758820      -0.063630    0.378120   \n",
       "41577   -0.099068   -0.897292     4.801108      -0.480397    0.487952   \n",
       "41578   -0.099068   -0.965170    -0.816139      -0.272014   -0.390702   \n",
       "41579   -0.099068   -0.965170     0.215600       0.144753   -0.390702   \n",
       "\n",
       "       construction_year  funder_A/co Germany  funder_Aar  funder_Abasia  \\\n",
       "0              -1.424231                    0           0              0   \n",
       "1               0.233978                    0           0              0   \n",
       "2              -3.358807                    0           0              0   \n",
       "3               0.786714                    0           0              0   \n",
       "4               0.694591                    0           0              0   \n",
       "...                  ...                  ...         ...            ...   \n",
       "41575           0.878837                    0           0              0   \n",
       "41576           0.510346                    0           0              0   \n",
       "41577          -1.332108                    0           0              0   \n",
       "41578           0.141855                    0           0              0   \n",
       "41579           0.141855                    0           0              0   \n",
       "\n",
       "       funder_Abd  ...  source_class_groundwater  source_class_surface  \\\n",
       "0               0  ...                         1                     0   \n",
       "1               0  ...                         1                     0   \n",
       "2               0  ...                         1                     0   \n",
       "3               0  ...                         0                     1   \n",
       "4               0  ...                         1                     0   \n",
       "...           ...  ...                       ...                   ...   \n",
       "41575           0  ...                         1                     0   \n",
       "41576           0  ...                         0                     1   \n",
       "41577           0  ...                         1                     0   \n",
       "41578           0  ...                         1                     0   \n",
       "41579           0  ...                         1                     0   \n",
       "\n",
       "       source_class_unknown  waterpoint_type_cattle trough  \\\n",
       "0                         0                              0   \n",
       "1                         0                              0   \n",
       "2                         0                              0   \n",
       "3                         0                              0   \n",
       "4                         0                              0   \n",
       "...                     ...                            ...   \n",
       "41575                     0                              0   \n",
       "41576                     0                              0   \n",
       "41577                     0                              0   \n",
       "41578                     0                              0   \n",
       "41579                     0                              0   \n",
       "\n",
       "       waterpoint_type_communal standpipe  \\\n",
       "0                                       1   \n",
       "1                                       0   \n",
       "2                                       0   \n",
       "3                                       1   \n",
       "4                                       1   \n",
       "...                                   ...   \n",
       "41575                                   0   \n",
       "41576                                   0   \n",
       "41577                                   0   \n",
       "41578                                   0   \n",
       "41579                                   0   \n",
       "\n",
       "       waterpoint_type_communal standpipe multiple  waterpoint_type_dam  \\\n",
       "0                                                0                    0   \n",
       "1                                                0                    0   \n",
       "2                                                0                    0   \n",
       "3                                                0                    0   \n",
       "4                                                0                    0   \n",
       "...                                            ...                  ...   \n",
       "41575                                            0                    0   \n",
       "41576                                            1                    0   \n",
       "41577                                            0                    0   \n",
       "41578                                            1                    0   \n",
       "41579                                            0                    0   \n",
       "\n",
       "       waterpoint_type_hand pump  waterpoint_type_improved spring  \\\n",
       "0                              0                                0   \n",
       "1                              1                                0   \n",
       "2                              0                                0   \n",
       "3                              0                                0   \n",
       "4                              0                                0   \n",
       "...                          ...                              ...   \n",
       "41575                          1                                0   \n",
       "41576                          0                                0   \n",
       "41577                          0                                0   \n",
       "41578                          0                                0   \n",
       "41579                          1                                0   \n",
       "\n",
       "       waterpoint_type_other  \n",
       "0                          0  \n",
       "1                          0  \n",
       "2                          1  \n",
       "3                          0  \n",
       "4                          0  \n",
       "...                      ...  \n",
       "41575                      0  \n",
       "41576                      0  \n",
       "41577                      1  \n",
       "41578                      0  \n",
       "41579                      0  \n",
       "\n",
       "[41580 rows x 3532 columns]"
      ]
     },
     "execution_count": 149,
     "metadata": {},
     "output_type": "execute_result"
    }
   ],
   "source": [
    "names"
   ]
  },
  {
   "cell_type": "code",
   "execution_count": 150,
   "metadata": {},
   "outputs": [],
   "source": [
    "name = names.columns"
   ]
  },
  {
   "cell_type": "code",
   "execution_count": 151,
   "metadata": {},
   "outputs": [],
   "source": [
    "fi = pd.DataFrame({'Name': name, 'feature_import': feature})"
   ]
  },
  {
   "cell_type": "code",
   "execution_count": 159,
   "metadata": {},
   "outputs": [
    {
     "data": {
      "text/plain": [
       "['quantity_group_dry',\n",
       " 'construction_year',\n",
       " 'extraction_type_group_other',\n",
       " 'quantity_group_enough',\n",
       " 'gps_height',\n",
       " 'amount_tsh']"
      ]
     },
     "execution_count": 159,
     "metadata": {},
     "output_type": "execute_result"
    }
   ],
   "source": [
    "list(fi.sort_values('feature_import',ascending=False).head(6)['Name'].values)"
   ]
  },
  {
   "cell_type": "code",
   "execution_count": null,
   "metadata": {},
   "outputs": [],
   "source": []
  }
 ],
 "metadata": {
  "kernelspec": {
   "display_name": "Python (learn-env)",
   "language": "python",
   "name": "learn-env"
  },
  "language_info": {
   "codemirror_mode": {
    "name": "ipython",
    "version": 3
   },
   "file_extension": ".py",
   "mimetype": "text/x-python",
   "name": "python",
   "nbconvert_exporter": "python",
   "pygments_lexer": "ipython3",
   "version": "3.8.5"
  }
 },
 "nbformat": 4,
 "nbformat_minor": 4
}
