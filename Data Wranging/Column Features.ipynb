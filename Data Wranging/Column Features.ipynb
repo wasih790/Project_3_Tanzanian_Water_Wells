{
 "cells": [
  {
   "cell_type": "markdown",
   "metadata": {},
   "source": [
    "\n",
    "## amount_tsh - Total static head (amount water available to waterpoint)\n",
    "## date_recorded - The date the row was entered\n",
    "## funder - Who funded the well\n",
    "## gps_height - Altitude of the well\n",
    "## installer - Organization that installed the well\n",
    "## longitude - GPS coordinate\n",
    "## latitude - GPS coordinate\n",
    "## wpt_name - Name of the waterpoint if there is one\n",
    "## num_private -\n",
    "## basin - Geographic water basin\n",
    "## subvillage - Geographic location\n",
    "## region - Geographic location\n",
    "## region_code - Geographic location (coded)\n",
    "## district_code - Geographic location (coded)\n",
    "## lga - Geographic location\n",
    "## ward - Geographic location\n",
    "## population - Population around the well\n",
    "## public_meeting - True/False\n",
    "## recorded_by - Group entering this row of data\n",
    "## scheme_management - Who operates the waterpoint\n",
    "## scheme_name - Who operates the waterpoint\n",
    "## permit - If the waterpoint is permitted\n",
    "## construction_year - Year the waterpoint was constructed\n",
    "## extraction_type - The kind of extraction the waterpoint uses\n",
    "## extraction_type_group - The kind of extraction the waterpoint uses\n",
    "## extraction_type_class - The kind of extraction the waterpoint uses\n",
    "## management - How the waterpoint is managed\n",
    "## management_group - How the waterpoint is managed\n",
    "## payment - What the water costs\n",
    "## payment_type - What the water costs\n",
    "## water_quality - The quality of the water\n",
    "## quality_group - The quality of the water\n",
    "## quantity - The quantity of water\n",
    "## quantity_group - The quantity of water\n",
    "## source - The source of the water\n",
    "## source_type - The source of the water\n",
    "## source_class - The source of the water\n",
    "## waterpoint_type - The kind of waterpoint\n",
    "## waterpoint_type_group - The kind of waterpoint"
   ]
  },
  {
   "cell_type": "code",
   "execution_count": null,
   "metadata": {},
   "outputs": [],
   "source": []
  }
 ],
 "metadata": {
  "kernelspec": {
   "display_name": "Python (learn-env)",
   "language": "python",
   "name": "learn-env"
  },
  "language_info": {
   "codemirror_mode": {
    "name": "ipython",
    "version": 3
   },
   "file_extension": ".py",
   "mimetype": "text/x-python",
   "name": "python",
   "nbconvert_exporter": "python",
   "pygments_lexer": "ipython3",
   "version": "3.8.5"
  }
 },
 "nbformat": 4,
 "nbformat_minor": 4
}
