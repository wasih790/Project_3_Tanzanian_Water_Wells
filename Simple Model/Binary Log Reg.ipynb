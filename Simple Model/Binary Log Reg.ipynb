{
 "cells": [
  {
   "cell_type": "code",
   "execution_count": 1,
   "metadata": {},
   "outputs": [],
   "source": [
    "import pandas as pd\n",
    "import numpy as np\n",
    "from sklearn.preprocessing import OneHotEncoder\n",
    "from sklearn.preprocessing import StandardScaler\n",
    "from imblearn.pipeline import Pipeline\n",
    "from sklearn.compose import ColumnTransformer\n",
    "from sklearn import set_config\n",
    "set_config(display=\"diagram\")\n",
    "from sklearn.linear_model import LogisticRegression \n",
    "from sklearn.metrics import confusion_matrix, ConfusionMatrixDisplay\n",
    "import matplotlib.pyplot as plt\n",
    "\n",
    "from imblearn.over_sampling import SMOTE\n",
    "from sklearn.metrics import plot_roc_curve, auc,roc_curve,roc_auc_score\n",
    "from sklearn.metrics import classification_report\n",
    "\n",
    "import warnings\n",
    "warnings.filterwarnings('ignore')"
   ]
  },
  {
   "cell_type": "code",
   "execution_count": 2,
   "metadata": {},
   "outputs": [],
   "source": [
    "df = pd.read_csv('Taz_Water')"
   ]
  },
  {
   "cell_type": "markdown",
   "metadata": {},
   "source": [
    "# Unnessary Columns for preditive model"
   ]
  },
  {
   "cell_type": "code",
   "execution_count": 3,
   "metadata": {},
   "outputs": [],
   "source": [
    "pred_uncol = ['date_recorded','funder','installer','longitude','latitude','wpt_name','num_private','subvillage'\n",
    "              ,'recorded_by','scheme_name','ward','public_meeting',\n",
    "             'extraction_type','payment','quality_group','source_type','quantity',\n",
    "             'waterpoint_type_group','permit']"
   ]
  },
  {
   "cell_type": "code",
   "execution_count": 4,
   "metadata": {},
   "outputs": [
    {
     "data": {
      "text/html": [
       "<div>\n",
       "<style scoped>\n",
       "    .dataframe tbody tr th:only-of-type {\n",
       "        vertical-align: middle;\n",
       "    }\n",
       "\n",
       "    .dataframe tbody tr th {\n",
       "        vertical-align: top;\n",
       "    }\n",
       "\n",
       "    .dataframe thead th {\n",
       "        text-align: right;\n",
       "    }\n",
       "</style>\n",
       "<table border=\"1\" class=\"dataframe\">\n",
       "  <thead>\n",
       "    <tr style=\"text-align: right;\">\n",
       "      <th></th>\n",
       "      <th>id</th>\n",
       "      <th>amount_tsh</th>\n",
       "      <th>gps_height</th>\n",
       "      <th>basin</th>\n",
       "      <th>region</th>\n",
       "      <th>region_code</th>\n",
       "      <th>district_code</th>\n",
       "      <th>lga</th>\n",
       "      <th>population</th>\n",
       "      <th>scheme_management</th>\n",
       "      <th>...</th>\n",
       "      <th>extraction_type_class</th>\n",
       "      <th>management</th>\n",
       "      <th>management_group</th>\n",
       "      <th>payment_type</th>\n",
       "      <th>water_quality</th>\n",
       "      <th>quantity_group</th>\n",
       "      <th>source</th>\n",
       "      <th>source_class</th>\n",
       "      <th>waterpoint_type</th>\n",
       "      <th>status_group</th>\n",
       "    </tr>\n",
       "  </thead>\n",
       "  <tbody>\n",
       "    <tr>\n",
       "      <th>0</th>\n",
       "      <td>69572</td>\n",
       "      <td>6000.0</td>\n",
       "      <td>1390</td>\n",
       "      <td>Lake Nyasa</td>\n",
       "      <td>Iringa</td>\n",
       "      <td>11</td>\n",
       "      <td>5</td>\n",
       "      <td>Ludewa</td>\n",
       "      <td>109</td>\n",
       "      <td>VWC</td>\n",
       "      <td>...</td>\n",
       "      <td>gravity</td>\n",
       "      <td>vwc</td>\n",
       "      <td>user-group</td>\n",
       "      <td>annually</td>\n",
       "      <td>soft</td>\n",
       "      <td>enough</td>\n",
       "      <td>spring</td>\n",
       "      <td>groundwater</td>\n",
       "      <td>communal standpipe</td>\n",
       "      <td>functional</td>\n",
       "    </tr>\n",
       "    <tr>\n",
       "      <th>1</th>\n",
       "      <td>8776</td>\n",
       "      <td>0.0</td>\n",
       "      <td>1399</td>\n",
       "      <td>Lake Victoria</td>\n",
       "      <td>Mara</td>\n",
       "      <td>20</td>\n",
       "      <td>2</td>\n",
       "      <td>Serengeti</td>\n",
       "      <td>280</td>\n",
       "      <td>Other</td>\n",
       "      <td>...</td>\n",
       "      <td>gravity</td>\n",
       "      <td>wug</td>\n",
       "      <td>user-group</td>\n",
       "      <td>never pay</td>\n",
       "      <td>soft</td>\n",
       "      <td>insufficient</td>\n",
       "      <td>rainwater harvesting</td>\n",
       "      <td>surface</td>\n",
       "      <td>communal standpipe</td>\n",
       "      <td>functional</td>\n",
       "    </tr>\n",
       "    <tr>\n",
       "      <th>2</th>\n",
       "      <td>34310</td>\n",
       "      <td>25.0</td>\n",
       "      <td>686</td>\n",
       "      <td>Pangani</td>\n",
       "      <td>Manyara</td>\n",
       "      <td>21</td>\n",
       "      <td>4</td>\n",
       "      <td>Simanjiro</td>\n",
       "      <td>250</td>\n",
       "      <td>VWC</td>\n",
       "      <td>...</td>\n",
       "      <td>gravity</td>\n",
       "      <td>vwc</td>\n",
       "      <td>user-group</td>\n",
       "      <td>per bucket</td>\n",
       "      <td>soft</td>\n",
       "      <td>enough</td>\n",
       "      <td>dam</td>\n",
       "      <td>surface</td>\n",
       "      <td>communal standpipe multiple</td>\n",
       "      <td>functional</td>\n",
       "    </tr>\n",
       "    <tr>\n",
       "      <th>3</th>\n",
       "      <td>67743</td>\n",
       "      <td>0.0</td>\n",
       "      <td>263</td>\n",
       "      <td>Ruvuma / Southern Coast</td>\n",
       "      <td>Mtwara</td>\n",
       "      <td>90</td>\n",
       "      <td>63</td>\n",
       "      <td>Nanyumbu</td>\n",
       "      <td>58</td>\n",
       "      <td>VWC</td>\n",
       "      <td>...</td>\n",
       "      <td>submersible</td>\n",
       "      <td>vwc</td>\n",
       "      <td>user-group</td>\n",
       "      <td>never pay</td>\n",
       "      <td>soft</td>\n",
       "      <td>dry</td>\n",
       "      <td>machine dbh</td>\n",
       "      <td>groundwater</td>\n",
       "      <td>communal standpipe multiple</td>\n",
       "      <td>non functional</td>\n",
       "    </tr>\n",
       "    <tr>\n",
       "      <th>4</th>\n",
       "      <td>19728</td>\n",
       "      <td>0.0</td>\n",
       "      <td>0</td>\n",
       "      <td>Lake Victoria</td>\n",
       "      <td>Kagera</td>\n",
       "      <td>18</td>\n",
       "      <td>1</td>\n",
       "      <td>Karagwe</td>\n",
       "      <td>0</td>\n",
       "      <td>NaN</td>\n",
       "      <td>...</td>\n",
       "      <td>gravity</td>\n",
       "      <td>other</td>\n",
       "      <td>other</td>\n",
       "      <td>never pay</td>\n",
       "      <td>soft</td>\n",
       "      <td>seasonal</td>\n",
       "      <td>rainwater harvesting</td>\n",
       "      <td>surface</td>\n",
       "      <td>communal standpipe</td>\n",
       "      <td>functional</td>\n",
       "    </tr>\n",
       "  </tbody>\n",
       "</table>\n",
       "<p>5 rows × 22 columns</p>\n",
       "</div>"
      ],
      "text/plain": [
       "      id  amount_tsh  gps_height                    basin   region  \\\n",
       "0  69572      6000.0        1390               Lake Nyasa   Iringa   \n",
       "1   8776         0.0        1399            Lake Victoria     Mara   \n",
       "2  34310        25.0         686                  Pangani  Manyara   \n",
       "3  67743         0.0         263  Ruvuma / Southern Coast   Mtwara   \n",
       "4  19728         0.0           0            Lake Victoria   Kagera   \n",
       "\n",
       "   region_code  district_code        lga  population scheme_management  ...  \\\n",
       "0           11              5     Ludewa         109               VWC  ...   \n",
       "1           20              2  Serengeti         280             Other  ...   \n",
       "2           21              4  Simanjiro         250               VWC  ...   \n",
       "3           90             63   Nanyumbu          58               VWC  ...   \n",
       "4           18              1    Karagwe           0               NaN  ...   \n",
       "\n",
       "   extraction_type_class management management_group payment_type  \\\n",
       "0                gravity        vwc       user-group     annually   \n",
       "1                gravity        wug       user-group    never pay   \n",
       "2                gravity        vwc       user-group   per bucket   \n",
       "3            submersible        vwc       user-group    never pay   \n",
       "4                gravity      other            other    never pay   \n",
       "\n",
       "  water_quality quantity_group                source source_class  \\\n",
       "0          soft         enough                spring  groundwater   \n",
       "1          soft   insufficient  rainwater harvesting      surface   \n",
       "2          soft         enough                   dam      surface   \n",
       "3          soft            dry           machine dbh  groundwater   \n",
       "4          soft       seasonal  rainwater harvesting      surface   \n",
       "\n",
       "               waterpoint_type    status_group  \n",
       "0           communal standpipe      functional  \n",
       "1           communal standpipe      functional  \n",
       "2  communal standpipe multiple      functional  \n",
       "3  communal standpipe multiple  non functional  \n",
       "4           communal standpipe      functional  \n",
       "\n",
       "[5 rows x 22 columns]"
      ]
     },
     "execution_count": 4,
     "metadata": {},
     "output_type": "execute_result"
    }
   ],
   "source": [
    "pred_df = df.drop(pred_uncol,axis=1)\n",
    "pred_df.head()"
   ]
  },
  {
   "cell_type": "markdown",
   "metadata": {},
   "source": [
    "# Setting target to binary"
   ]
  },
  {
   "cell_type": "code",
   "execution_count": 5,
   "metadata": {},
   "outputs": [
    {
     "data": {
      "text/plain": [
       "functional                 32259\n",
       "non functional             22824\n",
       "functional needs repair     4317\n",
       "Name: status_group, dtype: int64"
      ]
     },
     "execution_count": 5,
     "metadata": {},
     "output_type": "execute_result"
    }
   ],
   "source": [
    "pred_df['status_group'].value_counts()"
   ]
  },
  {
   "cell_type": "code",
   "execution_count": 6,
   "metadata": {},
   "outputs": [],
   "source": [
    "pred_df['status_group'] = pred_df['status_group'].replace('functional needs repair','functional')"
   ]
  },
  {
   "cell_type": "code",
   "execution_count": 7,
   "metadata": {},
   "outputs": [
    {
     "data": {
      "text/plain": [
       "functional        36576\n",
       "non functional    22824\n",
       "Name: status_group, dtype: int64"
      ]
     },
     "execution_count": 7,
     "metadata": {},
     "output_type": "execute_result"
    }
   ],
   "source": [
    "pred_df['status_group'].value_counts()"
   ]
  },
  {
   "cell_type": "code",
   "execution_count": 8,
   "metadata": {},
   "outputs": [
    {
     "data": {
      "text/plain": [
       "amount_tsh                  0\n",
       "gps_height                  0\n",
       "basin                       0\n",
       "region                      0\n",
       "region_code                 0\n",
       "district_code               0\n",
       "lga                         0\n",
       "population                  0\n",
       "scheme_management        3877\n",
       "construction_year           0\n",
       "extraction_type_group       0\n",
       "extraction_type_class       0\n",
       "management                  0\n",
       "management_group            0\n",
       "payment_type                0\n",
       "water_quality               0\n",
       "quantity_group              0\n",
       "source                      0\n",
       "source_class                0\n",
       "waterpoint_type             0\n",
       "status_group                0\n",
       "dtype: int64"
      ]
     },
     "execution_count": 8,
     "metadata": {},
     "output_type": "execute_result"
    }
   ],
   "source": [
    "dd = pred_df.drop('id',axis=1)\n",
    "dd.isna().sum()"
   ]
  },
  {
   "cell_type": "markdown",
   "metadata": {},
   "source": [
    "# Train test split"
   ]
  },
  {
   "cell_type": "code",
   "execution_count": 9,
   "metadata": {},
   "outputs": [],
   "source": [
    "X = dd.drop('status_group',axis=1)\n",
    "y = dd['status_group']"
   ]
  },
  {
   "cell_type": "code",
   "execution_count": 10,
   "metadata": {},
   "outputs": [],
   "source": [
    "from sklearn.model_selection import train_test_split\n",
    "\n",
    "X_train, X_test, y_train, y_test = train_test_split(X, y, test_size=0.30, random_state=42)"
   ]
  },
  {
   "cell_type": "markdown",
   "metadata": {},
   "source": [
    "# fixing the missing data"
   ]
  },
  {
   "cell_type": "code",
   "execution_count": 11,
   "metadata": {},
   "outputs": [],
   "source": [
    "X_train[\"scheme_management\"].fillna(\"VWC\", inplace = True)\n",
    "X_train['construction_year'] = X_train['construction_year'].replace(0,np.nan)\n",
    "X_train['construction_year'] = X_train['construction_year'].apply(lambda x: x if pd.notnull(x) else np.random.randint(2000, 2010))"
   ]
  },
  {
   "cell_type": "markdown",
   "metadata": {},
   "source": [
    "# Test"
   ]
  },
  {
   "cell_type": "code",
   "execution_count": 12,
   "metadata": {},
   "outputs": [],
   "source": [
    "X_test[\"scheme_management\"].fillna(\"VWC\", inplace = True)\n",
    "X_test['construction_year'] = X_test['construction_year'].replace(0,np.nan)\n",
    "X_test['construction_year'] = X_test['construction_year'].apply(lambda x: x if pd.notnull(x) else np.random.randint(2000, 2010))"
   ]
  },
  {
   "cell_type": "markdown",
   "metadata": {},
   "source": [
    "# Pipe lines"
   ]
  },
  {
   "cell_type": "code",
   "execution_count": 13,
   "metadata": {},
   "outputs": [],
   "source": [
    "cat_cols = X_train.select_dtypes('object').columns\n",
    "num_cols = X_train.select_dtypes(['int','float']).columns\n",
    "\n",
    "\n",
    "numeric_pipe = Pipeline([('numnorm',StandardScaler())])\n",
    "\n",
    "nominal_pipe = Pipeline([\n",
    "    ('onehotenc', OneHotEncoder(sparse=False,drop='first')),\n",
    "    ('onehotnorm', StandardScaler())\n",
    "])"
   ]
  },
  {
   "cell_type": "code",
   "execution_count": 14,
   "metadata": {},
   "outputs": [
    {
     "data": {
      "text/html": [
       "<style>div.sk-top-container {color: black;background-color: white;}div.sk-toggleable {background-color: white;}label.sk-toggleable__label {cursor: pointer;display: block;width: 100%;margin-bottom: 0;padding: 0.2em 0.3em;box-sizing: border-box;text-align: center;}div.sk-toggleable__content {max-height: 0;max-width: 0;overflow: hidden;text-align: left;background-color: #f0f8ff;}div.sk-toggleable__content pre {margin: 0.2em;color: black;border-radius: 0.25em;background-color: #f0f8ff;}input.sk-toggleable__control:checked~div.sk-toggleable__content {max-height: 200px;max-width: 100%;overflow: auto;}div.sk-estimator input.sk-toggleable__control:checked~label.sk-toggleable__label {background-color: #d4ebff;}div.sk-label input.sk-toggleable__control:checked~label.sk-toggleable__label {background-color: #d4ebff;}input.sk-hidden--visually {border: 0;clip: rect(1px 1px 1px 1px);clip: rect(1px, 1px, 1px, 1px);height: 1px;margin: -1px;overflow: hidden;padding: 0;position: absolute;width: 1px;}div.sk-estimator {font-family: monospace;background-color: #f0f8ff;margin: 0.25em 0.25em;border: 1px dotted black;border-radius: 0.25em;box-sizing: border-box;}div.sk-estimator:hover {background-color: #d4ebff;}div.sk-parallel-item::after {content: \"\";width: 100%;border-bottom: 1px solid gray;flex-grow: 1;}div.sk-label:hover label.sk-toggleable__label {background-color: #d4ebff;}div.sk-serial::before {content: \"\";position: absolute;border-left: 1px solid gray;box-sizing: border-box;top: 2em;bottom: 0;left: 50%;}div.sk-serial {display: flex;flex-direction: column;align-items: center;background-color: white;}div.sk-item {z-index: 1;}div.sk-parallel {display: flex;align-items: stretch;justify-content: center;background-color: white;}div.sk-parallel-item {display: flex;flex-direction: column;position: relative;background-color: white;}div.sk-parallel-item:first-child::after {align-self: flex-end;width: 50%;}div.sk-parallel-item:last-child::after {align-self: flex-start;width: 50%;}div.sk-parallel-item:only-child::after {width: 0;}div.sk-dashed-wrapped {border: 1px dashed gray;margin: 0.2em;box-sizing: border-box;padding-bottom: 0.1em;background-color: white;position: relative;}div.sk-label label {font-family: monospace;font-weight: bold;background-color: white;display: inline-block;line-height: 1.2em;}div.sk-label-container {position: relative;z-index: 2;text-align: center;}div.sk-container {display: inline-block;position: relative;}</style><div class=\"sk-top-container\"><div class=\"sk-container\"><div class=\"sk-item sk-dashed-wrapped\"><div class=\"sk-label-container\"><div class=\"sk-label sk-toggleable\"><input class=\"sk-toggleable__control sk-hidden--visually\" id=\"9eefdea7-0e81-4856-aad4-2500a61614f2\" type=\"checkbox\" ><label class=\"sk-toggleable__label\" for=\"9eefdea7-0e81-4856-aad4-2500a61614f2\">ColumnTransformer</label><div class=\"sk-toggleable__content\"><pre>ColumnTransformer(transformers=[('numpipe',\n",
       "                                 Pipeline(steps=[('numnorm',\n",
       "                                                  StandardScaler())]),\n",
       "                                 Index(['amount_tsh', 'gps_height', 'region_code', 'district_code',\n",
       "       'population', 'construction_year'],\n",
       "      dtype='object')),\n",
       "                                ('nominalpipe',\n",
       "                                 Pipeline(steps=[('onehotenc',\n",
       "                                                  OneHotEncoder(drop='first',\n",
       "                                                                sparse=False)),\n",
       "                                                 ('onehotnorm',\n",
       "                                                  StandardScaler())]),\n",
       "                                 Index(['basin', 'region', 'lga', 'scheme_management', 'extraction_type_group',\n",
       "       'extraction_type_class', 'management', 'management_group',\n",
       "       'payment_type', 'water_quality', 'quantity_group', 'source',\n",
       "       'source_class', 'waterpoint_type'],\n",
       "      dtype='object'))])</pre></div></div></div><div class=\"sk-parallel\"><div class=\"sk-parallel-item\"><div class=\"sk-item\"><div class=\"sk-label-container\"><div class=\"sk-label sk-toggleable\"><input class=\"sk-toggleable__control sk-hidden--visually\" id=\"7377ba89-58f4-4a45-a8fc-008cb740097b\" type=\"checkbox\" ><label class=\"sk-toggleable__label\" for=\"7377ba89-58f4-4a45-a8fc-008cb740097b\">numpipe</label><div class=\"sk-toggleable__content\"><pre>Index(['amount_tsh', 'gps_height', 'region_code', 'district_code',\n",
       "       'population', 'construction_year'],\n",
       "      dtype='object')</pre></div></div></div><div class=\"sk-serial\"><div class=\"sk-item\"><div class=\"sk-serial\"><div class=\"sk-item\"><div class=\"sk-estimator sk-toggleable\"><input class=\"sk-toggleable__control sk-hidden--visually\" id=\"f64dc40c-9941-485d-8e4e-0d862c7b3d1a\" type=\"checkbox\" ><label class=\"sk-toggleable__label\" for=\"f64dc40c-9941-485d-8e4e-0d862c7b3d1a\">StandardScaler</label><div class=\"sk-toggleable__content\"><pre>StandardScaler()</pre></div></div></div></div></div></div></div></div><div class=\"sk-parallel-item\"><div class=\"sk-item\"><div class=\"sk-label-container\"><div class=\"sk-label sk-toggleable\"><input class=\"sk-toggleable__control sk-hidden--visually\" id=\"360cc0e7-7407-4fe1-999c-b75d596e8851\" type=\"checkbox\" ><label class=\"sk-toggleable__label\" for=\"360cc0e7-7407-4fe1-999c-b75d596e8851\">nominalpipe</label><div class=\"sk-toggleable__content\"><pre>Index(['basin', 'region', 'lga', 'scheme_management', 'extraction_type_group',\n",
       "       'extraction_type_class', 'management', 'management_group',\n",
       "       'payment_type', 'water_quality', 'quantity_group', 'source',\n",
       "       'source_class', 'waterpoint_type'],\n",
       "      dtype='object')</pre></div></div></div><div class=\"sk-serial\"><div class=\"sk-item\"><div class=\"sk-serial\"><div class=\"sk-item\"><div class=\"sk-estimator sk-toggleable\"><input class=\"sk-toggleable__control sk-hidden--visually\" id=\"5438aaff-a0fc-4877-8ab9-6c595e10b160\" type=\"checkbox\" ><label class=\"sk-toggleable__label\" for=\"5438aaff-a0fc-4877-8ab9-6c595e10b160\">OneHotEncoder</label><div class=\"sk-toggleable__content\"><pre>OneHotEncoder(drop='first', sparse=False)</pre></div></div></div><div class=\"sk-item\"><div class=\"sk-estimator sk-toggleable\"><input class=\"sk-toggleable__control sk-hidden--visually\" id=\"33a40ca3-b1f5-4f96-872e-10e61180bb1e\" type=\"checkbox\" ><label class=\"sk-toggleable__label\" for=\"33a40ca3-b1f5-4f96-872e-10e61180bb1e\">StandardScaler</label><div class=\"sk-toggleable__content\"><pre>StandardScaler()</pre></div></div></div></div></div></div></div></div></div></div></div></div>"
      ],
      "text/plain": [
       "ColumnTransformer(transformers=[('numpipe',\n",
       "                                 Pipeline(steps=[('numnorm',\n",
       "                                                  StandardScaler())]),\n",
       "                                 Index(['amount_tsh', 'gps_height', 'region_code', 'district_code',\n",
       "       'population', 'construction_year'],\n",
       "      dtype='object')),\n",
       "                                ('nominalpipe',\n",
       "                                 Pipeline(steps=[('onehotenc',\n",
       "                                                  OneHotEncoder(drop='first',\n",
       "                                                                sparse=False)),\n",
       "                                                 ('onehotnorm',\n",
       "                                                  StandardScaler())]),\n",
       "                                 Index(['basin', 'region', 'lga', 'scheme_management', 'extraction_type_group',\n",
       "       'extraction_type_class', 'management', 'management_group',\n",
       "       'payment_type', 'water_quality', 'quantity_group', 'source',\n",
       "       'source_class', 'waterpoint_type'],\n",
       "      dtype='object'))])"
      ]
     },
     "execution_count": 14,
     "metadata": {},
     "output_type": "execute_result"
    }
   ],
   "source": [
    "ct = ColumnTransformer([\n",
    "    ('numpipe',numeric_pipe, num_cols),\n",
    "    ('nominalpipe',nominal_pipe,cat_cols),\n",
    "])\n",
    "ct"
   ]
  },
  {
   "cell_type": "code",
   "execution_count": 15,
   "metadata": {},
   "outputs": [
    {
     "data": {
      "text/html": [
       "<style>div.sk-top-container {color: black;background-color: white;}div.sk-toggleable {background-color: white;}label.sk-toggleable__label {cursor: pointer;display: block;width: 100%;margin-bottom: 0;padding: 0.2em 0.3em;box-sizing: border-box;text-align: center;}div.sk-toggleable__content {max-height: 0;max-width: 0;overflow: hidden;text-align: left;background-color: #f0f8ff;}div.sk-toggleable__content pre {margin: 0.2em;color: black;border-radius: 0.25em;background-color: #f0f8ff;}input.sk-toggleable__control:checked~div.sk-toggleable__content {max-height: 200px;max-width: 100%;overflow: auto;}div.sk-estimator input.sk-toggleable__control:checked~label.sk-toggleable__label {background-color: #d4ebff;}div.sk-label input.sk-toggleable__control:checked~label.sk-toggleable__label {background-color: #d4ebff;}input.sk-hidden--visually {border: 0;clip: rect(1px 1px 1px 1px);clip: rect(1px, 1px, 1px, 1px);height: 1px;margin: -1px;overflow: hidden;padding: 0;position: absolute;width: 1px;}div.sk-estimator {font-family: monospace;background-color: #f0f8ff;margin: 0.25em 0.25em;border: 1px dotted black;border-radius: 0.25em;box-sizing: border-box;}div.sk-estimator:hover {background-color: #d4ebff;}div.sk-parallel-item::after {content: \"\";width: 100%;border-bottom: 1px solid gray;flex-grow: 1;}div.sk-label:hover label.sk-toggleable__label {background-color: #d4ebff;}div.sk-serial::before {content: \"\";position: absolute;border-left: 1px solid gray;box-sizing: border-box;top: 2em;bottom: 0;left: 50%;}div.sk-serial {display: flex;flex-direction: column;align-items: center;background-color: white;}div.sk-item {z-index: 1;}div.sk-parallel {display: flex;align-items: stretch;justify-content: center;background-color: white;}div.sk-parallel-item {display: flex;flex-direction: column;position: relative;background-color: white;}div.sk-parallel-item:first-child::after {align-self: flex-end;width: 50%;}div.sk-parallel-item:last-child::after {align-self: flex-start;width: 50%;}div.sk-parallel-item:only-child::after {width: 0;}div.sk-dashed-wrapped {border: 1px dashed gray;margin: 0.2em;box-sizing: border-box;padding-bottom: 0.1em;background-color: white;position: relative;}div.sk-label label {font-family: monospace;font-weight: bold;background-color: white;display: inline-block;line-height: 1.2em;}div.sk-label-container {position: relative;z-index: 2;text-align: center;}div.sk-container {display: inline-block;position: relative;}</style><div class=\"sk-top-container\"><div class=\"sk-container\"><div class=\"sk-item sk-dashed-wrapped\"><div class=\"sk-label-container\"><div class=\"sk-label sk-toggleable\"><input class=\"sk-toggleable__control sk-hidden--visually\" id=\"b21c1436-08ee-4192-b082-9c439c219d2c\" type=\"checkbox\" ><label class=\"sk-toggleable__label\" for=\"b21c1436-08ee-4192-b082-9c439c219d2c\">Pipeline</label><div class=\"sk-toggleable__content\"><pre>Pipeline(steps=[('preprocess',\n",
       "                 ColumnTransformer(transformers=[('numpipe',\n",
       "                                                  Pipeline(steps=[('numnorm',\n",
       "                                                                   StandardScaler())]),\n",
       "                                                  Index(['amount_tsh', 'gps_height', 'region_code', 'district_code',\n",
       "       'population', 'construction_year'],\n",
       "      dtype='object')),\n",
       "                                                 ('nominalpipe',\n",
       "                                                  Pipeline(steps=[('onehotenc',\n",
       "                                                                   OneHotEncoder(drop='first',\n",
       "                                                                                 sparse=False)),\n",
       "                                                                  ('onehotnorm',\n",
       "                                                                   StandardScaler())]),\n",
       "                                                  Index(['basin', 'region', 'lga', 'scheme_management', 'extraction_type_group',\n",
       "       'extraction_type_class', 'management', 'management_group',\n",
       "       'payment_type', 'water_quality', 'quantity_group', 'source',\n",
       "       'source_class', 'waterpoint_type'],\n",
       "      dtype='object'))])),\n",
       "                ('smote', SMOTE(random_state=42)),\n",
       "                ('model', LogisticRegression(random_state=42))])</pre></div></div></div><div class=\"sk-serial\"><div class=\"sk-item sk-dashed-wrapped\"><div class=\"sk-label-container\"><div class=\"sk-label sk-toggleable\"><input class=\"sk-toggleable__control sk-hidden--visually\" id=\"95a2c6c9-0c6c-4c6a-bdee-6739d1e48b7f\" type=\"checkbox\" ><label class=\"sk-toggleable__label\" for=\"95a2c6c9-0c6c-4c6a-bdee-6739d1e48b7f\">preprocess: ColumnTransformer</label><div class=\"sk-toggleable__content\"><pre>ColumnTransformer(transformers=[('numpipe',\n",
       "                                 Pipeline(steps=[('numnorm',\n",
       "                                                  StandardScaler())]),\n",
       "                                 Index(['amount_tsh', 'gps_height', 'region_code', 'district_code',\n",
       "       'population', 'construction_year'],\n",
       "      dtype='object')),\n",
       "                                ('nominalpipe',\n",
       "                                 Pipeline(steps=[('onehotenc',\n",
       "                                                  OneHotEncoder(drop='first',\n",
       "                                                                sparse=False)),\n",
       "                                                 ('onehotnorm',\n",
       "                                                  StandardScaler())]),\n",
       "                                 Index(['basin', 'region', 'lga', 'scheme_management', 'extraction_type_group',\n",
       "       'extraction_type_class', 'management', 'management_group',\n",
       "       'payment_type', 'water_quality', 'quantity_group', 'source',\n",
       "       'source_class', 'waterpoint_type'],\n",
       "      dtype='object'))])</pre></div></div></div><div class=\"sk-parallel\"><div class=\"sk-parallel-item\"><div class=\"sk-item\"><div class=\"sk-label-container\"><div class=\"sk-label sk-toggleable\"><input class=\"sk-toggleable__control sk-hidden--visually\" id=\"f9c90753-0447-47b3-8985-81ac6d1a76bd\" type=\"checkbox\" ><label class=\"sk-toggleable__label\" for=\"f9c90753-0447-47b3-8985-81ac6d1a76bd\">numpipe</label><div class=\"sk-toggleable__content\"><pre>Index(['amount_tsh', 'gps_height', 'region_code', 'district_code',\n",
       "       'population', 'construction_year'],\n",
       "      dtype='object')</pre></div></div></div><div class=\"sk-serial\"><div class=\"sk-item\"><div class=\"sk-serial\"><div class=\"sk-item\"><div class=\"sk-estimator sk-toggleable\"><input class=\"sk-toggleable__control sk-hidden--visually\" id=\"9705e072-ddad-424c-a8e5-2f9f148124d1\" type=\"checkbox\" ><label class=\"sk-toggleable__label\" for=\"9705e072-ddad-424c-a8e5-2f9f148124d1\">StandardScaler</label><div class=\"sk-toggleable__content\"><pre>StandardScaler()</pre></div></div></div></div></div></div></div></div><div class=\"sk-parallel-item\"><div class=\"sk-item\"><div class=\"sk-label-container\"><div class=\"sk-label sk-toggleable\"><input class=\"sk-toggleable__control sk-hidden--visually\" id=\"22e156b5-94fc-4ea3-9034-ec1241036a67\" type=\"checkbox\" ><label class=\"sk-toggleable__label\" for=\"22e156b5-94fc-4ea3-9034-ec1241036a67\">nominalpipe</label><div class=\"sk-toggleable__content\"><pre>Index(['basin', 'region', 'lga', 'scheme_management', 'extraction_type_group',\n",
       "       'extraction_type_class', 'management', 'management_group',\n",
       "       'payment_type', 'water_quality', 'quantity_group', 'source',\n",
       "       'source_class', 'waterpoint_type'],\n",
       "      dtype='object')</pre></div></div></div><div class=\"sk-serial\"><div class=\"sk-item\"><div class=\"sk-serial\"><div class=\"sk-item\"><div class=\"sk-estimator sk-toggleable\"><input class=\"sk-toggleable__control sk-hidden--visually\" id=\"5fb9f638-a663-4994-a3d9-2c6ced3733a4\" type=\"checkbox\" ><label class=\"sk-toggleable__label\" for=\"5fb9f638-a663-4994-a3d9-2c6ced3733a4\">OneHotEncoder</label><div class=\"sk-toggleable__content\"><pre>OneHotEncoder(drop='first', sparse=False)</pre></div></div></div><div class=\"sk-item\"><div class=\"sk-estimator sk-toggleable\"><input class=\"sk-toggleable__control sk-hidden--visually\" id=\"27da9441-fc4f-405e-8b59-919bffd693d4\" type=\"checkbox\" ><label class=\"sk-toggleable__label\" for=\"27da9441-fc4f-405e-8b59-919bffd693d4\">StandardScaler</label><div class=\"sk-toggleable__content\"><pre>StandardScaler()</pre></div></div></div></div></div></div></div></div></div></div><div class=\"sk-item\"><div class=\"sk-estimator sk-toggleable\"><input class=\"sk-toggleable__control sk-hidden--visually\" id=\"726ff664-7c9a-47d4-992b-df0e5a3d9ff4\" type=\"checkbox\" ><label class=\"sk-toggleable__label\" for=\"726ff664-7c9a-47d4-992b-df0e5a3d9ff4\">SMOTE</label><div class=\"sk-toggleable__content\"><pre>SMOTE(random_state=42)</pre></div></div></div><div class=\"sk-item\"><div class=\"sk-estimator sk-toggleable\"><input class=\"sk-toggleable__control sk-hidden--visually\" id=\"755d4b0a-b1c9-4182-84c7-5b1026e59739\" type=\"checkbox\" ><label class=\"sk-toggleable__label\" for=\"755d4b0a-b1c9-4182-84c7-5b1026e59739\">LogisticRegression</label><div class=\"sk-toggleable__content\"><pre>LogisticRegression(random_state=42)</pre></div></div></div></div></div></div></div>"
      ],
      "text/plain": [
       "Pipeline(steps=[('preprocess',\n",
       "                 ColumnTransformer(transformers=[('numpipe',\n",
       "                                                  Pipeline(steps=[('numnorm',\n",
       "                                                                   StandardScaler())]),\n",
       "                                                  Index(['amount_tsh', 'gps_height', 'region_code', 'district_code',\n",
       "       'population', 'construction_year'],\n",
       "      dtype='object')),\n",
       "                                                 ('nominalpipe',\n",
       "                                                  Pipeline(steps=[('onehotenc',\n",
       "                                                                   OneHotEncoder(drop='first',\n",
       "                                                                                 sparse=False)),\n",
       "                                                                  ('onehotnorm',\n",
       "                                                                   StandardScaler())]),\n",
       "                                                  Index(['basin', 'region', 'lga', 'scheme_management', 'extraction_type_group',\n",
       "       'extraction_type_class', 'management', 'management_group',\n",
       "       'payment_type', 'water_quality', 'quantity_group', 'source',\n",
       "       'source_class', 'waterpoint_type'],\n",
       "      dtype='object'))])),\n",
       "                ('smote', SMOTE(random_state=42)),\n",
       "                ('model', LogisticRegression(random_state=42))])"
      ]
     },
     "execution_count": 15,
     "metadata": {},
     "output_type": "execute_result"
    }
   ],
   "source": [
    "log = Pipeline([\n",
    "    ('preprocess', ct),\n",
    "    (\"smote\", SMOTE(random_state=42)),\n",
    "    ('model',LogisticRegression(random_state=42))\n",
    "])\n",
    "log"
   ]
  },
  {
   "cell_type": "markdown",
   "metadata": {},
   "source": [
    "# Fit the Model"
   ]
  },
  {
   "cell_type": "code",
   "execution_count": 16,
   "metadata": {},
   "outputs": [
    {
     "data": {
      "image/png": "[encoded data removed]",
      "text/plain": [
       "<Figure size 432x288 with 2 Axes>"
      ]
     },
     "metadata": {
      "needs_background": "light"
     },
     "output_type": "display_data"
    }
   ],
   "source": [
    "log.fit(X_train,y_train)\n",
    "y_pred = log.predict(X_test)\n",
    "cm = confusion_matrix(y_test, y_pred)\n",
    "disp = ConfusionMatrixDisplay(confusion_matrix=cm\n",
    "                              )\n",
    "disp.plot();"
   ]
  },
  {
   "cell_type": "code",
   "execution_count": 17,
   "metadata": {},
   "outputs": [
    {
     "name": "stdout",
     "output_type": "stream",
     "text": [
      "                precision    recall  f1-score   support\n",
      "\n",
      "    functional       0.84      0.83      0.83     11017\n",
      "non functional       0.73      0.74      0.74      6803\n",
      "\n",
      "      accuracy                           0.80     17820\n",
      "     macro avg       0.78      0.79      0.78     17820\n",
      "  weighted avg       0.80      0.80      0.80     17820\n",
      "\n"
     ]
    }
   ],
   "source": [
    "print(classification_report(y_test, y_pred))"
   ]
  },
  {
   "cell_type": "code",
   "execution_count": 22,
   "metadata": {},
   "outputs": [],
   "source": [
    "# y_score = log.fit(X_train,y_train).decision_function(X_test)\n",
    "# fpr, tpr, thresholds = roc_curve(y_test,y_score[:,1])\n",
    "# auc(fpr, tpr) "
   ]
  },
  {
   "cell_type": "code",
   "execution_count": 19,
   "metadata": {
    "scrolled": true
   },
   "outputs": [
    {
     "data": {
      "image/png": "[encoded data removed]",
      "text/plain": [
       "<Figure size 432x288 with 1 Axes>"
      ]
     },
     "metadata": {
      "needs_background": "light"
     },
     "output_type": "display_data"
    }
   ],
   "source": [
    "plot_roc_curve(log,X_train,y_train);"
   ]
  }
 ],
 "metadata": {
  "kernelspec": {
   "display_name": "Python (learn-env)",
   "language": "python",
   "name": "learn-env"
  },
  "language_info": {
   "codemirror_mode": {
    "name": "ipython",
    "version": 3
   },
   "file_extension": ".py",
   "mimetype": "text/x-python",
   "name": "python",
   "nbconvert_exporter": "python",
   "pygments_lexer": "ipython3",
   "version": "3.8.5"
  }
 },
 "nbformat": 4,
 "nbformat_minor": 4
}
