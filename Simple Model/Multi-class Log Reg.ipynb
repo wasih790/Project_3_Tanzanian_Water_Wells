{
 "cells": [
  {
   "cell_type": "code",
   "execution_count": 1,
   "metadata": {},
   "outputs": [],
   "source": [
    "import pandas as pd\n",
    "import numpy as np\n",
    "from sklearn.preprocessing import OneHotEncoder\n",
    "from sklearn.preprocessing import StandardScaler\n",
    "from sklearn.preprocessing import MaxAbsScaler\n",
    "from imblearn.pipeline import Pipeline\n",
    "from sklearn.compose import ColumnTransformer\n",
    "from sklearn import set_config\n",
    "set_config(display=\"diagram\")\n",
    "from sklearn.linear_model import LogisticRegression \n",
    "from sklearn.metrics import confusion_matrix, ConfusionMatrixDisplay\n",
    "import matplotlib.pyplot as plt\n",
    "\n",
    "from imblearn.over_sampling import SMOTE\n",
    "from sklearn.metrics import plot_roc_curve, auc,roc_curve,roc_auc_score\n",
    "from sklearn.metrics import classification_report\n",
    "\n",
    "import warnings\n",
    "warnings.filterwarnings('ignore')"
   ]
  },
  {
   "cell_type": "code",
   "execution_count": 2,
   "metadata": {},
   "outputs": [],
   "source": [
    "df = pd.read_csv('Taz_Water.csv')"
   ]
  },
  {
   "cell_type": "markdown",
   "metadata": {},
   "source": [
    "# Unnessary Columns for preditive model"
   ]
  },
  {
   "cell_type": "code",
   "execution_count": 3,
   "metadata": {},
   "outputs": [],
   "source": [
    "pred_uncol = ['date_recorded','funder','installer','longitude','latitude','wpt_name','num_private','subvillage'\n",
    "              ,'recorded_by','scheme_name','ward','public_meeting',\n",
    "             'extraction_type','payment','quality_group','source_type','quantity',\n",
    "             'waterpoint_type_group','permit']"
   ]
  },
  {
   "cell_type": "code",
   "execution_count": 4,
   "metadata": {},
   "outputs": [
    {
     "data": {
      "text/html": [
       "<div>\n",
       "<style scoped>\n",
       "    .dataframe tbody tr th:only-of-type {\n",
       "        vertical-align: middle;\n",
       "    }\n",
       "\n",
       "    .dataframe tbody tr th {\n",
       "        vertical-align: top;\n",
       "    }\n",
       "\n",
       "    .dataframe thead th {\n",
       "        text-align: right;\n",
       "    }\n",
       "</style>\n",
       "<table border=\"1\" class=\"dataframe\">\n",
       "  <thead>\n",
       "    <tr style=\"text-align: right;\">\n",
       "      <th></th>\n",
       "      <th>id</th>\n",
       "      <th>amount_tsh</th>\n",
       "      <th>gps_height</th>\n",
       "      <th>basin</th>\n",
       "      <th>region</th>\n",
       "      <th>region_code</th>\n",
       "      <th>district_code</th>\n",
       "      <th>lga</th>\n",
       "      <th>population</th>\n",
       "      <th>scheme_management</th>\n",
       "      <th>...</th>\n",
       "      <th>extraction_type_class</th>\n",
       "      <th>management</th>\n",
       "      <th>management_group</th>\n",
       "      <th>payment_type</th>\n",
       "      <th>water_quality</th>\n",
       "      <th>quantity_group</th>\n",
       "      <th>source</th>\n",
       "      <th>source_class</th>\n",
       "      <th>waterpoint_type</th>\n",
       "      <th>status_group</th>\n",
       "    </tr>\n",
       "  </thead>\n",
       "  <tbody>\n",
       "    <tr>\n",
       "      <th>0</th>\n",
       "      <td>69572</td>\n",
       "      <td>6000.0</td>\n",
       "      <td>1390</td>\n",
       "      <td>Lake Nyasa</td>\n",
       "      <td>Iringa</td>\n",
       "      <td>11</td>\n",
       "      <td>5</td>\n",
       "      <td>Ludewa</td>\n",
       "      <td>109</td>\n",
       "      <td>VWC</td>\n",
       "      <td>...</td>\n",
       "      <td>gravity</td>\n",
       "      <td>vwc</td>\n",
       "      <td>user-group</td>\n",
       "      <td>annually</td>\n",
       "      <td>soft</td>\n",
       "      <td>enough</td>\n",
       "      <td>spring</td>\n",
       "      <td>groundwater</td>\n",
       "      <td>communal standpipe</td>\n",
       "      <td>functional</td>\n",
       "    </tr>\n",
       "    <tr>\n",
       "      <th>1</th>\n",
       "      <td>8776</td>\n",
       "      <td>0.0</td>\n",
       "      <td>1399</td>\n",
       "      <td>Lake Victoria</td>\n",
       "      <td>Mara</td>\n",
       "      <td>20</td>\n",
       "      <td>2</td>\n",
       "      <td>Serengeti</td>\n",
       "      <td>280</td>\n",
       "      <td>Other</td>\n",
       "      <td>...</td>\n",
       "      <td>gravity</td>\n",
       "      <td>wug</td>\n",
       "      <td>user-group</td>\n",
       "      <td>never pay</td>\n",
       "      <td>soft</td>\n",
       "      <td>insufficient</td>\n",
       "      <td>rainwater harvesting</td>\n",
       "      <td>surface</td>\n",
       "      <td>communal standpipe</td>\n",
       "      <td>functional</td>\n",
       "    </tr>\n",
       "    <tr>\n",
       "      <th>2</th>\n",
       "      <td>34310</td>\n",
       "      <td>25.0</td>\n",
       "      <td>686</td>\n",
       "      <td>Pangani</td>\n",
       "      <td>Manyara</td>\n",
       "      <td>21</td>\n",
       "      <td>4</td>\n",
       "      <td>Simanjiro</td>\n",
       "      <td>250</td>\n",
       "      <td>VWC</td>\n",
       "      <td>...</td>\n",
       "      <td>gravity</td>\n",
       "      <td>vwc</td>\n",
       "      <td>user-group</td>\n",
       "      <td>per bucket</td>\n",
       "      <td>soft</td>\n",
       "      <td>enough</td>\n",
       "      <td>dam</td>\n",
       "      <td>surface</td>\n",
       "      <td>communal standpipe multiple</td>\n",
       "      <td>functional</td>\n",
       "    </tr>\n",
       "    <tr>\n",
       "      <th>3</th>\n",
       "      <td>67743</td>\n",
       "      <td>0.0</td>\n",
       "      <td>263</td>\n",
       "      <td>Ruvuma / Southern Coast</td>\n",
       "      <td>Mtwara</td>\n",
       "      <td>90</td>\n",
       "      <td>63</td>\n",
       "      <td>Nanyumbu</td>\n",
       "      <td>58</td>\n",
       "      <td>VWC</td>\n",
       "      <td>...</td>\n",
       "      <td>submersible</td>\n",
       "      <td>vwc</td>\n",
       "      <td>user-group</td>\n",
       "      <td>never pay</td>\n",
       "      <td>soft</td>\n",
       "      <td>dry</td>\n",
       "      <td>machine dbh</td>\n",
       "      <td>groundwater</td>\n",
       "      <td>communal standpipe multiple</td>\n",
       "      <td>non functional</td>\n",
       "    </tr>\n",
       "    <tr>\n",
       "      <th>4</th>\n",
       "      <td>19728</td>\n",
       "      <td>0.0</td>\n",
       "      <td>0</td>\n",
       "      <td>Lake Victoria</td>\n",
       "      <td>Kagera</td>\n",
       "      <td>18</td>\n",
       "      <td>1</td>\n",
       "      <td>Karagwe</td>\n",
       "      <td>0</td>\n",
       "      <td>NaN</td>\n",
       "      <td>...</td>\n",
       "      <td>gravity</td>\n",
       "      <td>other</td>\n",
       "      <td>other</td>\n",
       "      <td>never pay</td>\n",
       "      <td>soft</td>\n",
       "      <td>seasonal</td>\n",
       "      <td>rainwater harvesting</td>\n",
       "      <td>surface</td>\n",
       "      <td>communal standpipe</td>\n",
       "      <td>functional</td>\n",
       "    </tr>\n",
       "  </tbody>\n",
       "</table>\n",
       "<p>5 rows × 22 columns</p>\n",
       "</div>"
      ],
      "text/plain": [
       "      id  amount_tsh  gps_height                    basin   region  \\\n",
       "0  69572      6000.0        1390               Lake Nyasa   Iringa   \n",
       "1   8776         0.0        1399            Lake Victoria     Mara   \n",
       "2  34310        25.0         686                  Pangani  Manyara   \n",
       "3  67743         0.0         263  Ruvuma / Southern Coast   Mtwara   \n",
       "4  19728         0.0           0            Lake Victoria   Kagera   \n",
       "\n",
       "   region_code  district_code        lga  population scheme_management  ...  \\\n",
       "0           11              5     Ludewa         109               VWC  ...   \n",
       "1           20              2  Serengeti         280             Other  ...   \n",
       "2           21              4  Simanjiro         250               VWC  ...   \n",
       "3           90             63   Nanyumbu          58               VWC  ...   \n",
       "4           18              1    Karagwe           0               NaN  ...   \n",
       "\n",
       "   extraction_type_class management management_group payment_type  \\\n",
       "0                gravity        vwc       user-group     annually   \n",
       "1                gravity        wug       user-group    never pay   \n",
       "2                gravity        vwc       user-group   per bucket   \n",
       "3            submersible        vwc       user-group    never pay   \n",
       "4                gravity      other            other    never pay   \n",
       "\n",
       "  water_quality quantity_group                source source_class  \\\n",
       "0          soft         enough                spring  groundwater   \n",
       "1          soft   insufficient  rainwater harvesting      surface   \n",
       "2          soft         enough                   dam      surface   \n",
       "3          soft            dry           machine dbh  groundwater   \n",
       "4          soft       seasonal  rainwater harvesting      surface   \n",
       "\n",
       "               waterpoint_type    status_group  \n",
       "0           communal standpipe      functional  \n",
       "1           communal standpipe      functional  \n",
       "2  communal standpipe multiple      functional  \n",
       "3  communal standpipe multiple  non functional  \n",
       "4           communal standpipe      functional  \n",
       "\n",
       "[5 rows x 22 columns]"
      ]
     },
     "execution_count": 4,
     "metadata": {},
     "output_type": "execute_result"
    }
   ],
   "source": [
    "pred_df = df.drop(pred_uncol,axis=1)\n",
    "pred_df.head()"
   ]
  },
  {
   "cell_type": "markdown",
   "metadata": {},
   "source": [
    "# Checking each columns"
   ]
  },
  {
   "cell_type": "code",
   "execution_count": 5,
   "metadata": {},
   "outputs": [
    {
     "data": {
      "text/plain": [
       "amount_tsh                  0\n",
       "gps_height                  0\n",
       "basin                       0\n",
       "region                      0\n",
       "region_code                 0\n",
       "district_code               0\n",
       "lga                         0\n",
       "population                  0\n",
       "scheme_management        3877\n",
       "construction_year           0\n",
       "extraction_type_group       0\n",
       "extraction_type_class       0\n",
       "management                  0\n",
       "management_group            0\n",
       "payment_type                0\n",
       "water_quality               0\n",
       "quantity_group              0\n",
       "source                      0\n",
       "source_class                0\n",
       "waterpoint_type             0\n",
       "status_group                0\n",
       "dtype: int64"
      ]
     },
     "execution_count": 5,
     "metadata": {},
     "output_type": "execute_result"
    }
   ],
   "source": [
    "dd = pred_df.drop('id',axis=1)\n",
    "dd.isna().sum()"
   ]
  },
  {
   "cell_type": "code",
   "execution_count": 6,
   "metadata": {},
   "outputs": [
    {
     "name": "stdout",
     "output_type": "stream",
     "text": [
      "<class 'pandas.core.frame.DataFrame'>\n",
      "RangeIndex: 59400 entries, 0 to 59399\n",
      "Data columns (total 21 columns):\n",
      " #   Column                 Non-Null Count  Dtype  \n",
      "---  ------                 --------------  -----  \n",
      " 0   amount_tsh             59400 non-null  float64\n",
      " 1   gps_height             59400 non-null  int64  \n",
      " 2   basin                  59400 non-null  object \n",
      " 3   region                 59400 non-null  object \n",
      " 4   region_code            59400 non-null  int64  \n",
      " 5   district_code          59400 non-null  int64  \n",
      " 6   lga                    59400 non-null  object \n",
      " 7   population             59400 non-null  int64  \n",
      " 8   scheme_management      55523 non-null  object \n",
      " 9   construction_year      59400 non-null  int64  \n",
      " 10  extraction_type_group  59400 non-null  object \n",
      " 11  extraction_type_class  59400 non-null  object \n",
      " 12  management             59400 non-null  object \n",
      " 13  management_group       59400 non-null  object \n",
      " 14  payment_type           59400 non-null  object \n",
      " 15  water_quality          59400 non-null  object \n",
      " 16  quantity_group         59400 non-null  object \n",
      " 17  source                 59400 non-null  object \n",
      " 18  source_class           59400 non-null  object \n",
      " 19  waterpoint_type        59400 non-null  object \n",
      " 20  status_group           59400 non-null  object \n",
      "dtypes: float64(1), int64(5), object(15)\n",
      "memory usage: 9.5+ MB\n"
     ]
    }
   ],
   "source": [
    "dd.info()"
   ]
  },
  {
   "cell_type": "code",
   "execution_count": 7,
   "metadata": {},
   "outputs": [
    {
     "data": {
      "text/plain": [
       "functional                 0.543081\n",
       "non functional             0.384242\n",
       "functional needs repair    0.072677\n",
       "Name: status_group, dtype: float64"
      ]
     },
     "execution_count": 7,
     "metadata": {},
     "output_type": "execute_result"
    }
   ],
   "source": [
    "dd['status_group'].value_counts(normalize=True)"
   ]
  },
  {
   "cell_type": "markdown",
   "metadata": {},
   "source": [
    "# Train test split"
   ]
  },
  {
   "cell_type": "code",
   "execution_count": 8,
   "metadata": {},
   "outputs": [],
   "source": [
    "X = dd.drop('status_group',axis=1)\n",
    "y = dd['status_group']"
   ]
  },
  {
   "cell_type": "code",
   "execution_count": 9,
   "metadata": {},
   "outputs": [],
   "source": [
    "from sklearn.model_selection import train_test_split\n",
    "\n",
    "X_train, X_test, y_train, y_test = train_test_split(X, y, test_size=0.30, random_state=42)"
   ]
  },
  {
   "cell_type": "markdown",
   "metadata": {},
   "source": [
    "# fixing the missing data"
   ]
  },
  {
   "cell_type": "code",
   "execution_count": 10,
   "metadata": {},
   "outputs": [],
   "source": [
    "X_train[\"scheme_management\"].fillna(\"VWC\", inplace = True)\n",
    "X_train['construction_year'] = X_train['construction_year'].replace(0,np.nan)\n",
    "X_train['construction_year'] = X_train['construction_year'].apply(lambda x: x if pd.notnull(x) else np.random.randint(2000, 2010))"
   ]
  },
  {
   "cell_type": "markdown",
   "metadata": {},
   "source": [
    "# Test"
   ]
  },
  {
   "cell_type": "code",
   "execution_count": 11,
   "metadata": {},
   "outputs": [],
   "source": [
    "X_test[\"scheme_management\"].fillna(\"VWC\", inplace = True)\n",
    "X_test['construction_year'] = X_test['construction_year'].replace(0,np.nan)\n",
    "X_test['construction_year'] = X_test['construction_year'].apply(lambda x: x if pd.notnull(x) else np.random.randint(2000, 2010))"
   ]
  },
  {
   "cell_type": "markdown",
   "metadata": {},
   "source": [
    "# Pipe lines"
   ]
  },
  {
   "cell_type": "code",
   "execution_count": 12,
   "metadata": {},
   "outputs": [],
   "source": [
    "cat_cols = X_train.select_dtypes('object').columns\n",
    "num_cols = X_train.select_dtypes(['int','float']).columns\n",
    "\n",
    "\n",
    "numeric_pipe = Pipeline([('numnorm',StandardScaler())])\n",
    "\n",
    "nominal_pipe = Pipeline([\n",
    "    ('onehotenc', OneHotEncoder(sparse=False, handle_unknown = 'ignore')),\n",
    "    ('onehotnorm', StandardScaler())\n",
    "])"
   ]
  },
  {
   "cell_type": "code",
   "execution_count": 13,
   "metadata": {},
   "outputs": [
    {
     "data": {
      "text/html": [
       "<style>div.sk-top-container {color: black;background-color: white;}div.sk-toggleable {background-color: white;}label.sk-toggleable__label {cursor: pointer;display: block;width: 100%;margin-bottom: 0;padding: 0.2em 0.3em;box-sizing: border-box;text-align: center;}div.sk-toggleable__content {max-height: 0;max-width: 0;overflow: hidden;text-align: left;background-color: #f0f8ff;}div.sk-toggleable__content pre {margin: 0.2em;color: black;border-radius: 0.25em;background-color: #f0f8ff;}input.sk-toggleable__control:checked~div.sk-toggleable__content {max-height: 200px;max-width: 100%;overflow: auto;}div.sk-estimator input.sk-toggleable__control:checked~label.sk-toggleable__label {background-color: #d4ebff;}div.sk-label input.sk-toggleable__control:checked~label.sk-toggleable__label {background-color: #d4ebff;}input.sk-hidden--visually {border: 0;clip: rect(1px 1px 1px 1px);clip: rect(1px, 1px, 1px, 1px);height: 1px;margin: -1px;overflow: hidden;padding: 0;position: absolute;width: 1px;}div.sk-estimator {font-family: monospace;background-color: #f0f8ff;margin: 0.25em 0.25em;border: 1px dotted black;border-radius: 0.25em;box-sizing: border-box;}div.sk-estimator:hover {background-color: #d4ebff;}div.sk-parallel-item::after {content: \"\";width: 100%;border-bottom: 1px solid gray;flex-grow: 1;}div.sk-label:hover label.sk-toggleable__label {background-color: #d4ebff;}div.sk-serial::before {content: \"\";position: absolute;border-left: 1px solid gray;box-sizing: border-box;top: 2em;bottom: 0;left: 50%;}div.sk-serial {display: flex;flex-direction: column;align-items: center;background-color: white;}div.sk-item {z-index: 1;}div.sk-parallel {display: flex;align-items: stretch;justify-content: center;background-color: white;}div.sk-parallel-item {display: flex;flex-direction: column;position: relative;background-color: white;}div.sk-parallel-item:first-child::after {align-self: flex-end;width: 50%;}div.sk-parallel-item:last-child::after {align-self: flex-start;width: 50%;}div.sk-parallel-item:only-child::after {width: 0;}div.sk-dashed-wrapped {border: 1px dashed gray;margin: 0.2em;box-sizing: border-box;padding-bottom: 0.1em;background-color: white;position: relative;}div.sk-label label {font-family: monospace;font-weight: bold;background-color: white;display: inline-block;line-height: 1.2em;}div.sk-label-container {position: relative;z-index: 2;text-align: center;}div.sk-container {display: inline-block;position: relative;}</style><div class=\"sk-top-container\"><div class=\"sk-container\"><div class=\"sk-item sk-dashed-wrapped\"><div class=\"sk-label-container\"><div class=\"sk-label sk-toggleable\"><input class=\"sk-toggleable__control sk-hidden--visually\" id=\"19976979-f437-4487-9b7d-f7669c5ba714\" type=\"checkbox\" ><label class=\"sk-toggleable__label\" for=\"19976979-f437-4487-9b7d-f7669c5ba714\">ColumnTransformer</label><div class=\"sk-toggleable__content\"><pre>ColumnTransformer(transformers=[('numpipe',\n",
       "                                 Pipeline(steps=[('numnorm',\n",
       "                                                  StandardScaler())]),\n",
       "                                 Index(['amount_tsh', 'gps_height', 'region_code', 'district_code',\n",
       "       'population', 'construction_year'],\n",
       "      dtype='object')),\n",
       "                                ('nominalpipe',\n",
       "                                 Pipeline(steps=[('onehotenc',\n",
       "                                                  OneHotEncoder(handle_unknown='ignore',\n",
       "                                                                sparse=False)),\n",
       "                                                 ('onehotnorm',\n",
       "                                                  StandardScaler())]),\n",
       "                                 Index(['basin', 'region', 'lga', 'scheme_management', 'extraction_type_group',\n",
       "       'extraction_type_class', 'management', 'management_group',\n",
       "       'payment_type', 'water_quality', 'quantity_group', 'source',\n",
       "       'source_class', 'waterpoint_type'],\n",
       "      dtype='object'))])</pre></div></div></div><div class=\"sk-parallel\"><div class=\"sk-parallel-item\"><div class=\"sk-item\"><div class=\"sk-label-container\"><div class=\"sk-label sk-toggleable\"><input class=\"sk-toggleable__control sk-hidden--visually\" id=\"8a7d5639-b3e8-4720-89df-ccaaef775e4c\" type=\"checkbox\" ><label class=\"sk-toggleable__label\" for=\"8a7d5639-b3e8-4720-89df-ccaaef775e4c\">numpipe</label><div class=\"sk-toggleable__content\"><pre>Index(['amount_tsh', 'gps_height', 'region_code', 'district_code',\n",
       "       'population', 'construction_year'],\n",
       "      dtype='object')</pre></div></div></div><div class=\"sk-serial\"><div class=\"sk-item\"><div class=\"sk-serial\"><div class=\"sk-item\"><div class=\"sk-estimator sk-toggleable\"><input class=\"sk-toggleable__control sk-hidden--visually\" id=\"ab400674-a41b-4515-97ad-001eaa151bdc\" type=\"checkbox\" ><label class=\"sk-toggleable__label\" for=\"ab400674-a41b-4515-97ad-001eaa151bdc\">StandardScaler</label><div class=\"sk-toggleable__content\"><pre>StandardScaler()</pre></div></div></div></div></div></div></div></div><div class=\"sk-parallel-item\"><div class=\"sk-item\"><div class=\"sk-label-container\"><div class=\"sk-label sk-toggleable\"><input class=\"sk-toggleable__control sk-hidden--visually\" id=\"51fdb22a-f058-4ac2-8029-79d5f9b6e1ed\" type=\"checkbox\" ><label class=\"sk-toggleable__label\" for=\"51fdb22a-f058-4ac2-8029-79d5f9b6e1ed\">nominalpipe</label><div class=\"sk-toggleable__content\"><pre>Index(['basin', 'region', 'lga', 'scheme_management', 'extraction_type_group',\n",
       "       'extraction_type_class', 'management', 'management_group',\n",
       "       'payment_type', 'water_quality', 'quantity_group', 'source',\n",
       "       'source_class', 'waterpoint_type'],\n",
       "      dtype='object')</pre></div></div></div><div class=\"sk-serial\"><div class=\"sk-item\"><div class=\"sk-serial\"><div class=\"sk-item\"><div class=\"sk-estimator sk-toggleable\"><input class=\"sk-toggleable__control sk-hidden--visually\" id=\"3bb73b6e-bae7-4a01-ac13-1ce9faa4052b\" type=\"checkbox\" ><label class=\"sk-toggleable__label\" for=\"3bb73b6e-bae7-4a01-ac13-1ce9faa4052b\">OneHotEncoder</label><div class=\"sk-toggleable__content\"><pre>OneHotEncoder(handle_unknown='ignore', sparse=False)</pre></div></div></div><div class=\"sk-item\"><div class=\"sk-estimator sk-toggleable\"><input class=\"sk-toggleable__control sk-hidden--visually\" id=\"0fda1f3d-0191-4d1b-b9ca-90d184ee0540\" type=\"checkbox\" ><label class=\"sk-toggleable__label\" for=\"0fda1f3d-0191-4d1b-b9ca-90d184ee0540\">StandardScaler</label><div class=\"sk-toggleable__content\"><pre>StandardScaler()</pre></div></div></div></div></div></div></div></div></div></div></div></div>"
      ],
      "text/plain": [
       "ColumnTransformer(transformers=[('numpipe',\n",
       "                                 Pipeline(steps=[('numnorm',\n",
       "                                                  StandardScaler())]),\n",
       "                                 Index(['amount_tsh', 'gps_height', 'region_code', 'district_code',\n",
       "       'population', 'construction_year'],\n",
       "      dtype='object')),\n",
       "                                ('nominalpipe',\n",
       "                                 Pipeline(steps=[('onehotenc',\n",
       "                                                  OneHotEncoder(handle_unknown='ignore',\n",
       "                                                                sparse=False)),\n",
       "                                                 ('onehotnorm',\n",
       "                                                  StandardScaler())]),\n",
       "                                 Index(['basin', 'region', 'lga', 'scheme_management', 'extraction_type_group',\n",
       "       'extraction_type_class', 'management', 'management_group',\n",
       "       'payment_type', 'water_quality', 'quantity_group', 'source',\n",
       "       'source_class', 'waterpoint_type'],\n",
       "      dtype='object'))])"
      ]
     },
     "execution_count": 13,
     "metadata": {},
     "output_type": "execute_result"
    }
   ],
   "source": [
    "ct = ColumnTransformer([\n",
    "    ('numpipe',numeric_pipe, num_cols),\n",
    "    ('nominalpipe',nominal_pipe,cat_cols),\n",
    "])\n",
    "ct"
   ]
  },
  {
   "cell_type": "code",
   "execution_count": 14,
   "metadata": {},
   "outputs": [
    {
     "data": {
      "text/html": [
       "<style>div.sk-top-container {color: black;background-color: white;}div.sk-toggleable {background-color: white;}label.sk-toggleable__label {cursor: pointer;display: block;width: 100%;margin-bottom: 0;padding: 0.2em 0.3em;box-sizing: border-box;text-align: center;}div.sk-toggleable__content {max-height: 0;max-width: 0;overflow: hidden;text-align: left;background-color: #f0f8ff;}div.sk-toggleable__content pre {margin: 0.2em;color: black;border-radius: 0.25em;background-color: #f0f8ff;}input.sk-toggleable__control:checked~div.sk-toggleable__content {max-height: 200px;max-width: 100%;overflow: auto;}div.sk-estimator input.sk-toggleable__control:checked~label.sk-toggleable__label {background-color: #d4ebff;}div.sk-label input.sk-toggleable__control:checked~label.sk-toggleable__label {background-color: #d4ebff;}input.sk-hidden--visually {border: 0;clip: rect(1px 1px 1px 1px);clip: rect(1px, 1px, 1px, 1px);height: 1px;margin: -1px;overflow: hidden;padding: 0;position: absolute;width: 1px;}div.sk-estimator {font-family: monospace;background-color: #f0f8ff;margin: 0.25em 0.25em;border: 1px dotted black;border-radius: 0.25em;box-sizing: border-box;}div.sk-estimator:hover {background-color: #d4ebff;}div.sk-parallel-item::after {content: \"\";width: 100%;border-bottom: 1px solid gray;flex-grow: 1;}div.sk-label:hover label.sk-toggleable__label {background-color: #d4ebff;}div.sk-serial::before {content: \"\";position: absolute;border-left: 1px solid gray;box-sizing: border-box;top: 2em;bottom: 0;left: 50%;}div.sk-serial {display: flex;flex-direction: column;align-items: center;background-color: white;}div.sk-item {z-index: 1;}div.sk-parallel {display: flex;align-items: stretch;justify-content: center;background-color: white;}div.sk-parallel-item {display: flex;flex-direction: column;position: relative;background-color: white;}div.sk-parallel-item:first-child::after {align-self: flex-end;width: 50%;}div.sk-parallel-item:last-child::after {align-self: flex-start;width: 50%;}div.sk-parallel-item:only-child::after {width: 0;}div.sk-dashed-wrapped {border: 1px dashed gray;margin: 0.2em;box-sizing: border-box;padding-bottom: 0.1em;background-color: white;position: relative;}div.sk-label label {font-family: monospace;font-weight: bold;background-color: white;display: inline-block;line-height: 1.2em;}div.sk-label-container {position: relative;z-index: 2;text-align: center;}div.sk-container {display: inline-block;position: relative;}</style><div class=\"sk-top-container\"><div class=\"sk-container\"><div class=\"sk-item sk-dashed-wrapped\"><div class=\"sk-label-container\"><div class=\"sk-label sk-toggleable\"><input class=\"sk-toggleable__control sk-hidden--visually\" id=\"b27de4f0-4ca4-44b0-a5c5-c8039374dac8\" type=\"checkbox\" ><label class=\"sk-toggleable__label\" for=\"b27de4f0-4ca4-44b0-a5c5-c8039374dac8\">Pipeline</label><div class=\"sk-toggleable__content\"><pre>Pipeline(steps=[('preprocess',\n",
       "                 ColumnTransformer(transformers=[('numpipe',\n",
       "                                                  Pipeline(steps=[('numnorm',\n",
       "                                                                   StandardScaler())]),\n",
       "                                                  Index(['amount_tsh', 'gps_height', 'region_code', 'district_code',\n",
       "       'population', 'construction_year'],\n",
       "      dtype='object')),\n",
       "                                                 ('nominalpipe',\n",
       "                                                  Pipeline(steps=[('onehotenc',\n",
       "                                                                   OneHotEncoder(handle_unknown='ignore',\n",
       "                                                                                 sparse=False)),\n",
       "                                                                  ('onehotnorm',\n",
       "                                                                   StandardScaler())]),\n",
       "                                                  Index(['basin', 'region', 'lga', 'scheme_management', 'extraction_type_group',\n",
       "       'extraction_type_class', 'management', 'management_group',\n",
       "       'payment_type', 'water_quality', 'quantity_group', 'source',\n",
       "       'source_class', 'waterpoint_type'],\n",
       "      dtype='object'))])),\n",
       "                ('smote', SMOTE(random_state=42)),\n",
       "                ('model', LogisticRegression(random_state=42))])</pre></div></div></div><div class=\"sk-serial\"><div class=\"sk-item sk-dashed-wrapped\"><div class=\"sk-label-container\"><div class=\"sk-label sk-toggleable\"><input class=\"sk-toggleable__control sk-hidden--visually\" id=\"5a4b9f58-043e-4bc0-bbc7-67848afc0a33\" type=\"checkbox\" ><label class=\"sk-toggleable__label\" for=\"5a4b9f58-043e-4bc0-bbc7-67848afc0a33\">preprocess: ColumnTransformer</label><div class=\"sk-toggleable__content\"><pre>ColumnTransformer(transformers=[('numpipe',\n",
       "                                 Pipeline(steps=[('numnorm',\n",
       "                                                  StandardScaler())]),\n",
       "                                 Index(['amount_tsh', 'gps_height', 'region_code', 'district_code',\n",
       "       'population', 'construction_year'],\n",
       "      dtype='object')),\n",
       "                                ('nominalpipe',\n",
       "                                 Pipeline(steps=[('onehotenc',\n",
       "                                                  OneHotEncoder(handle_unknown='ignore',\n",
       "                                                                sparse=False)),\n",
       "                                                 ('onehotnorm',\n",
       "                                                  StandardScaler())]),\n",
       "                                 Index(['basin', 'region', 'lga', 'scheme_management', 'extraction_type_group',\n",
       "       'extraction_type_class', 'management', 'management_group',\n",
       "       'payment_type', 'water_quality', 'quantity_group', 'source',\n",
       "       'source_class', 'waterpoint_type'],\n",
       "      dtype='object'))])</pre></div></div></div><div class=\"sk-parallel\"><div class=\"sk-parallel-item\"><div class=\"sk-item\"><div class=\"sk-label-container\"><div class=\"sk-label sk-toggleable\"><input class=\"sk-toggleable__control sk-hidden--visually\" id=\"ab46104c-559f-4cb6-83cd-c0b49a01bde6\" type=\"checkbox\" ><label class=\"sk-toggleable__label\" for=\"ab46104c-559f-4cb6-83cd-c0b49a01bde6\">numpipe</label><div class=\"sk-toggleable__content\"><pre>Index(['amount_tsh', 'gps_height', 'region_code', 'district_code',\n",
       "       'population', 'construction_year'],\n",
       "      dtype='object')</pre></div></div></div><div class=\"sk-serial\"><div class=\"sk-item\"><div class=\"sk-serial\"><div class=\"sk-item\"><div class=\"sk-estimator sk-toggleable\"><input class=\"sk-toggleable__control sk-hidden--visually\" id=\"c6bd26cb-8bf3-4619-a52e-2b990036f6fa\" type=\"checkbox\" ><label class=\"sk-toggleable__label\" for=\"c6bd26cb-8bf3-4619-a52e-2b990036f6fa\">StandardScaler</label><div class=\"sk-toggleable__content\"><pre>StandardScaler()</pre></div></div></div></div></div></div></div></div><div class=\"sk-parallel-item\"><div class=\"sk-item\"><div class=\"sk-label-container\"><div class=\"sk-label sk-toggleable\"><input class=\"sk-toggleable__control sk-hidden--visually\" id=\"1d2b3939-c0b6-4e72-be1f-9d7b8b29127c\" type=\"checkbox\" ><label class=\"sk-toggleable__label\" for=\"1d2b3939-c0b6-4e72-be1f-9d7b8b29127c\">nominalpipe</label><div class=\"sk-toggleable__content\"><pre>Index(['basin', 'region', 'lga', 'scheme_management', 'extraction_type_group',\n",
       "       'extraction_type_class', 'management', 'management_group',\n",
       "       'payment_type', 'water_quality', 'quantity_group', 'source',\n",
       "       'source_class', 'waterpoint_type'],\n",
       "      dtype='object')</pre></div></div></div><div class=\"sk-serial\"><div class=\"sk-item\"><div class=\"sk-serial\"><div class=\"sk-item\"><div class=\"sk-estimator sk-toggleable\"><input class=\"sk-toggleable__control sk-hidden--visually\" id=\"a8046b6f-63fa-4a63-9fd5-c870765c958a\" type=\"checkbox\" ><label class=\"sk-toggleable__label\" for=\"a8046b6f-63fa-4a63-9fd5-c870765c958a\">OneHotEncoder</label><div class=\"sk-toggleable__content\"><pre>OneHotEncoder(handle_unknown='ignore', sparse=False)</pre></div></div></div><div class=\"sk-item\"><div class=\"sk-estimator sk-toggleable\"><input class=\"sk-toggleable__control sk-hidden--visually\" id=\"8f252ca5-0af0-41b1-ac73-36c3b45fc487\" type=\"checkbox\" ><label class=\"sk-toggleable__label\" for=\"8f252ca5-0af0-41b1-ac73-36c3b45fc487\">StandardScaler</label><div class=\"sk-toggleable__content\"><pre>StandardScaler()</pre></div></div></div></div></div></div></div></div></div></div><div class=\"sk-item\"><div class=\"sk-estimator sk-toggleable\"><input class=\"sk-toggleable__control sk-hidden--visually\" id=\"cc33d744-ed34-4509-8da3-0e55ce773cc7\" type=\"checkbox\" ><label class=\"sk-toggleable__label\" for=\"cc33d744-ed34-4509-8da3-0e55ce773cc7\">SMOTE</label><div class=\"sk-toggleable__content\"><pre>SMOTE(random_state=42)</pre></div></div></div><div class=\"sk-item\"><div class=\"sk-estimator sk-toggleable\"><input class=\"sk-toggleable__control sk-hidden--visually\" id=\"37c7104b-a13f-4e6e-a2de-b3f6425c2a1b\" type=\"checkbox\" ><label class=\"sk-toggleable__label\" for=\"37c7104b-a13f-4e6e-a2de-b3f6425c2a1b\">LogisticRegression</label><div class=\"sk-toggleable__content\"><pre>LogisticRegression(random_state=42)</pre></div></div></div></div></div></div></div>"
      ],
      "text/plain": [
       "Pipeline(steps=[('preprocess',\n",
       "                 ColumnTransformer(transformers=[('numpipe',\n",
       "                                                  Pipeline(steps=[('numnorm',\n",
       "                                                                   StandardScaler())]),\n",
       "                                                  Index(['amount_tsh', 'gps_height', 'region_code', 'district_code',\n",
       "       'population', 'construction_year'],\n",
       "      dtype='object')),\n",
       "                                                 ('nominalpipe',\n",
       "                                                  Pipeline(steps=[('onehotenc',\n",
       "                                                                   OneHotEncoder(handle_unknown='ignore',\n",
       "                                                                                 sparse=False)),\n",
       "                                                                  ('onehotnorm',\n",
       "                                                                   StandardScaler())]),\n",
       "                                                  Index(['basin', 'region', 'lga', 'scheme_management', 'extraction_type_group',\n",
       "       'extraction_type_class', 'management', 'management_group',\n",
       "       'payment_type', 'water_quality', 'quantity_group', 'source',\n",
       "       'source_class', 'waterpoint_type'],\n",
       "      dtype='object'))])),\n",
       "                ('smote', SMOTE(random_state=42)),\n",
       "                ('model', LogisticRegression(random_state=42))])"
      ]
     },
     "execution_count": 14,
     "metadata": {},
     "output_type": "execute_result"
    }
   ],
   "source": [
    "log = Pipeline([\n",
    "    ('preprocess', ct),\n",
    "    (\"smote\", SMOTE(random_state=42)),\n",
    "    ('model',LogisticRegression(random_state=42))\n",
    "])\n",
    "log"
   ]
  },
  {
   "cell_type": "markdown",
   "metadata": {},
   "source": [
    "# Fit the Model"
   ]
  },
  {
   "cell_type": "code",
   "execution_count": 15,
   "metadata": {},
   "outputs": [
    {
     "data": {
      "image/png": "[encoded data removed]",
      "text/plain": [
       "<Figure size 432x288 with 2 Axes>"
      ]
     },
     "metadata": {
      "needs_background": "light"
     },
     "output_type": "display_data"
    }
   ],
   "source": [
    "log.fit(X_train,y_train)\n",
    "y_pred = log.predict(X_test)\n",
    "cm = confusion_matrix(y_test, y_pred)\n",
    "disp = ConfusionMatrixDisplay(confusion_matrix=cm\n",
    "                              )\n",
    "disp.plot();"
   ]
  },
  {
   "cell_type": "code",
   "execution_count": 16,
   "metadata": {},
   "outputs": [
    {
     "name": "stdout",
     "output_type": "stream",
     "text": [
      "                         precision    recall  f1-score   support\n",
      "\n",
      "             functional       0.81      0.63      0.71      9724\n",
      "functional needs repair       0.21      0.72      0.32      1293\n",
      "         non functional       0.77      0.65      0.71      6803\n",
      "\n",
      "               accuracy                           0.65     17820\n",
      "              macro avg       0.60      0.67      0.58     17820\n",
      "           weighted avg       0.75      0.65      0.68     17820\n",
      "\n"
     ]
    }
   ],
   "source": [
    "print(classification_report(y_test, y_pred))"
   ]
  },
  {
   "cell_type": "markdown",
   "metadata": {},
   "source": [
    "# Checking is overfitting"
   ]
  },
  {
   "cell_type": "code",
   "execution_count": 17,
   "metadata": {},
   "outputs": [
    {
     "name": "stdout",
     "output_type": "stream",
     "text": [
      "0.6559403559403559\n",
      "0.6462962962962963\n"
     ]
    }
   ],
   "source": [
    "print(log.score(X_train,y_train))\n",
    "print(log.score(X_test,y_test))"
   ]
  },
  {
   "cell_type": "markdown",
   "metadata": {},
   "source": [
    "# AUC"
   ]
  },
  {
   "cell_type": "code",
   "execution_count": 18,
   "metadata": {},
   "outputs": [],
   "source": [
    "from sklearn.metrics import roc_auc_score\n",
    "\n",
    "y_score = log.fit(X_train, y_train).predict_proba(X_test)\n",
    "\n",
    "\n",
    "\n",
    "micro_roc_auc_ovr = roc_auc_score(\n",
    "    y_test,\n",
    "    y_score,\n",
    "    multi_class=\"ovr\",\n",
    ")"
   ]
  },
  {
   "cell_type": "code",
   "execution_count": 19,
   "metadata": {},
   "outputs": [
    {
     "data": {
      "text/plain": [
       "0.8407396285737484"
      ]
     },
     "execution_count": 19,
     "metadata": {},
     "output_type": "execute_result"
    }
   ],
   "source": [
    "micro_roc_auc_ovr"
   ]
  },
  {
   "cell_type": "markdown",
   "metadata": {},
   "source": [
    "# Grid Search "
   ]
  },
  {
   "cell_type": "code",
   "execution_count": 20,
   "metadata": {},
   "outputs": [],
   "source": [
    "from sklearn.model_selection import GridSearchCV\n",
    "pipe_grid = dict()\n",
    "pipe_grid['model__solver'] = ['lbfgs', 'liblinear']\n",
    "pipe_grid['model__penalty'] = ['l1', 'l2', 'elasticnet']\n",
    "pipe_grid['model__C'] = [1e-4, 1e-3, 1e-2, 1e-1, 1, 10, 100, 1000]"
   ]
  },
  {
   "cell_type": "code",
   "execution_count": 21,
   "metadata": {},
   "outputs": [
    {
     "data": {
      "text/plain": [
       "{'model__solver': ['lbfgs', 'liblinear'],\n",
       " 'model__penalty': ['l1', 'l2', 'elasticnet'],\n",
       " 'model__C': [0.0001, 0.001, 0.01, 0.1, 1, 10, 100, 1000]}"
      ]
     },
     "execution_count": 21,
     "metadata": {},
     "output_type": "execute_result"
    }
   ],
   "source": [
    "pipe_grid "
   ]
  },
  {
   "cell_type": "code",
   "execution_count": 22,
   "metadata": {},
   "outputs": [
    {
     "data": {
      "text/html": [
       "<style>div.sk-top-container {color: black;background-color: white;}div.sk-toggleable {background-color: white;}label.sk-toggleable__label {cursor: pointer;display: block;width: 100%;margin-bottom: 0;padding: 0.2em 0.3em;box-sizing: border-box;text-align: center;}div.sk-toggleable__content {max-height: 0;max-width: 0;overflow: hidden;text-align: left;background-color: #f0f8ff;}div.sk-toggleable__content pre {margin: 0.2em;color: black;border-radius: 0.25em;background-color: #f0f8ff;}input.sk-toggleable__control:checked~div.sk-toggleable__content {max-height: 200px;max-width: 100%;overflow: auto;}div.sk-estimator input.sk-toggleable__control:checked~label.sk-toggleable__label {background-color: #d4ebff;}div.sk-label input.sk-toggleable__control:checked~label.sk-toggleable__label {background-color: #d4ebff;}input.sk-hidden--visually {border: 0;clip: rect(1px 1px 1px 1px);clip: rect(1px, 1px, 1px, 1px);height: 1px;margin: -1px;overflow: hidden;padding: 0;position: absolute;width: 1px;}div.sk-estimator {font-family: monospace;background-color: #f0f8ff;margin: 0.25em 0.25em;border: 1px dotted black;border-radius: 0.25em;box-sizing: border-box;}div.sk-estimator:hover {background-color: #d4ebff;}div.sk-parallel-item::after {content: \"\";width: 100%;border-bottom: 1px solid gray;flex-grow: 1;}div.sk-label:hover label.sk-toggleable__label {background-color: #d4ebff;}div.sk-serial::before {content: \"\";position: absolute;border-left: 1px solid gray;box-sizing: border-box;top: 2em;bottom: 0;left: 50%;}div.sk-serial {display: flex;flex-direction: column;align-items: center;background-color: white;}div.sk-item {z-index: 1;}div.sk-parallel {display: flex;align-items: stretch;justify-content: center;background-color: white;}div.sk-parallel-item {display: flex;flex-direction: column;position: relative;background-color: white;}div.sk-parallel-item:first-child::after {align-self: flex-end;width: 50%;}div.sk-parallel-item:last-child::after {align-self: flex-start;width: 50%;}div.sk-parallel-item:only-child::after {width: 0;}div.sk-dashed-wrapped {border: 1px dashed gray;margin: 0.2em;box-sizing: border-box;padding-bottom: 0.1em;background-color: white;position: relative;}div.sk-label label {font-family: monospace;font-weight: bold;background-color: white;display: inline-block;line-height: 1.2em;}div.sk-label-container {position: relative;z-index: 2;text-align: center;}div.sk-container {display: inline-block;position: relative;}</style><div class=\"sk-top-container\"><div class=\"sk-container\"><div class=\"sk-item sk-dashed-wrapped\"><div class=\"sk-label-container\"><div class=\"sk-label sk-toggleable\"><input class=\"sk-toggleable__control sk-hidden--visually\" id=\"2aea1ba0-ed45-4709-a408-87f4fedc2d86\" type=\"checkbox\" ><label class=\"sk-toggleable__label\" for=\"2aea1ba0-ed45-4709-a408-87f4fedc2d86\">GridSearchCV</label><div class=\"sk-toggleable__content\"><pre>GridSearchCV(estimator=Pipeline(steps=[('preprocess',\n",
       "                                        ColumnTransformer(transformers=[('numpipe',\n",
       "                                                                         Pipeline(steps=[('numnorm',\n",
       "                                                                                          StandardScaler())]),\n",
       "                                                                         Index(['amount_tsh', 'gps_height', 'region_code', 'district_code',\n",
       "       'population', 'construction_year'],\n",
       "      dtype='object')),\n",
       "                                                                        ('nominalpipe',\n",
       "                                                                         Pipeline(steps=[('onehotenc',\n",
       "                                                                                          OneHotEncoder(handle_unknown='ignore',\n",
       "                                                                                                        sparse=Fals...\n",
       "       'extraction_type_class', 'management', 'management_group',\n",
       "       'payment_type', 'water_quality', 'quantity_group', 'source',\n",
       "       'source_class', 'waterpoint_type'],\n",
       "      dtype='object'))])),\n",
       "                                       ('smote', SMOTE(random_state=42)),\n",
       "                                       ('model',\n",
       "                                        LogisticRegression(random_state=42))]),\n",
       "             param_grid={'model__C': [0.0001, 0.001, 0.01, 0.1, 1, 10, 100,\n",
       "                                      1000],\n",
       "                         'model__penalty': ['l1', 'l2', 'elasticnet'],\n",
       "                         'model__solver': ['lbfgs', 'liblinear']})</pre></div></div></div><div class=\"sk-parallel\"><div class=\"sk-parallel-item\"><div class=\"sk-item\"><div class=\"sk-serial\"><div class=\"sk-item\"><div class=\"sk-serial\"><div class=\"sk-item sk-dashed-wrapped\"><div class=\"sk-label-container\"><div class=\"sk-label sk-toggleable\"><input class=\"sk-toggleable__control sk-hidden--visually\" id=\"38055ea0-6693-4261-9c0a-adfc98a5be40\" type=\"checkbox\" ><label class=\"sk-toggleable__label\" for=\"38055ea0-6693-4261-9c0a-adfc98a5be40\">preprocess: ColumnTransformer</label><div class=\"sk-toggleable__content\"><pre>ColumnTransformer(transformers=[('numpipe',\n",
       "                                 Pipeline(steps=[('numnorm',\n",
       "                                                  StandardScaler())]),\n",
       "                                 Index(['amount_tsh', 'gps_height', 'region_code', 'district_code',\n",
       "       'population', 'construction_year'],\n",
       "      dtype='object')),\n",
       "                                ('nominalpipe',\n",
       "                                 Pipeline(steps=[('onehotenc',\n",
       "                                                  OneHotEncoder(handle_unknown='ignore',\n",
       "                                                                sparse=False)),\n",
       "                                                 ('onehotnorm',\n",
       "                                                  StandardScaler())]),\n",
       "                                 Index(['basin', 'region', 'lga', 'scheme_management', 'extraction_type_group',\n",
       "       'extraction_type_class', 'management', 'management_group',\n",
       "       'payment_type', 'water_quality', 'quantity_group', 'source',\n",
       "       'source_class', 'waterpoint_type'],\n",
       "      dtype='object'))])</pre></div></div></div><div class=\"sk-parallel\"><div class=\"sk-parallel-item\"><div class=\"sk-item\"><div class=\"sk-label-container\"><div class=\"sk-label sk-toggleable\"><input class=\"sk-toggleable__control sk-hidden--visually\" id=\"5a924655-379a-409f-be20-184d8e841096\" type=\"checkbox\" ><label class=\"sk-toggleable__label\" for=\"5a924655-379a-409f-be20-184d8e841096\">numpipe</label><div class=\"sk-toggleable__content\"><pre>Index(['amount_tsh', 'gps_height', 'region_code', 'district_code',\n",
       "       'population', 'construction_year'],\n",
       "      dtype='object')</pre></div></div></div><div class=\"sk-serial\"><div class=\"sk-item\"><div class=\"sk-serial\"><div class=\"sk-item\"><div class=\"sk-estimator sk-toggleable\"><input class=\"sk-toggleable__control sk-hidden--visually\" id=\"3b27bcfa-585e-4339-8dc5-189f69044eb7\" type=\"checkbox\" ><label class=\"sk-toggleable__label\" for=\"3b27bcfa-585e-4339-8dc5-189f69044eb7\">StandardScaler</label><div class=\"sk-toggleable__content\"><pre>StandardScaler()</pre></div></div></div></div></div></div></div></div><div class=\"sk-parallel-item\"><div class=\"sk-item\"><div class=\"sk-label-container\"><div class=\"sk-label sk-toggleable\"><input class=\"sk-toggleable__control sk-hidden--visually\" id=\"0e6510f2-b82e-4ddd-9b42-4ca716186ba6\" type=\"checkbox\" ><label class=\"sk-toggleable__label\" for=\"0e6510f2-b82e-4ddd-9b42-4ca716186ba6\">nominalpipe</label><div class=\"sk-toggleable__content\"><pre>Index(['basin', 'region', 'lga', 'scheme_management', 'extraction_type_group',\n",
       "       'extraction_type_class', 'management', 'management_group',\n",
       "       'payment_type', 'water_quality', 'quantity_group', 'source',\n",
       "       'source_class', 'waterpoint_type'],\n",
       "      dtype='object')</pre></div></div></div><div class=\"sk-serial\"><div class=\"sk-item\"><div class=\"sk-serial\"><div class=\"sk-item\"><div class=\"sk-estimator sk-toggleable\"><input class=\"sk-toggleable__control sk-hidden--visually\" id=\"f9f4550f-f722-4f76-940a-181a9ad4ffd3\" type=\"checkbox\" ><label class=\"sk-toggleable__label\" for=\"f9f4550f-f722-4f76-940a-181a9ad4ffd3\">OneHotEncoder</label><div class=\"sk-toggleable__content\"><pre>OneHotEncoder(handle_unknown='ignore', sparse=False)</pre></div></div></div><div class=\"sk-item\"><div class=\"sk-estimator sk-toggleable\"><input class=\"sk-toggleable__control sk-hidden--visually\" id=\"ec0e5080-eb20-4594-97eb-d0171fd6873b\" type=\"checkbox\" ><label class=\"sk-toggleable__label\" for=\"ec0e5080-eb20-4594-97eb-d0171fd6873b\">StandardScaler</label><div class=\"sk-toggleable__content\"><pre>StandardScaler()</pre></div></div></div></div></div></div></div></div></div></div><div class=\"sk-item\"><div class=\"sk-estimator sk-toggleable\"><input class=\"sk-toggleable__control sk-hidden--visually\" id=\"d2fc07a7-ce98-47cb-94e8-220b4f05b35a\" type=\"checkbox\" ><label class=\"sk-toggleable__label\" for=\"d2fc07a7-ce98-47cb-94e8-220b4f05b35a\">SMOTE</label><div class=\"sk-toggleable__content\"><pre>SMOTE(random_state=42)</pre></div></div></div><div class=\"sk-item\"><div class=\"sk-estimator sk-toggleable\"><input class=\"sk-toggleable__control sk-hidden--visually\" id=\"5da17bf0-c119-42e7-9208-4a5abfb6ae08\" type=\"checkbox\" ><label class=\"sk-toggleable__label\" for=\"5da17bf0-c119-42e7-9208-4a5abfb6ae08\">LogisticRegression</label><div class=\"sk-toggleable__content\"><pre>LogisticRegression(random_state=42)</pre></div></div></div></div></div></div></div></div></div></div></div></div>"
      ],
      "text/plain": [
       "GridSearchCV(estimator=Pipeline(steps=[('preprocess',\n",
       "                                        ColumnTransformer(transformers=[('numpipe',\n",
       "                                                                         Pipeline(steps=[('numnorm',\n",
       "                                                                                          StandardScaler())]),\n",
       "                                                                         Index(['amount_tsh', 'gps_height', 'region_code', 'district_code',\n",
       "       'population', 'construction_year'],\n",
       "      dtype='object')),\n",
       "                                                                        ('nominalpipe',\n",
       "                                                                         Pipeline(steps=[('onehotenc',\n",
       "                                                                                          OneHotEncoder(handle_unknown='ignore',\n",
       "                                                                                                        sparse=Fals...\n",
       "       'extraction_type_class', 'management', 'management_group',\n",
       "       'payment_type', 'water_quality', 'quantity_group', 'source',\n",
       "       'source_class', 'waterpoint_type'],\n",
       "      dtype='object'))])),\n",
       "                                       ('smote', SMOTE(random_state=42)),\n",
       "                                       ('model',\n",
       "                                        LogisticRegression(random_state=42))]),\n",
       "             param_grid={'model__C': [0.0001, 0.001, 0.01, 0.1, 1, 10, 100,\n",
       "                                      1000],\n",
       "                         'model__penalty': ['l1', 'l2', 'elasticnet'],\n",
       "                         'model__solver': ['lbfgs', 'liblinear']})"
      ]
     },
     "execution_count": 22,
     "metadata": {},
     "output_type": "execute_result"
    }
   ],
   "source": [
    "gs_pipe = GridSearchCV(estimator=log,\n",
    "                      param_grid=pipe_grid)\n",
    "gs_pipe"
   ]
  },
  {
   "cell_type": "code",
   "execution_count": 23,
   "metadata": {},
   "outputs": [
    {
     "data": {
      "text/html": [
       "<style>div.sk-top-container {color: black;background-color: white;}div.sk-toggleable {background-color: white;}label.sk-toggleable__label {cursor: pointer;display: block;width: 100%;margin-bottom: 0;padding: 0.2em 0.3em;box-sizing: border-box;text-align: center;}div.sk-toggleable__content {max-height: 0;max-width: 0;overflow: hidden;text-align: left;background-color: #f0f8ff;}div.sk-toggleable__content pre {margin: 0.2em;color: black;border-radius: 0.25em;background-color: #f0f8ff;}input.sk-toggleable__control:checked~div.sk-toggleable__content {max-height: 200px;max-width: 100%;overflow: auto;}div.sk-estimator input.sk-toggleable__control:checked~label.sk-toggleable__label {background-color: #d4ebff;}div.sk-label input.sk-toggleable__control:checked~label.sk-toggleable__label {background-color: #d4ebff;}input.sk-hidden--visually {border: 0;clip: rect(1px 1px 1px 1px);clip: rect(1px, 1px, 1px, 1px);height: 1px;margin: -1px;overflow: hidden;padding: 0;position: absolute;width: 1px;}div.sk-estimator {font-family: monospace;background-color: #f0f8ff;margin: 0.25em 0.25em;border: 1px dotted black;border-radius: 0.25em;box-sizing: border-box;}div.sk-estimator:hover {background-color: #d4ebff;}div.sk-parallel-item::after {content: \"\";width: 100%;border-bottom: 1px solid gray;flex-grow: 1;}div.sk-label:hover label.sk-toggleable__label {background-color: #d4ebff;}div.sk-serial::before {content: \"\";position: absolute;border-left: 1px solid gray;box-sizing: border-box;top: 2em;bottom: 0;left: 50%;}div.sk-serial {display: flex;flex-direction: column;align-items: center;background-color: white;}div.sk-item {z-index: 1;}div.sk-parallel {display: flex;align-items: stretch;justify-content: center;background-color: white;}div.sk-parallel-item {display: flex;flex-direction: column;position: relative;background-color: white;}div.sk-parallel-item:first-child::after {align-self: flex-end;width: 50%;}div.sk-parallel-item:last-child::after {align-self: flex-start;width: 50%;}div.sk-parallel-item:only-child::after {width: 0;}div.sk-dashed-wrapped {border: 1px dashed gray;margin: 0.2em;box-sizing: border-box;padding-bottom: 0.1em;background-color: white;position: relative;}div.sk-label label {font-family: monospace;font-weight: bold;background-color: white;display: inline-block;line-height: 1.2em;}div.sk-label-container {position: relative;z-index: 2;text-align: center;}div.sk-container {display: inline-block;position: relative;}</style><div class=\"sk-top-container\"><div class=\"sk-container\"><div class=\"sk-item sk-dashed-wrapped\"><div class=\"sk-label-container\"><div class=\"sk-label sk-toggleable\"><input class=\"sk-toggleable__control sk-hidden--visually\" id=\"d5e1042b-2b91-4a97-a43f-d4f872700007\" type=\"checkbox\" ><label class=\"sk-toggleable__label\" for=\"d5e1042b-2b91-4a97-a43f-d4f872700007\">GridSearchCV</label><div class=\"sk-toggleable__content\"><pre>GridSearchCV(estimator=Pipeline(steps=[('preprocess',\n",
       "                                        ColumnTransformer(transformers=[('numpipe',\n",
       "                                                                         Pipeline(steps=[('numnorm',\n",
       "                                                                                          StandardScaler())]),\n",
       "                                                                         Index(['amount_tsh', 'gps_height', 'region_code', 'district_code',\n",
       "       'population', 'construction_year'],\n",
       "      dtype='object')),\n",
       "                                                                        ('nominalpipe',\n",
       "                                                                         Pipeline(steps=[('onehotenc',\n",
       "                                                                                          OneHotEncoder(handle_unknown='ignore',\n",
       "                                                                                                        sparse=Fals...\n",
       "       'extraction_type_class', 'management', 'management_group',\n",
       "       'payment_type', 'water_quality', 'quantity_group', 'source',\n",
       "       'source_class', 'waterpoint_type'],\n",
       "      dtype='object'))])),\n",
       "                                       ('smote', SMOTE(random_state=42)),\n",
       "                                       ('model',\n",
       "                                        LogisticRegression(random_state=42))]),\n",
       "             param_grid={'model__C': [0.0001, 0.001, 0.01, 0.1, 1, 10, 100,\n",
       "                                      1000],\n",
       "                         'model__penalty': ['l1', 'l2', 'elasticnet'],\n",
       "                         'model__solver': ['lbfgs', 'liblinear']})</pre></div></div></div><div class=\"sk-parallel\"><div class=\"sk-parallel-item\"><div class=\"sk-item\"><div class=\"sk-serial\"><div class=\"sk-item\"><div class=\"sk-serial\"><div class=\"sk-item sk-dashed-wrapped\"><div class=\"sk-label-container\"><div class=\"sk-label sk-toggleable\"><input class=\"sk-toggleable__control sk-hidden--visually\" id=\"61869bed-2b89-4c9e-9ed0-6e46ddbf7313\" type=\"checkbox\" ><label class=\"sk-toggleable__label\" for=\"61869bed-2b89-4c9e-9ed0-6e46ddbf7313\">preprocess: ColumnTransformer</label><div class=\"sk-toggleable__content\"><pre>ColumnTransformer(transformers=[('numpipe',\n",
       "                                 Pipeline(steps=[('numnorm',\n",
       "                                                  StandardScaler())]),\n",
       "                                 Index(['amount_tsh', 'gps_height', 'region_code', 'district_code',\n",
       "       'population', 'construction_year'],\n",
       "      dtype='object')),\n",
       "                                ('nominalpipe',\n",
       "                                 Pipeline(steps=[('onehotenc',\n",
       "                                                  OneHotEncoder(handle_unknown='ignore',\n",
       "                                                                sparse=False)),\n",
       "                                                 ('onehotnorm',\n",
       "                                                  StandardScaler())]),\n",
       "                                 Index(['basin', 'region', 'lga', 'scheme_management', 'extraction_type_group',\n",
       "       'extraction_type_class', 'management', 'management_group',\n",
       "       'payment_type', 'water_quality', 'quantity_group', 'source',\n",
       "       'source_class', 'waterpoint_type'],\n",
       "      dtype='object'))])</pre></div></div></div><div class=\"sk-parallel\"><div class=\"sk-parallel-item\"><div class=\"sk-item\"><div class=\"sk-label-container\"><div class=\"sk-label sk-toggleable\"><input class=\"sk-toggleable__control sk-hidden--visually\" id=\"232425ff-9572-4c94-8386-ccf1864b7091\" type=\"checkbox\" ><label class=\"sk-toggleable__label\" for=\"232425ff-9572-4c94-8386-ccf1864b7091\">numpipe</label><div class=\"sk-toggleable__content\"><pre>Index(['amount_tsh', 'gps_height', 'region_code', 'district_code',\n",
       "       'population', 'construction_year'],\n",
       "      dtype='object')</pre></div></div></div><div class=\"sk-serial\"><div class=\"sk-item\"><div class=\"sk-serial\"><div class=\"sk-item\"><div class=\"sk-estimator sk-toggleable\"><input class=\"sk-toggleable__control sk-hidden--visually\" id=\"5ea238f3-d5d9-441b-ae7b-c97d045ac89b\" type=\"checkbox\" ><label class=\"sk-toggleable__label\" for=\"5ea238f3-d5d9-441b-ae7b-c97d045ac89b\">StandardScaler</label><div class=\"sk-toggleable__content\"><pre>StandardScaler()</pre></div></div></div></div></div></div></div></div><div class=\"sk-parallel-item\"><div class=\"sk-item\"><div class=\"sk-label-container\"><div class=\"sk-label sk-toggleable\"><input class=\"sk-toggleable__control sk-hidden--visually\" id=\"4246e61f-b6e6-4ed4-9592-772f19351e1f\" type=\"checkbox\" ><label class=\"sk-toggleable__label\" for=\"4246e61f-b6e6-4ed4-9592-772f19351e1f\">nominalpipe</label><div class=\"sk-toggleable__content\"><pre>Index(['basin', 'region', 'lga', 'scheme_management', 'extraction_type_group',\n",
       "       'extraction_type_class', 'management', 'management_group',\n",
       "       'payment_type', 'water_quality', 'quantity_group', 'source',\n",
       "       'source_class', 'waterpoint_type'],\n",
       "      dtype='object')</pre></div></div></div><div class=\"sk-serial\"><div class=\"sk-item\"><div class=\"sk-serial\"><div class=\"sk-item\"><div class=\"sk-estimator sk-toggleable\"><input class=\"sk-toggleable__control sk-hidden--visually\" id=\"0d9a16c1-78f9-488d-bd5a-69a7e423253b\" type=\"checkbox\" ><label class=\"sk-toggleable__label\" for=\"0d9a16c1-78f9-488d-bd5a-69a7e423253b\">OneHotEncoder</label><div class=\"sk-toggleable__content\"><pre>OneHotEncoder(handle_unknown='ignore', sparse=False)</pre></div></div></div><div class=\"sk-item\"><div class=\"sk-estimator sk-toggleable\"><input class=\"sk-toggleable__control sk-hidden--visually\" id=\"6c4dabb5-3812-43f0-9780-13581233e701\" type=\"checkbox\" ><label class=\"sk-toggleable__label\" for=\"6c4dabb5-3812-43f0-9780-13581233e701\">StandardScaler</label><div class=\"sk-toggleable__content\"><pre>StandardScaler()</pre></div></div></div></div></div></div></div></div></div></div><div class=\"sk-item\"><div class=\"sk-estimator sk-toggleable\"><input class=\"sk-toggleable__control sk-hidden--visually\" id=\"51ae62c3-9c5c-4c66-a8e9-53bb750835ab\" type=\"checkbox\" ><label class=\"sk-toggleable__label\" for=\"51ae62c3-9c5c-4c66-a8e9-53bb750835ab\">SMOTE</label><div class=\"sk-toggleable__content\"><pre>SMOTE(random_state=42)</pre></div></div></div><div class=\"sk-item\"><div class=\"sk-estimator sk-toggleable\"><input class=\"sk-toggleable__control sk-hidden--visually\" id=\"aa2021cd-a531-4eda-9dff-08f41dd92ecf\" type=\"checkbox\" ><label class=\"sk-toggleable__label\" for=\"aa2021cd-a531-4eda-9dff-08f41dd92ecf\">LogisticRegression</label><div class=\"sk-toggleable__content\"><pre>LogisticRegression(random_state=42)</pre></div></div></div></div></div></div></div></div></div></div></div></div>"
      ],
      "text/plain": [
       "GridSearchCV(estimator=Pipeline(steps=[('preprocess',\n",
       "                                        ColumnTransformer(transformers=[('numpipe',\n",
       "                                                                         Pipeline(steps=[('numnorm',\n",
       "                                                                                          StandardScaler())]),\n",
       "                                                                         Index(['amount_tsh', 'gps_height', 'region_code', 'district_code',\n",
       "       'population', 'construction_year'],\n",
       "      dtype='object')),\n",
       "                                                                        ('nominalpipe',\n",
       "                                                                         Pipeline(steps=[('onehotenc',\n",
       "                                                                                          OneHotEncoder(handle_unknown='ignore',\n",
       "                                                                                                        sparse=Fals...\n",
       "       'extraction_type_class', 'management', 'management_group',\n",
       "       'payment_type', 'water_quality', 'quantity_group', 'source',\n",
       "       'source_class', 'waterpoint_type'],\n",
       "      dtype='object'))])),\n",
       "                                       ('smote', SMOTE(random_state=42)),\n",
       "                                       ('model',\n",
       "                                        LogisticRegression(random_state=42))]),\n",
       "             param_grid={'model__C': [0.0001, 0.001, 0.01, 0.1, 1, 10, 100,\n",
       "                                      1000],\n",
       "                         'model__penalty': ['l1', 'l2', 'elasticnet'],\n",
       "                         'model__solver': ['lbfgs', 'liblinear']})"
      ]
     },
     "execution_count": 23,
     "metadata": {},
     "output_type": "execute_result"
    }
   ],
   "source": [
    "gs_pipe.fit(X_train,y_train)"
   ]
  },
  {
   "cell_type": "code",
   "execution_count": 24,
   "metadata": {},
   "outputs": [
    {
     "data": {
      "text/plain": [
       "{'model__C': 0.01, 'model__penalty': 'l1', 'model__solver': 'liblinear'}"
      ]
     },
     "execution_count": 24,
     "metadata": {},
     "output_type": "execute_result"
    }
   ],
   "source": [
    "gs_pipe.best_params_"
   ]
  },
  {
   "cell_type": "code",
   "execution_count": 26,
   "metadata": {},
   "outputs": [
    {
     "data": {
      "text/plain": [
       "0.6522366522366523"
      ]
     },
     "execution_count": 26,
     "metadata": {},
     "output_type": "execute_result"
    }
   ],
   "source": [
    "gs_pipe.best_score_"
   ]
  },
  {
   "cell_type": "markdown",
   "metadata": {},
   "source": [
    "# Best Model"
   ]
  },
  {
   "cell_type": "code",
   "execution_count": 27,
   "metadata": {},
   "outputs": [
    {
     "data": {
      "text/html": [
       "<style>div.sk-top-container {color: black;background-color: white;}div.sk-toggleable {background-color: white;}label.sk-toggleable__label {cursor: pointer;display: block;width: 100%;margin-bottom: 0;padding: 0.2em 0.3em;box-sizing: border-box;text-align: center;}div.sk-toggleable__content {max-height: 0;max-width: 0;overflow: hidden;text-align: left;background-color: #f0f8ff;}div.sk-toggleable__content pre {margin: 0.2em;color: black;border-radius: 0.25em;background-color: #f0f8ff;}input.sk-toggleable__control:checked~div.sk-toggleable__content {max-height: 200px;max-width: 100%;overflow: auto;}div.sk-estimator input.sk-toggleable__control:checked~label.sk-toggleable__label {background-color: #d4ebff;}div.sk-label input.sk-toggleable__control:checked~label.sk-toggleable__label {background-color: #d4ebff;}input.sk-hidden--visually {border: 0;clip: rect(1px 1px 1px 1px);clip: rect(1px, 1px, 1px, 1px);height: 1px;margin: -1px;overflow: hidden;padding: 0;position: absolute;width: 1px;}div.sk-estimator {font-family: monospace;background-color: #f0f8ff;margin: 0.25em 0.25em;border: 1px dotted black;border-radius: 0.25em;box-sizing: border-box;}div.sk-estimator:hover {background-color: #d4ebff;}div.sk-parallel-item::after {content: \"\";width: 100%;border-bottom: 1px solid gray;flex-grow: 1;}div.sk-label:hover label.sk-toggleable__label {background-color: #d4ebff;}div.sk-serial::before {content: \"\";position: absolute;border-left: 1px solid gray;box-sizing: border-box;top: 2em;bottom: 0;left: 50%;}div.sk-serial {display: flex;flex-direction: column;align-items: center;background-color: white;}div.sk-item {z-index: 1;}div.sk-parallel {display: flex;align-items: stretch;justify-content: center;background-color: white;}div.sk-parallel-item {display: flex;flex-direction: column;position: relative;background-color: white;}div.sk-parallel-item:first-child::after {align-self: flex-end;width: 50%;}div.sk-parallel-item:last-child::after {align-self: flex-start;width: 50%;}div.sk-parallel-item:only-child::after {width: 0;}div.sk-dashed-wrapped {border: 1px dashed gray;margin: 0.2em;box-sizing: border-box;padding-bottom: 0.1em;background-color: white;position: relative;}div.sk-label label {font-family: monospace;font-weight: bold;background-color: white;display: inline-block;line-height: 1.2em;}div.sk-label-container {position: relative;z-index: 2;text-align: center;}div.sk-container {display: inline-block;position: relative;}</style><div class=\"sk-top-container\"><div class=\"sk-container\"><div class=\"sk-item sk-dashed-wrapped\"><div class=\"sk-label-container\"><div class=\"sk-label sk-toggleable\"><input class=\"sk-toggleable__control sk-hidden--visually\" id=\"ec1a1714-fea2-49d1-ae81-4e1e4ba2838c\" type=\"checkbox\" ><label class=\"sk-toggleable__label\" for=\"ec1a1714-fea2-49d1-ae81-4e1e4ba2838c\">Pipeline</label><div class=\"sk-toggleable__content\"><pre>Pipeline(steps=[('preprocess',\n",
       "                 ColumnTransformer(transformers=[('numpipe',\n",
       "                                                  Pipeline(steps=[('numnorm',\n",
       "                                                                   StandardScaler())]),\n",
       "                                                  Index(['amount_tsh', 'gps_height', 'region_code', 'district_code',\n",
       "       'population', 'construction_year'],\n",
       "      dtype='object')),\n",
       "                                                 ('nominalpipe',\n",
       "                                                  Pipeline(steps=[('onehotenc',\n",
       "                                                                   OneHotEncoder(handle_unknown='ignore',\n",
       "                                                                                 sparse=False)),\n",
       "                                                                  ('onehotnorm',\n",
       "                                                                   Stand...\n",
       "                                                  Index(['basin', 'region', 'lga', 'scheme_management', 'extraction_type_group',\n",
       "       'extraction_type_class', 'management', 'management_group',\n",
       "       'payment_type', 'water_quality', 'quantity_group', 'source',\n",
       "       'source_class', 'waterpoint_type'],\n",
       "      dtype='object'))])),\n",
       "                ('smote', SMOTE(random_state=42)),\n",
       "                ('model',\n",
       "                 LogisticRegression(C=0.01, penalty='l1', random_state=42,\n",
       "                                    solver='liblinear'))])</pre></div></div></div><div class=\"sk-serial\"><div class=\"sk-item sk-dashed-wrapped\"><div class=\"sk-label-container\"><div class=\"sk-label sk-toggleable\"><input class=\"sk-toggleable__control sk-hidden--visually\" id=\"fd84bd37-1186-4a50-bfab-223f0075db98\" type=\"checkbox\" ><label class=\"sk-toggleable__label\" for=\"fd84bd37-1186-4a50-bfab-223f0075db98\">preprocess: ColumnTransformer</label><div class=\"sk-toggleable__content\"><pre>ColumnTransformer(transformers=[('numpipe',\n",
       "                                 Pipeline(steps=[('numnorm',\n",
       "                                                  StandardScaler())]),\n",
       "                                 Index(['amount_tsh', 'gps_height', 'region_code', 'district_code',\n",
       "       'population', 'construction_year'],\n",
       "      dtype='object')),\n",
       "                                ('nominalpipe',\n",
       "                                 Pipeline(steps=[('onehotenc',\n",
       "                                                  OneHotEncoder(handle_unknown='ignore',\n",
       "                                                                sparse=False)),\n",
       "                                                 ('onehotnorm',\n",
       "                                                  StandardScaler())]),\n",
       "                                 Index(['basin', 'region', 'lga', 'scheme_management', 'extraction_type_group',\n",
       "       'extraction_type_class', 'management', 'management_group',\n",
       "       'payment_type', 'water_quality', 'quantity_group', 'source',\n",
       "       'source_class', 'waterpoint_type'],\n",
       "      dtype='object'))])</pre></div></div></div><div class=\"sk-parallel\"><div class=\"sk-parallel-item\"><div class=\"sk-item\"><div class=\"sk-label-container\"><div class=\"sk-label sk-toggleable\"><input class=\"sk-toggleable__control sk-hidden--visually\" id=\"65dedb57-317a-4ce9-bae7-2d9557c2b6a0\" type=\"checkbox\" ><label class=\"sk-toggleable__label\" for=\"65dedb57-317a-4ce9-bae7-2d9557c2b6a0\">numpipe</label><div class=\"sk-toggleable__content\"><pre>Index(['amount_tsh', 'gps_height', 'region_code', 'district_code',\n",
       "       'population', 'construction_year'],\n",
       "      dtype='object')</pre></div></div></div><div class=\"sk-serial\"><div class=\"sk-item\"><div class=\"sk-serial\"><div class=\"sk-item\"><div class=\"sk-estimator sk-toggleable\"><input class=\"sk-toggleable__control sk-hidden--visually\" id=\"ad2d1994-eeae-489a-810c-e50e03b12acf\" type=\"checkbox\" ><label class=\"sk-toggleable__label\" for=\"ad2d1994-eeae-489a-810c-e50e03b12acf\">StandardScaler</label><div class=\"sk-toggleable__content\"><pre>StandardScaler()</pre></div></div></div></div></div></div></div></div><div class=\"sk-parallel-item\"><div class=\"sk-item\"><div class=\"sk-label-container\"><div class=\"sk-label sk-toggleable\"><input class=\"sk-toggleable__control sk-hidden--visually\" id=\"4494a41b-8bde-478a-a8d7-47c7abb3d806\" type=\"checkbox\" ><label class=\"sk-toggleable__label\" for=\"4494a41b-8bde-478a-a8d7-47c7abb3d806\">nominalpipe</label><div class=\"sk-toggleable__content\"><pre>Index(['basin', 'region', 'lga', 'scheme_management', 'extraction_type_group',\n",
       "       'extraction_type_class', 'management', 'management_group',\n",
       "       'payment_type', 'water_quality', 'quantity_group', 'source',\n",
       "       'source_class', 'waterpoint_type'],\n",
       "      dtype='object')</pre></div></div></div><div class=\"sk-serial\"><div class=\"sk-item\"><div class=\"sk-serial\"><div class=\"sk-item\"><div class=\"sk-estimator sk-toggleable\"><input class=\"sk-toggleable__control sk-hidden--visually\" id=\"c43665df-50ff-4915-bbed-f2b7ad6a4402\" type=\"checkbox\" ><label class=\"sk-toggleable__label\" for=\"c43665df-50ff-4915-bbed-f2b7ad6a4402\">OneHotEncoder</label><div class=\"sk-toggleable__content\"><pre>OneHotEncoder(handle_unknown='ignore', sparse=False)</pre></div></div></div><div class=\"sk-item\"><div class=\"sk-estimator sk-toggleable\"><input class=\"sk-toggleable__control sk-hidden--visually\" id=\"396a6267-2336-43a1-9bfa-1095c26e1969\" type=\"checkbox\" ><label class=\"sk-toggleable__label\" for=\"396a6267-2336-43a1-9bfa-1095c26e1969\">StandardScaler</label><div class=\"sk-toggleable__content\"><pre>StandardScaler()</pre></div></div></div></div></div></div></div></div></div></div><div class=\"sk-item\"><div class=\"sk-estimator sk-toggleable\"><input class=\"sk-toggleable__control sk-hidden--visually\" id=\"3b6721ad-b7d6-4b29-8221-9eb5fca98b62\" type=\"checkbox\" ><label class=\"sk-toggleable__label\" for=\"3b6721ad-b7d6-4b29-8221-9eb5fca98b62\">SMOTE</label><div class=\"sk-toggleable__content\"><pre>SMOTE(random_state=42)</pre></div></div></div><div class=\"sk-item\"><div class=\"sk-estimator sk-toggleable\"><input class=\"sk-toggleable__control sk-hidden--visually\" id=\"a815c0e5-17d0-410a-b147-01a2de9d7289\" type=\"checkbox\" ><label class=\"sk-toggleable__label\" for=\"a815c0e5-17d0-410a-b147-01a2de9d7289\">LogisticRegression</label><div class=\"sk-toggleable__content\"><pre>LogisticRegression(C=0.01, penalty='l1', random_state=42, solver='liblinear')</pre></div></div></div></div></div></div></div>"
      ],
      "text/plain": [
       "Pipeline(steps=[('preprocess',\n",
       "                 ColumnTransformer(transformers=[('numpipe',\n",
       "                                                  Pipeline(steps=[('numnorm',\n",
       "                                                                   StandardScaler())]),\n",
       "                                                  Index(['amount_tsh', 'gps_height', 'region_code', 'district_code',\n",
       "       'population', 'construction_year'],\n",
       "      dtype='object')),\n",
       "                                                 ('nominalpipe',\n",
       "                                                  Pipeline(steps=[('onehotenc',\n",
       "                                                                   OneHotEncoder(handle_unknown='ignore',\n",
       "                                                                                 sparse=False)),\n",
       "                                                                  ('onehotnorm',\n",
       "                                                                   Stand...\n",
       "                                                  Index(['basin', 'region', 'lga', 'scheme_management', 'extraction_type_group',\n",
       "       'extraction_type_class', 'management', 'management_group',\n",
       "       'payment_type', 'water_quality', 'quantity_group', 'source',\n",
       "       'source_class', 'waterpoint_type'],\n",
       "      dtype='object'))])),\n",
       "                ('smote', SMOTE(random_state=42)),\n",
       "                ('model',\n",
       "                 LogisticRegression(C=0.01, penalty='l1', random_state=42,\n",
       "                                    solver='liblinear'))])"
      ]
     },
     "execution_count": 27,
     "metadata": {},
     "output_type": "execute_result"
    }
   ],
   "source": [
    "best_model = gs_pipe.best_estimator_\n",
    "best_model"
   ]
  },
  {
   "cell_type": "code",
   "execution_count": 28,
   "metadata": {},
   "outputs": [
    {
     "data": {
      "image/png": "[encoded data removed]",
      "text/plain": [
       "<Figure size 432x288 with 2 Axes>"
      ]
     },
     "metadata": {
      "needs_background": "light"
     },
     "output_type": "display_data"
    }
   ],
   "source": [
    "best_model.fit(X_train,y_train)\n",
    "best_y_pred = best_model.predict(X_test)\n",
    "cm = confusion_matrix(y_test, best_y_pred)\n",
    "disp = ConfusionMatrixDisplay(confusion_matrix=cm\n",
    "                              )\n",
    "disp.plot();"
   ]
  },
  {
   "cell_type": "code",
   "execution_count": 29,
   "metadata": {},
   "outputs": [
    {
     "name": "stdout",
     "output_type": "stream",
     "text": [
      "                         precision    recall  f1-score   support\n",
      "\n",
      "             functional       0.80      0.64      0.71      9724\n",
      "functional needs repair       0.21      0.70      0.32      1293\n",
      "         non functional       0.78      0.64      0.71      6803\n",
      "\n",
      "               accuracy                           0.65     17820\n",
      "              macro avg       0.60      0.66      0.58     17820\n",
      "           weighted avg       0.75      0.65      0.68     17820\n",
      "\n"
     ]
    }
   ],
   "source": [
    "print(classification_report(y_test, best_y_pred))"
   ]
  },
  {
   "cell_type": "code",
   "execution_count": 31,
   "metadata": {},
   "outputs": [
    {
     "data": {
      "text/plain": [
       "0.8378050495060343"
      ]
     },
     "execution_count": 31,
     "metadata": {},
     "output_type": "execute_result"
    }
   ],
   "source": [
    "best_y_score = best_model.fit(X_train, y_train).predict_proba(X_test)\n",
    "\n",
    "\n",
    "\n",
    "best_micro_roc_auc_ovr = roc_auc_score(\n",
    "    y_test,\n",
    "    best_y_score,\n",
    "    multi_class=\"ovr\",\n",
    ")\n",
    "best_micro_roc_auc_ovr"
   ]
  },
  {
   "cell_type": "code",
   "execution_count": null,
   "metadata": {},
   "outputs": [],
   "source": [
    "# from sklearn.externals import joblib\n",
    "# np.random.seed(0)\n",
    "\n",
    "# Save model\n",
    "#joblib.dump(gs_pipe.best_estimator_, 'best_log.pkl', compress = 1) # this unfortunately includes the LogReg\n",
    "#joblib.dump(gs_pipe.best_params_, 'best_log.pkl', compress = 1) # Only best parameters\n",
    "\n",
    "\n",
    "# Load best parameters\n",
    "# log_params = joblib.load('best_log.pkl')\n",
    "\n",
    "\n",
    "\n",
    "\n",
    "\n",
    "# pipeline = Pipeline([\n",
    "#   ('vec', TfidfVectorizer(preprocessor=' '.join, tokenizer=None).set_params(**log_params)), # here is the issue?\n",
    "#   ('clf', LogisticRegression())\n",
    "#   ])\n",
    "\n",
    "\n",
    "# dont do this \n",
    "\n",
    "# cval = cross_val_score(pipeline, X_train, y_train, scoring='accuracy', cv=5)\n",
    "# print(\"Cross-Validation Score: %s\" % (np.mean(cval)))"
   ]
  },
  {
   "cell_type": "code",
   "execution_count": 32,
   "metadata": {},
   "outputs": [],
   "source": [
    "from joblib import dump, load\n",
    "dump(gs_pipe.best_params_, 'log_best_params.joblib') \n",
    "clf = load('log_best_params.joblib')"
   ]
  },
  {
   "cell_type": "code",
   "execution_count": null,
   "metadata": {},
   "outputs": [],
   "source": []
  }
 ],
 "metadata": {
  "kernelspec": {
   "display_name": "Python (learn-env)",
   "language": "python",
   "name": "learn-env"
  }
 },
 "nbformat": 4,
 "nbformat_minor": 4
}
